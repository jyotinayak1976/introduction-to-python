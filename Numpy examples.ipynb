{
 "cells": [
  {
   "cell_type": "code",
   "execution_count": 1,
   "metadata": {
    "collapsed": true
   },
   "outputs": [],
   "source": [
    "import numpy as np"
   ]
  },
  {
   "cell_type": "code",
   "execution_count": 2,
   "metadata": {
    "collapsed": true
   },
   "outputs": [],
   "source": [
    "list1 = [1,2,3,4]"
   ]
  },
  {
   "cell_type": "code",
   "execution_count": 3,
   "metadata": {
    "collapsed": true
   },
   "outputs": [],
   "source": [
    "my_arr1 = np.array(list1)"
   ]
  },
  {
   "cell_type": "code",
   "execution_count": 4,
   "metadata": {
    "collapsed": false
   },
   "outputs": [
    {
     "data": {
      "text/plain": [
       "array([1, 2, 3, 4])"
      ]
     },
     "execution_count": 4,
     "metadata": {},
     "output_type": "execute_result"
    }
   ],
   "source": [
    "my_arr1"
   ]
  },
  {
   "cell_type": "code",
   "execution_count": 5,
   "metadata": {
    "collapsed": false
   },
   "outputs": [
    {
     "data": {
      "text/plain": [
       "(4L,)"
      ]
     },
     "execution_count": 5,
     "metadata": {},
     "output_type": "execute_result"
    }
   ],
   "source": [
    "my_arr1.shape"
   ]
  },
  {
   "cell_type": "code",
   "execution_count": 6,
   "metadata": {
    "collapsed": true
   },
   "outputs": [],
   "source": [
    "list2 = [11,22,33,44]"
   ]
  },
  {
   "cell_type": "code",
   "execution_count": 7,
   "metadata": {
    "collapsed": false
   },
   "outputs": [],
   "source": [
    "final_list = [list1,list2]"
   ]
  },
  {
   "cell_type": "code",
   "execution_count": 8,
   "metadata": {
    "collapsed": true
   },
   "outputs": [],
   "source": [
    "my_arr2 = np.array(final_list)"
   ]
  },
  {
   "cell_type": "code",
   "execution_count": 9,
   "metadata": {
    "collapsed": false
   },
   "outputs": [
    {
     "data": {
      "text/plain": [
       "array([[ 1,  2,  3,  4],\n",
       "       [11, 22, 33, 44]])"
      ]
     },
     "execution_count": 9,
     "metadata": {},
     "output_type": "execute_result"
    }
   ],
   "source": [
    "my_arr2"
   ]
  },
  {
   "cell_type": "code",
   "execution_count": 10,
   "metadata": {
    "collapsed": false
   },
   "outputs": [
    {
     "data": {
      "text/plain": [
       "(2L, 4L)"
      ]
     },
     "execution_count": 10,
     "metadata": {},
     "output_type": "execute_result"
    }
   ],
   "source": [
    "my_arr2.shape"
   ]
  },
  {
   "cell_type": "code",
   "execution_count": 11,
   "metadata": {
    "collapsed": false
   },
   "outputs": [
    {
     "data": {
      "text/plain": [
       "dtype('int32')"
      ]
     },
     "execution_count": 11,
     "metadata": {},
     "output_type": "execute_result"
    }
   ],
   "source": [
    "my_arr2.dtype"
   ]
  },
  {
   "cell_type": "code",
   "execution_count": 12,
   "metadata": {
    "collapsed": false
   },
   "outputs": [],
   "source": [
    "zero_array = np.zeros([5,5])"
   ]
  },
  {
   "cell_type": "code",
   "execution_count": 13,
   "metadata": {
    "collapsed": false
   },
   "outputs": [
    {
     "data": {
      "text/plain": [
       "array([[ 0.,  0.,  0.,  0.,  0.],\n",
       "       [ 0.,  0.,  0.,  0.,  0.],\n",
       "       [ 0.,  0.,  0.,  0.,  0.],\n",
       "       [ 0.,  0.,  0.,  0.,  0.],\n",
       "       [ 0.,  0.,  0.,  0.,  0.]])"
      ]
     },
     "execution_count": 13,
     "metadata": {},
     "output_type": "execute_result"
    }
   ],
   "source": [
    "zero_array"
   ]
  },
  {
   "cell_type": "code",
   "execution_count": 14,
   "metadata": {
    "collapsed": false
   },
   "outputs": [],
   "source": [
    "one_matrix = np.ones([5,5])"
   ]
  },
  {
   "cell_type": "code",
   "execution_count": 15,
   "metadata": {
    "collapsed": false
   },
   "outputs": [
    {
     "data": {
      "text/plain": [
       "array([[ 1.,  1.,  1.,  1.,  1.],\n",
       "       [ 1.,  1.,  1.,  1.,  1.],\n",
       "       [ 1.,  1.,  1.,  1.,  1.],\n",
       "       [ 1.,  1.,  1.,  1.,  1.],\n",
       "       [ 1.,  1.,  1.,  1.,  1.]])"
      ]
     },
     "execution_count": 15,
     "metadata": {},
     "output_type": "execute_result"
    }
   ],
   "source": [
    "one_matrix"
   ]
  },
  {
   "cell_type": "code",
   "execution_count": 16,
   "metadata": {
    "collapsed": true
   },
   "outputs": [],
   "source": [
    "empty = np.empty([3,4])"
   ]
  },
  {
   "cell_type": "code",
   "execution_count": 17,
   "metadata": {
    "collapsed": false
   },
   "outputs": [
    {
     "data": {
      "text/plain": [
       "array([[  2.44255186e-316,   3.16202013e-322,   0.00000000e+000,\n",
       "          0.00000000e+000],\n",
       "       [  0.00000000e+000,   2.21437617e+160,   9.85873846e+165,\n",
       "          1.47765285e-075],\n",
       "       [  3.46671453e+179,   1.83053855e-076,   2.62140821e+180,\n",
       "          7.69886505e+169]])"
      ]
     },
     "execution_count": 17,
     "metadata": {},
     "output_type": "execute_result"
    }
   ],
   "source": [
    "empty"
   ]
  },
  {
   "cell_type": "code",
   "execution_count": 18,
   "metadata": {
    "collapsed": false
   },
   "outputs": [
    {
     "data": {
      "text/plain": [
       "dtype('float64')"
      ]
     },
     "execution_count": 18,
     "metadata": {},
     "output_type": "execute_result"
    }
   ],
   "source": [
    "empty.dtype"
   ]
  },
  {
   "cell_type": "code",
   "execution_count": 19,
   "metadata": {
    "collapsed": true
   },
   "outputs": [],
   "source": [
    "identity_matrix = np.eye(5)"
   ]
  },
  {
   "cell_type": "code",
   "execution_count": 20,
   "metadata": {
    "collapsed": false
   },
   "outputs": [
    {
     "data": {
      "text/plain": [
       "array([[ 1.,  0.,  0.,  0.,  0.],\n",
       "       [ 0.,  1.,  0.,  0.,  0.],\n",
       "       [ 0.,  0.,  1.,  0.,  0.],\n",
       "       [ 0.,  0.,  0.,  1.,  0.],\n",
       "       [ 0.,  0.,  0.,  0.,  1.]])"
      ]
     },
     "execution_count": 20,
     "metadata": {},
     "output_type": "execute_result"
    }
   ],
   "source": [
    "identity_matrix"
   ]
  },
  {
   "cell_type": "code",
   "execution_count": 21,
   "metadata": {
    "collapsed": true
   },
   "outputs": [],
   "source": [
    "sequence = np.arange(1,5,2)"
   ]
  },
  {
   "cell_type": "code",
   "execution_count": 22,
   "metadata": {
    "collapsed": false
   },
   "outputs": [
    {
     "data": {
      "text/plain": [
       "array([1, 3])"
      ]
     },
     "execution_count": 22,
     "metadata": {},
     "output_type": "execute_result"
    }
   ],
   "source": [
    "sequence"
   ]
  },
  {
   "cell_type": "code",
   "execution_count": 35,
   "metadata": {
    "collapsed": false
   },
   "outputs": [],
   "source": [
    "from __future__ import division"
   ]
  },
  {
   "cell_type": "code",
   "execution_count": 36,
   "metadata": {
    "collapsed": false
   },
   "outputs": [
    {
     "data": {
      "text/plain": [
       "1.6666666666666667"
      ]
     },
     "execution_count": 36,
     "metadata": {},
     "output_type": "execute_result"
    }
   ],
   "source": [
    "5/3"
   ]
  },
  {
   "cell_type": "code",
   "execution_count": 40,
   "metadata": {
    "collapsed": false
   },
   "outputs": [
    {
     "data": {
      "text/plain": [
       "array([[   1,    4,    9,   16],\n",
       "       [ 121,  484, 1089, 1936]])"
      ]
     },
     "execution_count": 40,
     "metadata": {},
     "output_type": "execute_result"
    }
   ],
   "source": [
    "my_arr2 * my_arr2"
   ]
  },
  {
   "cell_type": "code",
   "execution_count": 41,
   "metadata": {
    "collapsed": false
   },
   "outputs": [
    {
     "data": {
      "text/plain": [
       "array([[    1,     8,    27,    64],\n",
       "       [ 1331, 10648, 35937, 85184]])"
      ]
     },
     "execution_count": 41,
     "metadata": {},
     "output_type": "execute_result"
    }
   ],
   "source": [
    "my_arr2 ** 3"
   ]
  },
  {
   "cell_type": "code",
   "execution_count": 42,
   "metadata": {
    "collapsed": true
   },
   "outputs": [],
   "source": [
    "xyz = np.arange(0,11,2)"
   ]
  },
  {
   "cell_type": "code",
   "execution_count": 43,
   "metadata": {
    "collapsed": false
   },
   "outputs": [
    {
     "data": {
      "text/plain": [
       "array([ 0,  2,  4,  6,  8, 10])"
      ]
     },
     "execution_count": 43,
     "metadata": {},
     "output_type": "execute_result"
    }
   ],
   "source": [
    "xyz"
   ]
  },
  {
   "cell_type": "code",
   "execution_count": 44,
   "metadata": {
    "collapsed": false
   },
   "outputs": [
    {
     "data": {
      "text/plain": [
       "6"
      ]
     },
     "execution_count": 44,
     "metadata": {},
     "output_type": "execute_result"
    }
   ],
   "source": [
    "xyz[3]"
   ]
  },
  {
   "cell_type": "code",
   "execution_count": 45,
   "metadata": {
    "collapsed": false
   },
   "outputs": [
    {
     "data": {
      "text/plain": [
       "array([2, 4])"
      ]
     },
     "execution_count": 45,
     "metadata": {},
     "output_type": "execute_result"
    }
   ],
   "source": [
    "xyz[1:3]"
   ]
  },
  {
   "cell_type": "code",
   "execution_count": 47,
   "metadata": {
    "collapsed": true
   },
   "outputs": [],
   "source": [
    "xyz[1:3] = 25"
   ]
  },
  {
   "cell_type": "code",
   "execution_count": 48,
   "metadata": {
    "collapsed": false
   },
   "outputs": [
    {
     "data": {
      "text/plain": [
       "array([ 0, 25, 25,  6,  8, 10])"
      ]
     },
     "execution_count": 48,
     "metadata": {},
     "output_type": "execute_result"
    }
   ],
   "source": [
    "xyz"
   ]
  },
  {
   "cell_type": "code",
   "execution_count": 50,
   "metadata": {
    "collapsed": true
   },
   "outputs": [],
   "source": [
    "slice_of_arr = xyz[3:5]"
   ]
  },
  {
   "cell_type": "code",
   "execution_count": 51,
   "metadata": {
    "collapsed": false
   },
   "outputs": [
    {
     "data": {
      "text/plain": [
       "array([6, 8])"
      ]
     },
     "execution_count": 51,
     "metadata": {},
     "output_type": "execute_result"
    }
   ],
   "source": [
    "slice_of_arr "
   ]
  },
  {
   "cell_type": "code",
   "execution_count": 52,
   "metadata": {
    "collapsed": true
   },
   "outputs": [],
   "source": [
    "slice_of_arr[:] = 20"
   ]
  },
  {
   "cell_type": "code",
   "execution_count": 53,
   "metadata": {
    "collapsed": false
   },
   "outputs": [
    {
     "data": {
      "text/plain": [
       "array([20, 20])"
      ]
     },
     "execution_count": 53,
     "metadata": {},
     "output_type": "execute_result"
    }
   ],
   "source": [
    "slice_of_arr"
   ]
  },
  {
   "cell_type": "code",
   "execution_count": 54,
   "metadata": {
    "collapsed": false
   },
   "outputs": [
    {
     "data": {
      "text/plain": [
       "array([ 0, 25, 25, 20, 20, 10])"
      ]
     },
     "execution_count": 54,
     "metadata": {},
     "output_type": "execute_result"
    }
   ],
   "source": [
    "xyz"
   ]
  },
  {
   "cell_type": "code",
   "execution_count": 55,
   "metadata": {
    "collapsed": true
   },
   "outputs": [],
   "source": [
    "xyz_copy = xyz.copy()"
   ]
  },
  {
   "cell_type": "code",
   "execution_count": 56,
   "metadata": {
    "collapsed": false
   },
   "outputs": [
    {
     "data": {
      "text/plain": [
       "array([ 0, 25, 25, 20, 20, 10])"
      ]
     },
     "execution_count": 56,
     "metadata": {},
     "output_type": "execute_result"
    }
   ],
   "source": [
    "xyz_copy"
   ]
  },
  {
   "cell_type": "code",
   "execution_count": 57,
   "metadata": {
    "collapsed": true
   },
   "outputs": [],
   "source": [
    "xyz_copy[0:3] = [2,3,4] "
   ]
  },
  {
   "cell_type": "code",
   "execution_count": 58,
   "metadata": {
    "collapsed": false
   },
   "outputs": [
    {
     "data": {
      "text/plain": [
       "array([ 2,  3,  4, 20, 20, 10])"
      ]
     },
     "execution_count": 58,
     "metadata": {},
     "output_type": "execute_result"
    }
   ],
   "source": [
    "xyz_copy"
   ]
  },
  {
   "cell_type": "code",
   "execution_count": 60,
   "metadata": {
    "collapsed": false
   },
   "outputs": [],
   "source": [
    "abc = np.array([[1,2,3,4],[5,6,7,8],[9,10,11,12]])"
   ]
  },
  {
   "cell_type": "code",
   "execution_count": 61,
   "metadata": {
    "collapsed": false
   },
   "outputs": [
    {
     "data": {
      "text/plain": [
       "array([[ 1,  2,  3,  4],\n",
       "       [ 5,  6,  7,  8],\n",
       "       [ 9, 10, 11, 12]])"
      ]
     },
     "execution_count": 61,
     "metadata": {},
     "output_type": "execute_result"
    }
   ],
   "source": [
    "abc"
   ]
  },
  {
   "cell_type": "code",
   "execution_count": 62,
   "metadata": {
    "collapsed": false
   },
   "outputs": [
    {
     "data": {
      "text/plain": [
       "array([5, 6, 7, 8])"
      ]
     },
     "execution_count": 62,
     "metadata": {},
     "output_type": "execute_result"
    }
   ],
   "source": [
    "abc[1]"
   ]
  },
  {
   "cell_type": "code",
   "execution_count": 63,
   "metadata": {
    "collapsed": false
   },
   "outputs": [
    {
     "data": {
      "text/plain": [
       "array([ 9, 10, 11, 12])"
      ]
     },
     "execution_count": 63,
     "metadata": {},
     "output_type": "execute_result"
    }
   ],
   "source": [
    "abc[2]"
   ]
  },
  {
   "cell_type": "code",
   "execution_count": 64,
   "metadata": {
    "collapsed": false
   },
   "outputs": [
    {
     "data": {
      "text/plain": [
       "array([ 9, 10, 11, 12])"
      ]
     },
     "execution_count": 64,
     "metadata": {},
     "output_type": "execute_result"
    }
   ],
   "source": [
    "abc[2,]"
   ]
  },
  {
   "cell_type": "code",
   "execution_count": 67,
   "metadata": {
    "collapsed": false
   },
   "outputs": [
    {
     "data": {
      "text/plain": [
       "array([10, 11])"
      ]
     },
     "execution_count": 67,
     "metadata": {},
     "output_type": "execute_result"
    }
   ],
   "source": [
    "abc[2,1:3]"
   ]
  },
  {
   "cell_type": "code",
   "execution_count": 68,
   "metadata": {
    "collapsed": false
   },
   "outputs": [
    {
     "data": {
      "text/plain": [
       "11"
      ]
     },
     "execution_count": 68,
     "metadata": {},
     "output_type": "execute_result"
    }
   ],
   "source": [
    "abc[2][2]"
   ]
  },
  {
   "cell_type": "code",
   "execution_count": 69,
   "metadata": {
    "collapsed": false
   },
   "outputs": [
    {
     "data": {
      "text/plain": [
       "(3L, 4L)"
      ]
     },
     "execution_count": 69,
     "metadata": {},
     "output_type": "execute_result"
    }
   ],
   "source": [
    "abc.shape"
   ]
  },
  {
   "cell_type": "code",
   "execution_count": 70,
   "metadata": {
    "collapsed": false
   },
   "outputs": [
    {
     "data": {
      "text/plain": [
       "array([[ 1,  2,  3,  4],\n",
       "       [ 5,  6,  7,  8],\n",
       "       [ 9, 10, 11, 12]])"
      ]
     },
     "execution_count": 70,
     "metadata": {},
     "output_type": "execute_result"
    }
   ],
   "source": [
    "abc"
   ]
  },
  {
   "cell_type": "markdown",
   "metadata": {},
   "source": [
    "## Transposing a Matrix"
   ]
  },
  {
   "cell_type": "code",
   "execution_count": 72,
   "metadata": {
    "collapsed": true
   },
   "outputs": [],
   "source": [
    "dfe = abc.T"
   ]
  },
  {
   "cell_type": "code",
   "execution_count": 73,
   "metadata": {
    "collapsed": false
   },
   "outputs": [
    {
     "data": {
      "text/plain": [
       "array([[ 1,  5,  9],\n",
       "       [ 2,  6, 10],\n",
       "       [ 3,  7, 11],\n",
       "       [ 4,  8, 12]])"
      ]
     },
     "execution_count": 73,
     "metadata": {},
     "output_type": "execute_result"
    }
   ],
   "source": [
    "dfe"
   ]
  },
  {
   "cell_type": "markdown",
   "metadata": {},
   "source": [
    "## 3-D Matrix"
   ]
  },
  {
   "cell_type": "code",
   "execution_count": 76,
   "metadata": {
    "collapsed": true
   },
   "outputs": [],
   "source": [
    "pqr = np.arange(40).reshape([5,2,4])"
   ]
  },
  {
   "cell_type": "code",
   "execution_count": 77,
   "metadata": {
    "collapsed": false
   },
   "outputs": [
    {
     "data": {
      "text/plain": [
       "array([[[ 0,  1,  2,  3],\n",
       "        [ 4,  5,  6,  7]],\n",
       "\n",
       "       [[ 8,  9, 10, 11],\n",
       "        [12, 13, 14, 15]],\n",
       "\n",
       "       [[16, 17, 18, 19],\n",
       "        [20, 21, 22, 23]],\n",
       "\n",
       "       [[24, 25, 26, 27],\n",
       "        [28, 29, 30, 31]],\n",
       "\n",
       "       [[32, 33, 34, 35],\n",
       "        [36, 37, 38, 39]]])"
      ]
     },
     "execution_count": 77,
     "metadata": {},
     "output_type": "execute_result"
    }
   ],
   "source": [
    "pqr"
   ]
  },
  {
   "cell_type": "code",
   "execution_count": 78,
   "metadata": {
    "collapsed": false
   },
   "outputs": [
    {
     "data": {
      "text/plain": [
       "28"
      ]
     },
     "execution_count": 78,
     "metadata": {},
     "output_type": "execute_result"
    }
   ],
   "source": [
    "pqr[3][1][0]"
   ]
  },
  {
   "cell_type": "markdown",
   "metadata": {},
   "source": [
    "## Array Functions"
   ]
  },
  {
   "cell_type": "code",
   "execution_count": 79,
   "metadata": {
    "collapsed": true
   },
   "outputs": [],
   "source": [
    "arr_fun = np.arange(10)"
   ]
  },
  {
   "cell_type": "code",
   "execution_count": 81,
   "metadata": {
    "collapsed": false
   },
   "outputs": [
    {
     "data": {
      "text/plain": [
       "array([ 0.        ,  1.        ,  1.41421356,  1.73205081,  2.        ,\n",
       "        2.23606798,  2.44948974,  2.64575131,  2.82842712,  3.        ])"
      ]
     },
     "execution_count": 81,
     "metadata": {},
     "output_type": "execute_result"
    }
   ],
   "source": [
    "np.sqrt(arr_fun)"
   ]
  },
  {
   "cell_type": "markdown",
   "metadata": {},
   "source": [
    "## Random Number Example"
   ]
  },
  {
   "cell_type": "code",
   "execution_count": 82,
   "metadata": {
    "collapsed": true
   },
   "outputs": [],
   "source": [
    "x = np.random.randn(10)"
   ]
  },
  {
   "cell_type": "code",
   "execution_count": 83,
   "metadata": {
    "collapsed": false
   },
   "outputs": [
    {
     "data": {
      "text/plain": [
       "array([ 0.64335615, -2.01220258, -0.56785169,  0.03391533, -0.75331813,\n",
       "        1.14653343, -0.14863018, -1.28336647, -1.28947555, -0.20466036])"
      ]
     },
     "execution_count": 83,
     "metadata": {},
     "output_type": "execute_result"
    }
   ],
   "source": [
    "x"
   ]
  },
  {
   "cell_type": "code",
   "execution_count": 84,
   "metadata": {
    "collapsed": true
   },
   "outputs": [],
   "source": [
    "y = np.random.randn(10)"
   ]
  },
  {
   "cell_type": "code",
   "execution_count": 85,
   "metadata": {
    "collapsed": true
   },
   "outputs": [],
   "source": [
    "z = np.add(x,y)"
   ]
  },
  {
   "cell_type": "code",
   "execution_count": 86,
   "metadata": {
    "collapsed": false
   },
   "outputs": [
    {
     "data": {
      "text/plain": [
       "array([ 0.9904563 , -0.6084948 ,  0.43573557, -0.34689007, -2.52873107,\n",
       "        1.28068216,  0.47301674,  0.26762591, -1.68131499, -0.07884913])"
      ]
     },
     "execution_count": 86,
     "metadata": {},
     "output_type": "execute_result"
    }
   ],
   "source": [
    "z"
   ]
  },
  {
   "cell_type": "code",
   "execution_count": 87,
   "metadata": {
    "collapsed": false
   },
   "outputs": [
    {
     "data": {
      "text/plain": [
       "array([ 0.64335615,  1.40370777,  1.00358726,  0.03391533, -0.75331813,\n",
       "        1.14653343,  0.62164691,  1.55099238, -0.39183944,  0.12581123])"
      ]
     },
     "execution_count": 87,
     "metadata": {},
     "output_type": "execute_result"
    }
   ],
   "source": [
    "np.maximum(x,y)"
   ]
  },
  {
   "cell_type": "markdown",
   "metadata": {},
   "source": [
    "## Web browser example"
   ]
  },
  {
   "cell_type": "code",
   "execution_count": 88,
   "metadata": {
    "collapsed": false
   },
   "outputs": [
    {
     "data": {
      "text/plain": [
       "True"
      ]
     },
     "execution_count": 88,
     "metadata": {},
     "output_type": "execute_result"
    }
   ],
   "source": [
    "website ='http://docs.scipy.org/doc/numpy/reference/ufuncs.html#available-ufuncs'\n",
    "import webbrowser\n",
    "webbrowser.open(website)"
   ]
  },
  {
   "cell_type": "markdown",
   "metadata": {},
   "source": [
    "## Visualization"
   ]
  },
  {
   "cell_type": "code",
   "execution_count": 23,
   "metadata": {
    "collapsed": true
   },
   "outputs": [],
   "source": [
    "\n",
    "import matplotlib.pyplot as plt"
   ]
  },
  {
   "cell_type": "code",
   "execution_count": 24,
   "metadata": {
    "collapsed": true
   },
   "outputs": [],
   "source": [
    "%matplotlib inline"
   ]
  },
  {
   "cell_type": "code",
   "execution_count": 25,
   "metadata": {
    "collapsed": false
   },
   "outputs": [
    {
     "data": {
      "text/plain": [
       "array([ -4.00000000e+00,  -3.99000000e+00,  -3.98000000e+00,\n",
       "        -3.97000000e+00,  -3.96000000e+00,  -3.95000000e+00,\n",
       "        -3.94000000e+00,  -3.93000000e+00,  -3.92000000e+00,\n",
       "        -3.91000000e+00,  -3.90000000e+00,  -3.89000000e+00,\n",
       "        -3.88000000e+00,  -3.87000000e+00,  -3.86000000e+00,\n",
       "        -3.85000000e+00,  -3.84000000e+00,  -3.83000000e+00,\n",
       "        -3.82000000e+00,  -3.81000000e+00,  -3.80000000e+00,\n",
       "        -3.79000000e+00,  -3.78000000e+00,  -3.77000000e+00,\n",
       "        -3.76000000e+00,  -3.75000000e+00,  -3.74000000e+00,\n",
       "        -3.73000000e+00,  -3.72000000e+00,  -3.71000000e+00,\n",
       "        -3.70000000e+00,  -3.69000000e+00,  -3.68000000e+00,\n",
       "        -3.67000000e+00,  -3.66000000e+00,  -3.65000000e+00,\n",
       "        -3.64000000e+00,  -3.63000000e+00,  -3.62000000e+00,\n",
       "        -3.61000000e+00,  -3.60000000e+00,  -3.59000000e+00,\n",
       "        -3.58000000e+00,  -3.57000000e+00,  -3.56000000e+00,\n",
       "        -3.55000000e+00,  -3.54000000e+00,  -3.53000000e+00,\n",
       "        -3.52000000e+00,  -3.51000000e+00,  -3.50000000e+00,\n",
       "        -3.49000000e+00,  -3.48000000e+00,  -3.47000000e+00,\n",
       "        -3.46000000e+00,  -3.45000000e+00,  -3.44000000e+00,\n",
       "        -3.43000000e+00,  -3.42000000e+00,  -3.41000000e+00,\n",
       "        -3.40000000e+00,  -3.39000000e+00,  -3.38000000e+00,\n",
       "        -3.37000000e+00,  -3.36000000e+00,  -3.35000000e+00,\n",
       "        -3.34000000e+00,  -3.33000000e+00,  -3.32000000e+00,\n",
       "        -3.31000000e+00,  -3.30000000e+00,  -3.29000000e+00,\n",
       "        -3.28000000e+00,  -3.27000000e+00,  -3.26000000e+00,\n",
       "        -3.25000000e+00,  -3.24000000e+00,  -3.23000000e+00,\n",
       "        -3.22000000e+00,  -3.21000000e+00,  -3.20000000e+00,\n",
       "        -3.19000000e+00,  -3.18000000e+00,  -3.17000000e+00,\n",
       "        -3.16000000e+00,  -3.15000000e+00,  -3.14000000e+00,\n",
       "        -3.13000000e+00,  -3.12000000e+00,  -3.11000000e+00,\n",
       "        -3.10000000e+00,  -3.09000000e+00,  -3.08000000e+00,\n",
       "        -3.07000000e+00,  -3.06000000e+00,  -3.05000000e+00,\n",
       "        -3.04000000e+00,  -3.03000000e+00,  -3.02000000e+00,\n",
       "        -3.01000000e+00,  -3.00000000e+00,  -2.99000000e+00,\n",
       "        -2.98000000e+00,  -2.97000000e+00,  -2.96000000e+00,\n",
       "        -2.95000000e+00,  -2.94000000e+00,  -2.93000000e+00,\n",
       "        -2.92000000e+00,  -2.91000000e+00,  -2.90000000e+00,\n",
       "        -2.89000000e+00,  -2.88000000e+00,  -2.87000000e+00,\n",
       "        -2.86000000e+00,  -2.85000000e+00,  -2.84000000e+00,\n",
       "        -2.83000000e+00,  -2.82000000e+00,  -2.81000000e+00,\n",
       "        -2.80000000e+00,  -2.79000000e+00,  -2.78000000e+00,\n",
       "        -2.77000000e+00,  -2.76000000e+00,  -2.75000000e+00,\n",
       "        -2.74000000e+00,  -2.73000000e+00,  -2.72000000e+00,\n",
       "        -2.71000000e+00,  -2.70000000e+00,  -2.69000000e+00,\n",
       "        -2.68000000e+00,  -2.67000000e+00,  -2.66000000e+00,\n",
       "        -2.65000000e+00,  -2.64000000e+00,  -2.63000000e+00,\n",
       "        -2.62000000e+00,  -2.61000000e+00,  -2.60000000e+00,\n",
       "        -2.59000000e+00,  -2.58000000e+00,  -2.57000000e+00,\n",
       "        -2.56000000e+00,  -2.55000000e+00,  -2.54000000e+00,\n",
       "        -2.53000000e+00,  -2.52000000e+00,  -2.51000000e+00,\n",
       "        -2.50000000e+00,  -2.49000000e+00,  -2.48000000e+00,\n",
       "        -2.47000000e+00,  -2.46000000e+00,  -2.45000000e+00,\n",
       "        -2.44000000e+00,  -2.43000000e+00,  -2.42000000e+00,\n",
       "        -2.41000000e+00,  -2.40000000e+00,  -2.39000000e+00,\n",
       "        -2.38000000e+00,  -2.37000000e+00,  -2.36000000e+00,\n",
       "        -2.35000000e+00,  -2.34000000e+00,  -2.33000000e+00,\n",
       "        -2.32000000e+00,  -2.31000000e+00,  -2.30000000e+00,\n",
       "        -2.29000000e+00,  -2.28000000e+00,  -2.27000000e+00,\n",
       "        -2.26000000e+00,  -2.25000000e+00,  -2.24000000e+00,\n",
       "        -2.23000000e+00,  -2.22000000e+00,  -2.21000000e+00,\n",
       "        -2.20000000e+00,  -2.19000000e+00,  -2.18000000e+00,\n",
       "        -2.17000000e+00,  -2.16000000e+00,  -2.15000000e+00,\n",
       "        -2.14000000e+00,  -2.13000000e+00,  -2.12000000e+00,\n",
       "        -2.11000000e+00,  -2.10000000e+00,  -2.09000000e+00,\n",
       "        -2.08000000e+00,  -2.07000000e+00,  -2.06000000e+00,\n",
       "        -2.05000000e+00,  -2.04000000e+00,  -2.03000000e+00,\n",
       "        -2.02000000e+00,  -2.01000000e+00,  -2.00000000e+00,\n",
       "        -1.99000000e+00,  -1.98000000e+00,  -1.97000000e+00,\n",
       "        -1.96000000e+00,  -1.95000000e+00,  -1.94000000e+00,\n",
       "        -1.93000000e+00,  -1.92000000e+00,  -1.91000000e+00,\n",
       "        -1.90000000e+00,  -1.89000000e+00,  -1.88000000e+00,\n",
       "        -1.87000000e+00,  -1.86000000e+00,  -1.85000000e+00,\n",
       "        -1.84000000e+00,  -1.83000000e+00,  -1.82000000e+00,\n",
       "        -1.81000000e+00,  -1.80000000e+00,  -1.79000000e+00,\n",
       "        -1.78000000e+00,  -1.77000000e+00,  -1.76000000e+00,\n",
       "        -1.75000000e+00,  -1.74000000e+00,  -1.73000000e+00,\n",
       "        -1.72000000e+00,  -1.71000000e+00,  -1.70000000e+00,\n",
       "        -1.69000000e+00,  -1.68000000e+00,  -1.67000000e+00,\n",
       "        -1.66000000e+00,  -1.65000000e+00,  -1.64000000e+00,\n",
       "        -1.63000000e+00,  -1.62000000e+00,  -1.61000000e+00,\n",
       "        -1.60000000e+00,  -1.59000000e+00,  -1.58000000e+00,\n",
       "        -1.57000000e+00,  -1.56000000e+00,  -1.55000000e+00,\n",
       "        -1.54000000e+00,  -1.53000000e+00,  -1.52000000e+00,\n",
       "        -1.51000000e+00,  -1.50000000e+00,  -1.49000000e+00,\n",
       "        -1.48000000e+00,  -1.47000000e+00,  -1.46000000e+00,\n",
       "        -1.45000000e+00,  -1.44000000e+00,  -1.43000000e+00,\n",
       "        -1.42000000e+00,  -1.41000000e+00,  -1.40000000e+00,\n",
       "        -1.39000000e+00,  -1.38000000e+00,  -1.37000000e+00,\n",
       "        -1.36000000e+00,  -1.35000000e+00,  -1.34000000e+00,\n",
       "        -1.33000000e+00,  -1.32000000e+00,  -1.31000000e+00,\n",
       "        -1.30000000e+00,  -1.29000000e+00,  -1.28000000e+00,\n",
       "        -1.27000000e+00,  -1.26000000e+00,  -1.25000000e+00,\n",
       "        -1.24000000e+00,  -1.23000000e+00,  -1.22000000e+00,\n",
       "        -1.21000000e+00,  -1.20000000e+00,  -1.19000000e+00,\n",
       "        -1.18000000e+00,  -1.17000000e+00,  -1.16000000e+00,\n",
       "        -1.15000000e+00,  -1.14000000e+00,  -1.13000000e+00,\n",
       "        -1.12000000e+00,  -1.11000000e+00,  -1.10000000e+00,\n",
       "        -1.09000000e+00,  -1.08000000e+00,  -1.07000000e+00,\n",
       "        -1.06000000e+00,  -1.05000000e+00,  -1.04000000e+00,\n",
       "        -1.03000000e+00,  -1.02000000e+00,  -1.01000000e+00,\n",
       "        -1.00000000e+00,  -9.90000000e-01,  -9.80000000e-01,\n",
       "        -9.70000000e-01,  -9.60000000e-01,  -9.50000000e-01,\n",
       "        -9.40000000e-01,  -9.30000000e-01,  -9.20000000e-01,\n",
       "        -9.10000000e-01,  -9.00000000e-01,  -8.90000000e-01,\n",
       "        -8.80000000e-01,  -8.70000000e-01,  -8.60000000e-01,\n",
       "        -8.50000000e-01,  -8.40000000e-01,  -8.30000000e-01,\n",
       "        -8.20000000e-01,  -8.10000000e-01,  -8.00000000e-01,\n",
       "        -7.90000000e-01,  -7.80000000e-01,  -7.70000000e-01,\n",
       "        -7.60000000e-01,  -7.50000000e-01,  -7.40000000e-01,\n",
       "        -7.30000000e-01,  -7.20000000e-01,  -7.10000000e-01,\n",
       "        -7.00000000e-01,  -6.90000000e-01,  -6.80000000e-01,\n",
       "        -6.70000000e-01,  -6.60000000e-01,  -6.50000000e-01,\n",
       "        -6.40000000e-01,  -6.30000000e-01,  -6.20000000e-01,\n",
       "        -6.10000000e-01,  -6.00000000e-01,  -5.90000000e-01,\n",
       "        -5.80000000e-01,  -5.70000000e-01,  -5.60000000e-01,\n",
       "        -5.50000000e-01,  -5.40000000e-01,  -5.30000000e-01,\n",
       "        -5.20000000e-01,  -5.10000000e-01,  -5.00000000e-01,\n",
       "        -4.90000000e-01,  -4.80000000e-01,  -4.70000000e-01,\n",
       "        -4.60000000e-01,  -4.50000000e-01,  -4.40000000e-01,\n",
       "        -4.30000000e-01,  -4.20000000e-01,  -4.10000000e-01,\n",
       "        -4.00000000e-01,  -3.90000000e-01,  -3.80000000e-01,\n",
       "        -3.70000000e-01,  -3.60000000e-01,  -3.50000000e-01,\n",
       "        -3.40000000e-01,  -3.30000000e-01,  -3.20000000e-01,\n",
       "        -3.10000000e-01,  -3.00000000e-01,  -2.90000000e-01,\n",
       "        -2.80000000e-01,  -2.70000000e-01,  -2.60000000e-01,\n",
       "        -2.50000000e-01,  -2.40000000e-01,  -2.30000000e-01,\n",
       "        -2.20000000e-01,  -2.10000000e-01,  -2.00000000e-01,\n",
       "        -1.90000000e-01,  -1.80000000e-01,  -1.70000000e-01,\n",
       "        -1.60000000e-01,  -1.50000000e-01,  -1.40000000e-01,\n",
       "        -1.30000000e-01,  -1.20000000e-01,  -1.10000000e-01,\n",
       "        -1.00000000e-01,  -9.00000000e-02,  -8.00000000e-02,\n",
       "        -7.00000000e-02,  -6.00000000e-02,  -5.00000000e-02,\n",
       "        -4.00000000e-02,  -3.00000000e-02,  -2.00000000e-02,\n",
       "        -1.00000000e-02,  -8.52651283e-14,   1.00000000e-02,\n",
       "         2.00000000e-02,   3.00000000e-02,   4.00000000e-02,\n",
       "         5.00000000e-02,   6.00000000e-02,   7.00000000e-02,\n",
       "         8.00000000e-02,   9.00000000e-02,   1.00000000e-01,\n",
       "         1.10000000e-01,   1.20000000e-01,   1.30000000e-01,\n",
       "         1.40000000e-01,   1.50000000e-01,   1.60000000e-01,\n",
       "         1.70000000e-01,   1.80000000e-01,   1.90000000e-01,\n",
       "         2.00000000e-01,   2.10000000e-01,   2.20000000e-01,\n",
       "         2.30000000e-01,   2.40000000e-01,   2.50000000e-01,\n",
       "         2.60000000e-01,   2.70000000e-01,   2.80000000e-01,\n",
       "         2.90000000e-01,   3.00000000e-01,   3.10000000e-01,\n",
       "         3.20000000e-01,   3.30000000e-01,   3.40000000e-01,\n",
       "         3.50000000e-01,   3.60000000e-01,   3.70000000e-01,\n",
       "         3.80000000e-01,   3.90000000e-01,   4.00000000e-01,\n",
       "         4.10000000e-01,   4.20000000e-01,   4.30000000e-01,\n",
       "         4.40000000e-01,   4.50000000e-01,   4.60000000e-01,\n",
       "         4.70000000e-01,   4.80000000e-01,   4.90000000e-01,\n",
       "         5.00000000e-01,   5.10000000e-01,   5.20000000e-01,\n",
       "         5.30000000e-01,   5.40000000e-01,   5.50000000e-01,\n",
       "         5.60000000e-01,   5.70000000e-01,   5.80000000e-01,\n",
       "         5.90000000e-01,   6.00000000e-01,   6.10000000e-01,\n",
       "         6.20000000e-01,   6.30000000e-01,   6.40000000e-01,\n",
       "         6.50000000e-01,   6.60000000e-01,   6.70000000e-01,\n",
       "         6.80000000e-01,   6.90000000e-01,   7.00000000e-01,\n",
       "         7.10000000e-01,   7.20000000e-01,   7.30000000e-01,\n",
       "         7.40000000e-01,   7.50000000e-01,   7.60000000e-01,\n",
       "         7.70000000e-01,   7.80000000e-01,   7.90000000e-01,\n",
       "         8.00000000e-01,   8.10000000e-01,   8.20000000e-01,\n",
       "         8.30000000e-01,   8.40000000e-01,   8.50000000e-01,\n",
       "         8.60000000e-01,   8.70000000e-01,   8.80000000e-01,\n",
       "         8.90000000e-01,   9.00000000e-01,   9.10000000e-01,\n",
       "         9.20000000e-01,   9.30000000e-01,   9.40000000e-01,\n",
       "         9.50000000e-01,   9.60000000e-01,   9.70000000e-01,\n",
       "         9.80000000e-01,   9.90000000e-01,   1.00000000e+00,\n",
       "         1.01000000e+00,   1.02000000e+00,   1.03000000e+00,\n",
       "         1.04000000e+00,   1.05000000e+00,   1.06000000e+00,\n",
       "         1.07000000e+00,   1.08000000e+00,   1.09000000e+00,\n",
       "         1.10000000e+00,   1.11000000e+00,   1.12000000e+00,\n",
       "         1.13000000e+00,   1.14000000e+00,   1.15000000e+00,\n",
       "         1.16000000e+00,   1.17000000e+00,   1.18000000e+00,\n",
       "         1.19000000e+00,   1.20000000e+00,   1.21000000e+00,\n",
       "         1.22000000e+00,   1.23000000e+00,   1.24000000e+00,\n",
       "         1.25000000e+00,   1.26000000e+00,   1.27000000e+00,\n",
       "         1.28000000e+00,   1.29000000e+00,   1.30000000e+00,\n",
       "         1.31000000e+00,   1.32000000e+00,   1.33000000e+00,\n",
       "         1.34000000e+00,   1.35000000e+00,   1.36000000e+00,\n",
       "         1.37000000e+00,   1.38000000e+00,   1.39000000e+00,\n",
       "         1.40000000e+00,   1.41000000e+00,   1.42000000e+00,\n",
       "         1.43000000e+00,   1.44000000e+00,   1.45000000e+00,\n",
       "         1.46000000e+00,   1.47000000e+00,   1.48000000e+00,\n",
       "         1.49000000e+00,   1.50000000e+00,   1.51000000e+00,\n",
       "         1.52000000e+00,   1.53000000e+00,   1.54000000e+00,\n",
       "         1.55000000e+00,   1.56000000e+00,   1.57000000e+00,\n",
       "         1.58000000e+00,   1.59000000e+00,   1.60000000e+00,\n",
       "         1.61000000e+00,   1.62000000e+00,   1.63000000e+00,\n",
       "         1.64000000e+00,   1.65000000e+00,   1.66000000e+00,\n",
       "         1.67000000e+00,   1.68000000e+00,   1.69000000e+00,\n",
       "         1.70000000e+00,   1.71000000e+00,   1.72000000e+00,\n",
       "         1.73000000e+00,   1.74000000e+00,   1.75000000e+00,\n",
       "         1.76000000e+00,   1.77000000e+00,   1.78000000e+00,\n",
       "         1.79000000e+00,   1.80000000e+00,   1.81000000e+00,\n",
       "         1.82000000e+00,   1.83000000e+00,   1.84000000e+00,\n",
       "         1.85000000e+00,   1.86000000e+00,   1.87000000e+00,\n",
       "         1.88000000e+00,   1.89000000e+00,   1.90000000e+00,\n",
       "         1.91000000e+00,   1.92000000e+00,   1.93000000e+00,\n",
       "         1.94000000e+00,   1.95000000e+00,   1.96000000e+00,\n",
       "         1.97000000e+00,   1.98000000e+00,   1.99000000e+00,\n",
       "         2.00000000e+00,   2.01000000e+00,   2.02000000e+00,\n",
       "         2.03000000e+00,   2.04000000e+00,   2.05000000e+00,\n",
       "         2.06000000e+00,   2.07000000e+00,   2.08000000e+00,\n",
       "         2.09000000e+00,   2.10000000e+00,   2.11000000e+00,\n",
       "         2.12000000e+00,   2.13000000e+00,   2.14000000e+00,\n",
       "         2.15000000e+00,   2.16000000e+00,   2.17000000e+00,\n",
       "         2.18000000e+00,   2.19000000e+00,   2.20000000e+00,\n",
       "         2.21000000e+00,   2.22000000e+00,   2.23000000e+00,\n",
       "         2.24000000e+00,   2.25000000e+00,   2.26000000e+00,\n",
       "         2.27000000e+00,   2.28000000e+00,   2.29000000e+00,\n",
       "         2.30000000e+00,   2.31000000e+00,   2.32000000e+00,\n",
       "         2.33000000e+00,   2.34000000e+00,   2.35000000e+00,\n",
       "         2.36000000e+00,   2.37000000e+00,   2.38000000e+00,\n",
       "         2.39000000e+00,   2.40000000e+00,   2.41000000e+00,\n",
       "         2.42000000e+00,   2.43000000e+00,   2.44000000e+00,\n",
       "         2.45000000e+00,   2.46000000e+00,   2.47000000e+00,\n",
       "         2.48000000e+00,   2.49000000e+00,   2.50000000e+00,\n",
       "         2.51000000e+00,   2.52000000e+00,   2.53000000e+00,\n",
       "         2.54000000e+00,   2.55000000e+00,   2.56000000e+00,\n",
       "         2.57000000e+00,   2.58000000e+00,   2.59000000e+00,\n",
       "         2.60000000e+00,   2.61000000e+00,   2.62000000e+00,\n",
       "         2.63000000e+00,   2.64000000e+00,   2.65000000e+00,\n",
       "         2.66000000e+00,   2.67000000e+00,   2.68000000e+00,\n",
       "         2.69000000e+00,   2.70000000e+00,   2.71000000e+00,\n",
       "         2.72000000e+00,   2.73000000e+00,   2.74000000e+00,\n",
       "         2.75000000e+00,   2.76000000e+00,   2.77000000e+00,\n",
       "         2.78000000e+00,   2.79000000e+00,   2.80000000e+00,\n",
       "         2.81000000e+00,   2.82000000e+00,   2.83000000e+00,\n",
       "         2.84000000e+00,   2.85000000e+00,   2.86000000e+00,\n",
       "         2.87000000e+00,   2.88000000e+00,   2.89000000e+00,\n",
       "         2.90000000e+00,   2.91000000e+00,   2.92000000e+00,\n",
       "         2.93000000e+00,   2.94000000e+00,   2.95000000e+00,\n",
       "         2.96000000e+00,   2.97000000e+00,   2.98000000e+00,\n",
       "         2.99000000e+00,   3.00000000e+00,   3.01000000e+00,\n",
       "         3.02000000e+00,   3.03000000e+00,   3.04000000e+00,\n",
       "         3.05000000e+00,   3.06000000e+00,   3.07000000e+00,\n",
       "         3.08000000e+00,   3.09000000e+00,   3.10000000e+00,\n",
       "         3.11000000e+00,   3.12000000e+00,   3.13000000e+00,\n",
       "         3.14000000e+00,   3.15000000e+00,   3.16000000e+00,\n",
       "         3.17000000e+00,   3.18000000e+00,   3.19000000e+00,\n",
       "         3.20000000e+00,   3.21000000e+00,   3.22000000e+00,\n",
       "         3.23000000e+00,   3.24000000e+00,   3.25000000e+00,\n",
       "         3.26000000e+00,   3.27000000e+00,   3.28000000e+00,\n",
       "         3.29000000e+00,   3.30000000e+00,   3.31000000e+00,\n",
       "         3.32000000e+00,   3.33000000e+00,   3.34000000e+00,\n",
       "         3.35000000e+00,   3.36000000e+00,   3.37000000e+00,\n",
       "         3.38000000e+00,   3.39000000e+00,   3.40000000e+00,\n",
       "         3.41000000e+00,   3.42000000e+00,   3.43000000e+00,\n",
       "         3.44000000e+00,   3.45000000e+00,   3.46000000e+00,\n",
       "         3.47000000e+00,   3.48000000e+00,   3.49000000e+00,\n",
       "         3.50000000e+00,   3.51000000e+00,   3.52000000e+00,\n",
       "         3.53000000e+00,   3.54000000e+00,   3.55000000e+00,\n",
       "         3.56000000e+00,   3.57000000e+00,   3.58000000e+00,\n",
       "         3.59000000e+00,   3.60000000e+00,   3.61000000e+00,\n",
       "         3.62000000e+00,   3.63000000e+00,   3.64000000e+00,\n",
       "         3.65000000e+00,   3.66000000e+00,   3.67000000e+00,\n",
       "         3.68000000e+00,   3.69000000e+00,   3.70000000e+00,\n",
       "         3.71000000e+00,   3.72000000e+00,   3.73000000e+00,\n",
       "         3.74000000e+00,   3.75000000e+00,   3.76000000e+00,\n",
       "         3.77000000e+00,   3.78000000e+00,   3.79000000e+00,\n",
       "         3.80000000e+00,   3.81000000e+00,   3.82000000e+00,\n",
       "         3.83000000e+00,   3.84000000e+00,   3.85000000e+00,\n",
       "         3.86000000e+00,   3.87000000e+00,   3.88000000e+00,\n",
       "         3.89000000e+00,   3.90000000e+00,   3.91000000e+00,\n",
       "         3.92000000e+00,   3.93000000e+00,   3.94000000e+00,\n",
       "         3.95000000e+00,   3.96000000e+00,   3.97000000e+00,\n",
       "         3.98000000e+00,   3.99000000e+00])"
      ]
     },
     "execution_count": 25,
     "metadata": {},
     "output_type": "execute_result"
    }
   ],
   "source": [
    "p = np.arange(-4,4,0.01)\n",
    "p"
   ]
  },
  {
   "cell_type": "code",
   "execution_count": 26,
   "metadata": {
    "collapsed": false
   },
   "outputs": [],
   "source": [
    "dx,dy = np.meshgrid(p,p)"
   ]
  },
  {
   "cell_type": "code",
   "execution_count": 27,
   "metadata": {
    "collapsed": false
   },
   "outputs": [
    {
     "data": {
      "text/plain": [
       "array([[-4.  , -3.99, -3.98, ...,  3.97,  3.98,  3.99],\n",
       "       [-4.  , -3.99, -3.98, ...,  3.97,  3.98,  3.99],\n",
       "       [-4.  , -3.99, -3.98, ...,  3.97,  3.98,  3.99],\n",
       "       ..., \n",
       "       [-4.  , -3.99, -3.98, ...,  3.97,  3.98,  3.99],\n",
       "       [-4.  , -3.99, -3.98, ...,  3.97,  3.98,  3.99],\n",
       "       [-4.  , -3.99, -3.98, ...,  3.97,  3.98,  3.99]])"
      ]
     },
     "execution_count": 27,
     "metadata": {},
     "output_type": "execute_result"
    }
   ],
   "source": [
    "dx"
   ]
  },
  {
   "cell_type": "code",
   "execution_count": 10,
   "metadata": {
    "collapsed": false
   },
   "outputs": [
    {
     "data": {
      "text/plain": [
       "array([[-4.  , -4.  , -4.  , ..., -4.  , -4.  , -4.  ],\n",
       "       [-3.99, -3.99, -3.99, ..., -3.99, -3.99, -3.99],\n",
       "       [-3.98, -3.98, -3.98, ..., -3.98, -3.98, -3.98],\n",
       "       ..., \n",
       "       [ 3.97,  3.97,  3.97, ...,  3.97,  3.97,  3.97],\n",
       "       [ 3.98,  3.98,  3.98, ...,  3.98,  3.98,  3.98],\n",
       "       [ 3.99,  3.99,  3.99, ...,  3.99,  3.99,  3.99]])"
      ]
     },
     "execution_count": 10,
     "metadata": {},
     "output_type": "execute_result"
    }
   ],
   "source": [
    "dy"
   ]
  },
  {
   "cell_type": "code",
   "execution_count": 28,
   "metadata": {
    "collapsed": true
   },
   "outputs": [],
   "source": [
    "z = np.sin(dx) + np.sin(dy)"
   ]
  },
  {
   "cell_type": "code",
   "execution_count": 29,
   "metadata": {
    "collapsed": false
   },
   "outputs": [
    {
     "data": {
      "text/plain": [
       "array([[  1.51360499e+00,   1.50703082e+00,   1.50038163e+00, ...,\n",
       "          1.99469029e-02,   1.32233564e-02,   6.57416708e-03],\n",
       "       [  1.50703082e+00,   1.50045666e+00,   1.49380747e+00, ...,\n",
       "          1.33727359e-02,   6.64918929e-03,   1.12687637e-13],\n",
       "       [  1.50038163e+00,   1.49380747e+00,   1.48715828e+00, ...,\n",
       "          6.72354658e-03,   1.14019905e-13,  -6.64918929e-03],\n",
       "       ..., \n",
       "       [  1.99469029e-02,   1.33727359e-02,   6.72354658e-03, ...,\n",
       "         -1.47371118e+00,  -1.48043473e+00,  -1.48708392e+00],\n",
       "       [  1.32233564e-02,   6.64918929e-03,   1.14019905e-13, ...,\n",
       "         -1.48043473e+00,  -1.48715828e+00,  -1.49380747e+00],\n",
       "       [  6.57416708e-03,   1.12687637e-13,  -6.64918929e-03, ...,\n",
       "         -1.48708392e+00,  -1.49380747e+00,  -1.50045666e+00]])"
      ]
     },
     "execution_count": 29,
     "metadata": {},
     "output_type": "execute_result"
    }
   ],
   "source": [
    "z"
   ]
  },
  {
   "cell_type": "code",
   "execution_count": 30,
   "metadata": {
    "collapsed": false
   },
   "outputs": [
    {
     "data": {
      "text/plain": [
       "<matplotlib.colorbar.Colorbar at 0x70c7550>"
      ]
     },
     "execution_count": 30,
     "metadata": {},
     "output_type": "execute_result"
    },
    {
     "data": {
      "image/png": "[encoded data removed]",
      "text/plain": [
       "<matplotlib.figure.Figure at 0x6b5efd0>"
      ]
     },
     "metadata": {},
     "output_type": "display_data"
    }
   ],
   "source": [
    "plt.imshow(z)\n",
    "plt.colorbar()"
   ]
  },
  {
   "cell_type": "code",
   "execution_count": 31,
   "metadata": {
    "collapsed": true
   },
   "outputs": [],
   "source": [
    "a = [1,2,3,5]\n",
    "b = [100,200,300,500]\n",
    "cond = [True,False,True,False]\n",
    "c = [a_value if condition else b_value for a_value,b_value,condition in zip(a,b,cond)]"
   ]
  },
  {
   "cell_type": "code",
   "execution_count": 101,
   "metadata": {
    "collapsed": false
   },
   "outputs": [
    {
     "data": {
      "text/plain": [
       "[1, 200, 3, 500]"
      ]
     },
     "execution_count": 101,
     "metadata": {},
     "output_type": "execute_result"
    }
   ],
   "source": [
    "c"
   ]
  },
  {
   "cell_type": "code",
   "execution_count": 102,
   "metadata": {
    "collapsed": true
   },
   "outputs": [],
   "source": [
    "A = np.array(a)\n",
    "B = np.array(b)\n",
    "COND = np.array(cond)\n",
    "C = [A_value if condition else B_value for A_value,B_value,condition in zip(A,B,COND)]"
   ]
  },
  {
   "cell_type": "code",
   "execution_count": 103,
   "metadata": {
    "collapsed": false
   },
   "outputs": [
    {
     "data": {
      "text/plain": [
       "[1, 200, 3, 500]"
      ]
     },
     "execution_count": 103,
     "metadata": {},
     "output_type": "execute_result"
    }
   ],
   "source": [
    "C"
   ]
  },
  {
   "cell_type": "code",
   "execution_count": 104,
   "metadata": {
    "collapsed": true
   },
   "outputs": [],
   "source": [
    "D = np.where(A,B,COND)"
   ]
  },
  {
   "cell_type": "code",
   "execution_count": 105,
   "metadata": {
    "collapsed": false
   },
   "outputs": [
    {
     "data": {
      "text/plain": [
       "array([100, 200, 300, 500])"
      ]
     },
     "execution_count": 105,
     "metadata": {},
     "output_type": "execute_result"
    }
   ],
   "source": [
    "D"
   ]
  },
  {
   "cell_type": "code",
   "execution_count": 107,
   "metadata": {
    "collapsed": false
   },
   "outputs": [],
   "source": [
    "Arr_Normal = np.random.randn(5,5)"
   ]
  },
  {
   "cell_type": "code",
   "execution_count": 108,
   "metadata": {
    "collapsed": false
   },
   "outputs": [
    {
     "data": {
      "text/plain": [
       "array([[ 0.43619918,  0.26308603, -0.06372573,  0.77029574,  0.90868662],\n",
       "       [ 0.00918933, -1.22458634,  0.15884746,  0.87260732,  0.14621255],\n",
       "       [-0.00381236, -0.43066065, -0.72109212, -0.04813822,  1.83306088],\n",
       "       [-0.9648892 ,  0.73175654, -1.88073408, -0.10955134,  0.61795736],\n",
       "       [ 0.7250092 , -0.85728246, -0.28910929,  0.70540496,  1.19077505]])"
      ]
     },
     "execution_count": 108,
     "metadata": {},
     "output_type": "execute_result"
    }
   ],
   "source": [
    "Arr_Normal"
   ]
  },
  {
   "cell_type": "code",
   "execution_count": 109,
   "metadata": {
    "collapsed": false
   },
   "outputs": [
    {
     "data": {
      "text/plain": [
       "array([[ 0.43619918,  0.26308603,  1.        ,  0.77029574,  0.90868662],\n",
       "       [ 0.00918933,  1.        ,  0.15884746,  0.87260732,  0.14621255],\n",
       "       [ 1.        ,  1.        ,  1.        ,  1.        ,  1.83306088],\n",
       "       [ 1.        ,  0.73175654,  1.        ,  1.        ,  0.61795736],\n",
       "       [ 0.7250092 ,  1.        ,  1.        ,  0.70540496,  1.19077505]])"
      ]
     },
     "execution_count": 109,
     "metadata": {},
     "output_type": "execute_result"
    }
   ],
   "source": [
    "np.where(Arr_Normal < 0, 1, Arr_Normal)"
   ]
  },
  {
   "cell_type": "code",
   "execution_count": 110,
   "metadata": {
    "collapsed": false
   },
   "outputs": [
    {
     "data": {
      "text/plain": [
       "array([[ 0.43619918,  0.26308603, -0.06372573,  0.77029574,  0.90868662],\n",
       "       [ 0.00918933, -1.22458634,  0.15884746,  0.87260732,  0.14621255],\n",
       "       [-0.00381236, -0.43066065, -0.72109212, -0.04813822,  1.83306088],\n",
       "       [-0.9648892 ,  0.73175654, -1.88073408, -0.10955134,  0.61795736],\n",
       "       [ 0.7250092 , -0.85728246, -0.28910929,  0.70540496,  1.19077505]])"
      ]
     },
     "execution_count": 110,
     "metadata": {},
     "output_type": "execute_result"
    }
   ],
   "source": [
    "Arr_Normal"
   ]
  },
  {
   "cell_type": "code",
   "execution_count": 111,
   "metadata": {
    "collapsed": false
   },
   "outputs": [
    {
     "data": {
      "text/plain": [
       "2.7755064212905438"
      ]
     },
     "execution_count": 111,
     "metadata": {},
     "output_type": "execute_result"
    }
   ],
   "source": [
    "Arr_Normal.sum()"
   ]
  },
  {
   "cell_type": "code",
   "execution_count": 113,
   "metadata": {
    "collapsed": false
   },
   "outputs": [
    {
     "data": {
      "text/plain": [
       "array([ 2.31454184, -0.03772969,  0.62935752, -1.60546072,  1.47479747])"
      ]
     },
     "execution_count": 113,
     "metadata": {},
     "output_type": "execute_result"
    }
   ],
   "source": [
    "Arr_Normal.sum(1)"
   ]
  },
  {
   "cell_type": "code",
   "execution_count": 114,
   "metadata": {
    "collapsed": false
   },
   "outputs": [
    {
     "data": {
      "text/plain": [
       "0.11102025685162176"
      ]
     },
     "execution_count": 114,
     "metadata": {},
     "output_type": "execute_result"
    }
   ],
   "source": [
    "Arr_Normal.mean()"
   ]
  },
  {
   "cell_type": "code",
   "execution_count": 116,
   "metadata": {
    "collapsed": false
   },
   "outputs": [
    {
     "data": {
      "text/plain": [
       "0.65629282300008229"
      ]
     },
     "execution_count": 116,
     "metadata": {},
     "output_type": "execute_result"
    }
   ],
   "source": [
    "Arr_Normal.var()"
   ]
  },
  {
   "cell_type": "code",
   "execution_count": 117,
   "metadata": {
    "collapsed": true
   },
   "outputs": [],
   "source": [
    "logical_array = np.array([True,False,True])"
   ]
  },
  {
   "cell_type": "code",
   "execution_count": 118,
   "metadata": {
    "collapsed": false
   },
   "outputs": [
    {
     "data": {
      "text/plain": [
       "True"
      ]
     },
     "execution_count": 118,
     "metadata": {},
     "output_type": "execute_result"
    }
   ],
   "source": [
    "logical_array.any()"
   ]
  },
  {
   "cell_type": "code",
   "execution_count": 119,
   "metadata": {
    "collapsed": false
   },
   "outputs": [
    {
     "data": {
      "text/plain": [
       "False"
      ]
     },
     "execution_count": 119,
     "metadata": {},
     "output_type": "execute_result"
    }
   ],
   "source": [
    "logical_array.all()"
   ]
  },
  {
   "cell_type": "code",
   "execution_count": 120,
   "metadata": {
    "collapsed": true
   },
   "outputs": [],
   "source": [
    "Arr_Normal.sort()"
   ]
  },
  {
   "cell_type": "code",
   "execution_count": 121,
   "metadata": {
    "collapsed": false
   },
   "outputs": [
    {
     "data": {
      "text/plain": [
       "array([[-0.06372573,  0.26308603,  0.43619918,  0.77029574,  0.90868662],\n",
       "       [-1.22458634,  0.00918933,  0.14621255,  0.15884746,  0.87260732],\n",
       "       [-0.72109212, -0.43066065, -0.04813822, -0.00381236,  1.83306088],\n",
       "       [-1.88073408, -0.9648892 , -0.10955134,  0.61795736,  0.73175654],\n",
       "       [-0.85728246, -0.28910929,  0.70540496,  0.7250092 ,  1.19077505]])"
      ]
     },
     "execution_count": 121,
     "metadata": {},
     "output_type": "execute_result"
    }
   ],
   "source": [
    "Arr_Normal"
   ]
  },
  {
   "cell_type": "code",
   "execution_count": 122,
   "metadata": {
    "collapsed": true
   },
   "outputs": [],
   "source": [
    "keep = np.array(['jyoti','sam','ram','jyoti','sam'])"
   ]
  },
  {
   "cell_type": "code",
   "execution_count": 123,
   "metadata": {
    "collapsed": false
   },
   "outputs": [
    {
     "data": {
      "text/plain": [
       "array(['jyoti', 'ram', 'sam'], \n",
       "      dtype='|S5')"
      ]
     },
     "execution_count": 123,
     "metadata": {},
     "output_type": "execute_result"
    }
   ],
   "source": [
    "np.unique(keep)"
   ]
  },
  {
   "cell_type": "code",
   "execution_count": 124,
   "metadata": {
    "collapsed": true
   },
   "outputs": [],
   "source": [
    "keep2 = np.arange(5)"
   ]
  },
  {
   "cell_type": "code",
   "execution_count": 125,
   "metadata": {
    "collapsed": false
   },
   "outputs": [
    {
     "data": {
      "text/plain": [
       "array([0, 1, 2, 3, 4])"
      ]
     },
     "execution_count": 125,
     "metadata": {},
     "output_type": "execute_result"
    }
   ],
   "source": [
    "keep2"
   ]
  },
  {
   "cell_type": "code",
   "execution_count": 128,
   "metadata": {
    "collapsed": false
   },
   "outputs": [],
   "source": [
    "np.save('keep2.npy',keep2)"
   ]
  },
  {
   "cell_type": "code",
   "execution_count": 129,
   "metadata": {
    "collapsed": true
   },
   "outputs": [],
   "source": [
    "keep3 = np.load('keep2.npy')"
   ]
  },
  {
   "cell_type": "code",
   "execution_count": 130,
   "metadata": {
    "collapsed": false
   },
   "outputs": [
    {
     "data": {
      "text/plain": [
       "array([0, 1, 2, 3, 4])"
      ]
     },
     "execution_count": 130,
     "metadata": {},
     "output_type": "execute_result"
    }
   ],
   "source": [
    "keep3"
   ]
  },
  {
   "cell_type": "code",
   "execution_count": 35,
   "metadata": {
    "collapsed": true
   },
   "outputs": [],
   "source": [
    "A = [1,2,3,4]\n",
    "B = [5,6,7,8]\n",
    "k = ['True','False','False','True']"
   ]
  },
  {
   "cell_type": "code",
   "execution_count": 36,
   "metadata": {
    "collapsed": true
   },
   "outputs": [],
   "source": [
    "c = zip(A,B,k)"
   ]
  },
  {
   "cell_type": "code",
   "execution_count": 37,
   "metadata": {
    "collapsed": false
   },
   "outputs": [
    {
     "data": {
      "text/plain": [
       "[(1, 5, 'True'), (2, 6, 'False'), (3, 7, 'False'), (4, 8, 'True')]"
      ]
     },
     "execution_count": 37,
     "metadata": {},
     "output_type": "execute_result"
    }
   ],
   "source": [
    "c"
   ]
  },
  {
   "cell_type": "code",
   "execution_count": 47,
   "metadata": {
    "collapsed": false
   },
   "outputs": [],
   "source": [
    "p = []\n",
    "for x,y,z in c :\n",
    "    p.append(x + y)"
   ]
  },
  {
   "cell_type": "code",
   "execution_count": 48,
   "metadata": {
    "collapsed": false
   },
   "outputs": [
    {
     "data": {
      "text/plain": [
       "[6, 8, 10, 12]"
      ]
     },
     "execution_count": 48,
     "metadata": {},
     "output_type": "execute_result"
    }
   ],
   "source": [
    "p"
   ]
  },
  {
   "cell_type": "code",
   "execution_count": 42,
   "metadata": {
    "collapsed": false
   },
   "outputs": [
    {
     "data": {
      "text/plain": [
       "[0, 1, 2, 3]"
      ]
     },
     "execution_count": 42,
     "metadata": {},
     "output_type": "execute_result"
    }
   ],
   "source": [
    "range(len(A))"
   ]
  },
  {
   "cell_type": "code",
   "execution_count": 1,
   "metadata": {
    "collapsed": true
   },
   "outputs": [],
   "source": [
    "import numpy as np\n",
    "joint_prob_XY = np.array([[0.10, 0.09, 0.11], [0.08, 0.07, 0.07], [0.18, 0.13, 0.17]])"
   ]
  },
  {
   "cell_type": "code",
   "execution_count": 2,
   "metadata": {
    "collapsed": true
   },
   "outputs": [],
   "source": [
    "prob_X = joint_prob_XY.sum(axis=1)\n",
    "prob_Y = joint_prob_XY.sum(axis=0)"
   ]
  },
  {
   "cell_type": "code",
   "execution_count": 3,
   "metadata": {
    "collapsed": true
   },
   "outputs": [],
   "source": [
    "joint_prob_XY_indep = np.outer(prob_X, prob_Y)"
   ]
  },
  {
   "cell_type": "code",
   "execution_count": 4,
   "metadata": {
    "collapsed": false
   },
   "outputs": [
    {
     "data": {
      "text/plain": [
       "array([[ 0.108 ,  0.087 ,  0.105 ],\n",
       "       [ 0.0792,  0.0638,  0.077 ],\n",
       "       [ 0.1728,  0.1392,  0.168 ]])"
      ]
     },
     "execution_count": 4,
     "metadata": {},
     "output_type": "execute_result"
    }
   ],
   "source": [
    "joint_prob_XY_indep"
   ]
  },
  {
   "cell_type": "code",
   "execution_count": 5,
   "metadata": {
    "collapsed": false
   },
   "outputs": [
    {
     "data": {
      "text/plain": [
       "array([[ 0.1 ,  0.09,  0.11],\n",
       "       [ 0.08,  0.07,  0.07],\n",
       "       [ 0.18,  0.13,  0.17]])"
      ]
     },
     "execution_count": 5,
     "metadata": {},
     "output_type": "execute_result"
    }
   ],
   "source": [
    "joint_prob_XY"
   ]
  },
  {
   "cell_type": "code",
   "execution_count": 11,
   "metadata": {
    "collapsed": false
   },
   "outputs": [],
   "source": [
    "xyz = (joint_prob_XY/joint_prob_XY_indep).sum()"
   ]
  },
  {
   "cell_type": "code",
   "execution_count": 12,
   "metadata": {
    "collapsed": false
   },
   "outputs": [
    {
     "data": {
      "text/plain": [
       "9.0118778092916028"
      ]
     },
     "execution_count": 12,
     "metadata": {},
     "output_type": "execute_result"
    }
   ],
   "source": [
    "xyz"
   ]
  },
  {
   "cell_type": "code",
   "execution_count": null,
   "metadata": {
    "collapsed": true
   },
   "outputs": [],
   "source": []
  }
 ],
 "metadata": {
  "kernelspec": {
   "display_name": "Python 2",
   "language": "python",
   "name": "python2"
  },
  "language_info": {
   "codemirror_mode": {
    "name": "ipython",
    "version": 2
   },
   "file_extension": ".py",
   "mimetype": "text/x-python",
   "name": "python",
   "nbconvert_exporter": "python",
   "pygments_lexer": "ipython2",
   "version": "2.7.11"
  }
 },
 "nbformat": 4,
 "nbformat_minor": 0
}
