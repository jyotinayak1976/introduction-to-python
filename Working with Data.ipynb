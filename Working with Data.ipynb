{
 "cells": [
  {
   "cell_type": "code",
   "execution_count": 1,
   "metadata": {
    "collapsed": true
   },
   "outputs": [],
   "source": [
    "import numpy as np\n",
    "import pandas as pd\n",
    "from pandas import Series, DataFrame"
   ]
  },
  {
   "cell_type": "code",
   "execution_count": 3,
   "metadata": {
    "collapsed": false
   },
   "outputs": [
    {
     "name": "stdout",
     "output_type": "stream",
     "text": [
      "F:\\sigma analytics & computing\\training PPT\\example data set\n"
     ]
    }
   ],
   "source": [
    "cd 'F:\\sigma analytics & computing\\training PPT\\example data set'"
   ]
  },
  {
   "cell_type": "code",
   "execution_count": 4,
   "metadata": {
    "collapsed": false
   },
   "outputs": [
    {
     "name": "stdout",
     "output_type": "stream",
     "text": [
      " Volume in drive F is New Volume\n",
      " Volume Serial Number is BE9F-9F13\n",
      "\n",
      " Directory of F:\\sigma analytics & computing\\training PPT\\example data set\n",
      "\n",
      "08/14/2016  08:16 AM    <DIR>          .\n",
      "08/14/2016  08:16 AM    <DIR>          ..\n",
      "08/14/2016  08:16 AM         3,013,884 .RData\n",
      "08/14/2016  08:16 AM            10,465 .Rhistory\n",
      "08/01/2016  10:06 AM    <DIR>          census-house.tar\n",
      "08/01/2016  10:01 AM        48,903,479 census-house.tar.gz\n",
      "07/31/2016  08:35 PM         9,419,450 Dat 21 Kaggle test.csv\n",
      "07/31/2016  08:37 PM        17,054,676 Dat 21 kaggle train.csv\n",
      "08/01/2016  09:46 AM        37,077,779 dds_datasets.zip\n",
      "07/27/2015  09:26 AM         5,217,014 facebook.tsv\n",
      "08/10/2016  07:41 PM             1,073 first script on logistic regression.R\n",
      "07/24/2016  11:48 PM               354 first_script_on_multiple_linearRegression.R\n",
      "08/06/2016  10:42 PM               488 fourth script on linear regresion.R\n",
      "05/04/2014  11:18 PM           191,803 framingham.csv\n",
      "08/01/2016  10:40 AM         1,525,307 house price data set.csv\n",
      "08/01/2016  10:36 AM         1,813,285 house price data set.xlsx\n",
      "07/24/2016  08:28 PM             5,187 mlr07.xls\n",
      "07/24/2016  08:50 PM             1,824 mlr07new.csv\n",
      "07/24/2016  10:08 PM            18,123 mpg.csv\n",
      "07/31/2016  06:46 PM         4,553,616 reddit.csv\n",
      "07/24/2016  11:48 PM               493 second_script_on_multiple_linearRegression.R\n",
      "08/06/2016  09:52 PM             1,785 Third script on linear regression.R\n",
      "              19 File(s)    128,810,085 bytes\n",
      "               3 Dir(s)  132,149,686,272 bytes free\n"
     ]
    }
   ],
   "source": [
    "ls"
   ]
  },
  {
   "cell_type": "code",
   "execution_count": 5,
   "metadata": {
    "collapsed": true
   },
   "outputs": [],
   "source": [
    "mpg = pd.read_csv('mpg.csv')"
   ]
  },
  {
   "cell_type": "code",
   "execution_count": 6,
   "metadata": {
    "collapsed": false
   },
   "outputs": [
    {
     "data": {
      "text/html": [
       "<div>\n",
       "<table border=\"1\" class=\"dataframe\">\n",
       "  <thead>\n",
       "    <tr style=\"text-align: right;\">\n",
       "      <th></th>\n",
       "      <th>MPG</th>\n",
       "      <th>Cylinders</th>\n",
       "      <th>Displacements</th>\n",
       "      <th>HP</th>\n",
       "      <th>weight</th>\n",
       "      <th>Acceleration</th>\n",
       "      <th>model Year</th>\n",
       "      <th>Origin</th>\n",
       "      <th>CarName</th>\n",
       "    </tr>\n",
       "  </thead>\n",
       "  <tbody>\n",
       "    <tr>\n",
       "      <th>0</th>\n",
       "      <td>18</td>\n",
       "      <td>8</td>\n",
       "      <td>307</td>\n",
       "      <td>130</td>\n",
       "      <td>3504</td>\n",
       "      <td>12.0</td>\n",
       "      <td>70</td>\n",
       "      <td>1</td>\n",
       "      <td>chevrolet chevelle malibu</td>\n",
       "    </tr>\n",
       "    <tr>\n",
       "      <th>1</th>\n",
       "      <td>15</td>\n",
       "      <td>8</td>\n",
       "      <td>350</td>\n",
       "      <td>165</td>\n",
       "      <td>3693</td>\n",
       "      <td>11.5</td>\n",
       "      <td>70</td>\n",
       "      <td>1</td>\n",
       "      <td>buick skylark 320</td>\n",
       "    </tr>\n",
       "    <tr>\n",
       "      <th>2</th>\n",
       "      <td>18</td>\n",
       "      <td>8</td>\n",
       "      <td>318</td>\n",
       "      <td>150</td>\n",
       "      <td>3436</td>\n",
       "      <td>11.0</td>\n",
       "      <td>70</td>\n",
       "      <td>1</td>\n",
       "      <td>plymouth satellite</td>\n",
       "    </tr>\n",
       "    <tr>\n",
       "      <th>3</th>\n",
       "      <td>16</td>\n",
       "      <td>8</td>\n",
       "      <td>304</td>\n",
       "      <td>150</td>\n",
       "      <td>3433</td>\n",
       "      <td>12.0</td>\n",
       "      <td>70</td>\n",
       "      <td>1</td>\n",
       "      <td>amc rebel sst</td>\n",
       "    </tr>\n",
       "    <tr>\n",
       "      <th>4</th>\n",
       "      <td>17</td>\n",
       "      <td>8</td>\n",
       "      <td>302</td>\n",
       "      <td>140</td>\n",
       "      <td>3449</td>\n",
       "      <td>10.5</td>\n",
       "      <td>70</td>\n",
       "      <td>1</td>\n",
       "      <td>ford torino</td>\n",
       "    </tr>\n",
       "    <tr>\n",
       "      <th>5</th>\n",
       "      <td>15</td>\n",
       "      <td>8</td>\n",
       "      <td>429</td>\n",
       "      <td>198</td>\n",
       "      <td>4341</td>\n",
       "      <td>10.0</td>\n",
       "      <td>70</td>\n",
       "      <td>1</td>\n",
       "      <td>ford galaxie 500</td>\n",
       "    </tr>\n",
       "    <tr>\n",
       "      <th>6</th>\n",
       "      <td>14</td>\n",
       "      <td>8</td>\n",
       "      <td>454</td>\n",
       "      <td>220</td>\n",
       "      <td>4354</td>\n",
       "      <td>9.0</td>\n",
       "      <td>70</td>\n",
       "      <td>1</td>\n",
       "      <td>chevrolet impala</td>\n",
       "    </tr>\n",
       "    <tr>\n",
       "      <th>7</th>\n",
       "      <td>14</td>\n",
       "      <td>8</td>\n",
       "      <td>440</td>\n",
       "      <td>215</td>\n",
       "      <td>4312</td>\n",
       "      <td>8.5</td>\n",
       "      <td>70</td>\n",
       "      <td>1</td>\n",
       "      <td>plymouth fury iii</td>\n",
       "    </tr>\n",
       "    <tr>\n",
       "      <th>8</th>\n",
       "      <td>14</td>\n",
       "      <td>8</td>\n",
       "      <td>455</td>\n",
       "      <td>225</td>\n",
       "      <td>4425</td>\n",
       "      <td>10.0</td>\n",
       "      <td>70</td>\n",
       "      <td>1</td>\n",
       "      <td>pontiac catalina</td>\n",
       "    </tr>\n",
       "    <tr>\n",
       "      <th>9</th>\n",
       "      <td>15</td>\n",
       "      <td>8</td>\n",
       "      <td>390</td>\n",
       "      <td>190</td>\n",
       "      <td>3850</td>\n",
       "      <td>8.5</td>\n",
       "      <td>70</td>\n",
       "      <td>1</td>\n",
       "      <td>amc ambassador dpl</td>\n",
       "    </tr>\n",
       "    <tr>\n",
       "      <th>10</th>\n",
       "      <td>15</td>\n",
       "      <td>8</td>\n",
       "      <td>383</td>\n",
       "      <td>170</td>\n",
       "      <td>3563</td>\n",
       "      <td>10.0</td>\n",
       "      <td>70</td>\n",
       "      <td>1</td>\n",
       "      <td>dodge challenger se</td>\n",
       "    </tr>\n",
       "    <tr>\n",
       "      <th>11</th>\n",
       "      <td>14</td>\n",
       "      <td>8</td>\n",
       "      <td>340</td>\n",
       "      <td>160</td>\n",
       "      <td>3609</td>\n",
       "      <td>8.0</td>\n",
       "      <td>70</td>\n",
       "      <td>1</td>\n",
       "      <td>plymouth 'cuda 340</td>\n",
       "    </tr>\n",
       "    <tr>\n",
       "      <th>12</th>\n",
       "      <td>15</td>\n",
       "      <td>8</td>\n",
       "      <td>400</td>\n",
       "      <td>150</td>\n",
       "      <td>3761</td>\n",
       "      <td>9.5</td>\n",
       "      <td>70</td>\n",
       "      <td>1</td>\n",
       "      <td>chevrolet monte carlo</td>\n",
       "    </tr>\n",
       "    <tr>\n",
       "      <th>13</th>\n",
       "      <td>14</td>\n",
       "      <td>8</td>\n",
       "      <td>455</td>\n",
       "      <td>225</td>\n",
       "      <td>3086</td>\n",
       "      <td>10.0</td>\n",
       "      <td>70</td>\n",
       "      <td>1</td>\n",
       "      <td>buick estate wagon (sw)</td>\n",
       "    </tr>\n",
       "    <tr>\n",
       "      <th>14</th>\n",
       "      <td>24</td>\n",
       "      <td>4</td>\n",
       "      <td>113</td>\n",
       "      <td>95</td>\n",
       "      <td>2372</td>\n",
       "      <td>15.0</td>\n",
       "      <td>70</td>\n",
       "      <td>3</td>\n",
       "      <td>toyota corona mark ii</td>\n",
       "    </tr>\n",
       "    <tr>\n",
       "      <th>15</th>\n",
       "      <td>22</td>\n",
       "      <td>6</td>\n",
       "      <td>198</td>\n",
       "      <td>95</td>\n",
       "      <td>2833</td>\n",
       "      <td>15.5</td>\n",
       "      <td>70</td>\n",
       "      <td>1</td>\n",
       "      <td>plymouth duster</td>\n",
       "    </tr>\n",
       "    <tr>\n",
       "      <th>16</th>\n",
       "      <td>18</td>\n",
       "      <td>6</td>\n",
       "      <td>199</td>\n",
       "      <td>97</td>\n",
       "      <td>2774</td>\n",
       "      <td>15.5</td>\n",
       "      <td>70</td>\n",
       "      <td>1</td>\n",
       "      <td>amc hornet</td>\n",
       "    </tr>\n",
       "    <tr>\n",
       "      <th>17</th>\n",
       "      <td>21</td>\n",
       "      <td>6</td>\n",
       "      <td>200</td>\n",
       "      <td>85</td>\n",
       "      <td>2587</td>\n",
       "      <td>16.0</td>\n",
       "      <td>70</td>\n",
       "      <td>1</td>\n",
       "      <td>ford maverick</td>\n",
       "    </tr>\n",
       "    <tr>\n",
       "      <th>18</th>\n",
       "      <td>27</td>\n",
       "      <td>4</td>\n",
       "      <td>97</td>\n",
       "      <td>88</td>\n",
       "      <td>2130</td>\n",
       "      <td>14.5</td>\n",
       "      <td>70</td>\n",
       "      <td>3</td>\n",
       "      <td>datsun pl510</td>\n",
       "    </tr>\n",
       "    <tr>\n",
       "      <th>19</th>\n",
       "      <td>26</td>\n",
       "      <td>4</td>\n",
       "      <td>97</td>\n",
       "      <td>46</td>\n",
       "      <td>1835</td>\n",
       "      <td>20.5</td>\n",
       "      <td>70</td>\n",
       "      <td>2</td>\n",
       "      <td>volkswagen 1131 deluxe sedan</td>\n",
       "    </tr>\n",
       "    <tr>\n",
       "      <th>20</th>\n",
       "      <td>25</td>\n",
       "      <td>4</td>\n",
       "      <td>110</td>\n",
       "      <td>87</td>\n",
       "      <td>2672</td>\n",
       "      <td>17.5</td>\n",
       "      <td>70</td>\n",
       "      <td>2</td>\n",
       "      <td>peugeot 504</td>\n",
       "    </tr>\n",
       "    <tr>\n",
       "      <th>21</th>\n",
       "      <td>24</td>\n",
       "      <td>4</td>\n",
       "      <td>107</td>\n",
       "      <td>90</td>\n",
       "      <td>2430</td>\n",
       "      <td>14.5</td>\n",
       "      <td>70</td>\n",
       "      <td>2</td>\n",
       "      <td>audi 100 ls</td>\n",
       "    </tr>\n",
       "    <tr>\n",
       "      <th>22</th>\n",
       "      <td>25</td>\n",
       "      <td>4</td>\n",
       "      <td>104</td>\n",
       "      <td>95</td>\n",
       "      <td>2375</td>\n",
       "      <td>17.5</td>\n",
       "      <td>70</td>\n",
       "      <td>2</td>\n",
       "      <td>saab 99e</td>\n",
       "    </tr>\n",
       "    <tr>\n",
       "      <th>23</th>\n",
       "      <td>26</td>\n",
       "      <td>4</td>\n",
       "      <td>121</td>\n",
       "      <td>113</td>\n",
       "      <td>2234</td>\n",
       "      <td>12.5</td>\n",
       "      <td>70</td>\n",
       "      <td>2</td>\n",
       "      <td>bmw 2002</td>\n",
       "    </tr>\n",
       "    <tr>\n",
       "      <th>24</th>\n",
       "      <td>21</td>\n",
       "      <td>6</td>\n",
       "      <td>199</td>\n",
       "      <td>90</td>\n",
       "      <td>2648</td>\n",
       "      <td>15.0</td>\n",
       "      <td>70</td>\n",
       "      <td>1</td>\n",
       "      <td>amc gremlin</td>\n",
       "    </tr>\n",
       "    <tr>\n",
       "      <th>25</th>\n",
       "      <td>10</td>\n",
       "      <td>8</td>\n",
       "      <td>360</td>\n",
       "      <td>215</td>\n",
       "      <td>4615</td>\n",
       "      <td>14.0</td>\n",
       "      <td>70</td>\n",
       "      <td>1</td>\n",
       "      <td>ford f250</td>\n",
       "    </tr>\n",
       "    <tr>\n",
       "      <th>26</th>\n",
       "      <td>10</td>\n",
       "      <td>8</td>\n",
       "      <td>307</td>\n",
       "      <td>200</td>\n",
       "      <td>4376</td>\n",
       "      <td>15.0</td>\n",
       "      <td>70</td>\n",
       "      <td>1</td>\n",
       "      <td>chevy c20</td>\n",
       "    </tr>\n",
       "    <tr>\n",
       "      <th>27</th>\n",
       "      <td>11</td>\n",
       "      <td>8</td>\n",
       "      <td>318</td>\n",
       "      <td>210</td>\n",
       "      <td>4382</td>\n",
       "      <td>13.5</td>\n",
       "      <td>70</td>\n",
       "      <td>1</td>\n",
       "      <td>dodge d200</td>\n",
       "    </tr>\n",
       "    <tr>\n",
       "      <th>28</th>\n",
       "      <td>9</td>\n",
       "      <td>8</td>\n",
       "      <td>304</td>\n",
       "      <td>193</td>\n",
       "      <td>4732</td>\n",
       "      <td>18.5</td>\n",
       "      <td>70</td>\n",
       "      <td>1</td>\n",
       "      <td>hi 1200d</td>\n",
       "    </tr>\n",
       "    <tr>\n",
       "      <th>29</th>\n",
       "      <td>27</td>\n",
       "      <td>4</td>\n",
       "      <td>97</td>\n",
       "      <td>88</td>\n",
       "      <td>2130</td>\n",
       "      <td>14.5</td>\n",
       "      <td>71</td>\n",
       "      <td>3</td>\n",
       "      <td>datsun pl510</td>\n",
       "    </tr>\n",
       "    <tr>\n",
       "      <th>...</th>\n",
       "      <td>...</td>\n",
       "      <td>...</td>\n",
       "      <td>...</td>\n",
       "      <td>...</td>\n",
       "      <td>...</td>\n",
       "      <td>...</td>\n",
       "      <td>...</td>\n",
       "      <td>...</td>\n",
       "      <td>...</td>\n",
       "    </tr>\n",
       "    <tr>\n",
       "      <th>368</th>\n",
       "      <td>27</td>\n",
       "      <td>4</td>\n",
       "      <td>112</td>\n",
       "      <td>88</td>\n",
       "      <td>2640</td>\n",
       "      <td>18.6</td>\n",
       "      <td>82</td>\n",
       "      <td>1</td>\n",
       "      <td>chevrolet cavalier wagon</td>\n",
       "    </tr>\n",
       "    <tr>\n",
       "      <th>369</th>\n",
       "      <td>34</td>\n",
       "      <td>4</td>\n",
       "      <td>112</td>\n",
       "      <td>88</td>\n",
       "      <td>2395</td>\n",
       "      <td>18.0</td>\n",
       "      <td>82</td>\n",
       "      <td>1</td>\n",
       "      <td>chevrolet cavalier 2-door</td>\n",
       "    </tr>\n",
       "    <tr>\n",
       "      <th>370</th>\n",
       "      <td>31</td>\n",
       "      <td>4</td>\n",
       "      <td>112</td>\n",
       "      <td>85</td>\n",
       "      <td>2575</td>\n",
       "      <td>16.2</td>\n",
       "      <td>82</td>\n",
       "      <td>1</td>\n",
       "      <td>pontiac j2000 se hatchback</td>\n",
       "    </tr>\n",
       "    <tr>\n",
       "      <th>371</th>\n",
       "      <td>29</td>\n",
       "      <td>4</td>\n",
       "      <td>135</td>\n",
       "      <td>84</td>\n",
       "      <td>2525</td>\n",
       "      <td>16.0</td>\n",
       "      <td>82</td>\n",
       "      <td>1</td>\n",
       "      <td>dodge aries se</td>\n",
       "    </tr>\n",
       "    <tr>\n",
       "      <th>372</th>\n",
       "      <td>27</td>\n",
       "      <td>4</td>\n",
       "      <td>151</td>\n",
       "      <td>90</td>\n",
       "      <td>2735</td>\n",
       "      <td>18.0</td>\n",
       "      <td>82</td>\n",
       "      <td>1</td>\n",
       "      <td>pontiac phoenix</td>\n",
       "    </tr>\n",
       "    <tr>\n",
       "      <th>373</th>\n",
       "      <td>24</td>\n",
       "      <td>4</td>\n",
       "      <td>140</td>\n",
       "      <td>92</td>\n",
       "      <td>2865</td>\n",
       "      <td>16.4</td>\n",
       "      <td>82</td>\n",
       "      <td>1</td>\n",
       "      <td>ford fairmont futura</td>\n",
       "    </tr>\n",
       "    <tr>\n",
       "      <th>374</th>\n",
       "      <td>23</td>\n",
       "      <td>4</td>\n",
       "      <td>151</td>\n",
       "      <td>?</td>\n",
       "      <td>3035</td>\n",
       "      <td>20.5</td>\n",
       "      <td>82</td>\n",
       "      <td>1</td>\n",
       "      <td>amc concord dl</td>\n",
       "    </tr>\n",
       "    <tr>\n",
       "      <th>375</th>\n",
       "      <td>36</td>\n",
       "      <td>4</td>\n",
       "      <td>105</td>\n",
       "      <td>74</td>\n",
       "      <td>1980</td>\n",
       "      <td>15.3</td>\n",
       "      <td>82</td>\n",
       "      <td>2</td>\n",
       "      <td>volkswagen rabbit l</td>\n",
       "    </tr>\n",
       "    <tr>\n",
       "      <th>376</th>\n",
       "      <td>37</td>\n",
       "      <td>4</td>\n",
       "      <td>91</td>\n",
       "      <td>68</td>\n",
       "      <td>2025</td>\n",
       "      <td>18.2</td>\n",
       "      <td>82</td>\n",
       "      <td>3</td>\n",
       "      <td>mazda glc custom l</td>\n",
       "    </tr>\n",
       "    <tr>\n",
       "      <th>377</th>\n",
       "      <td>31</td>\n",
       "      <td>4</td>\n",
       "      <td>91</td>\n",
       "      <td>68</td>\n",
       "      <td>1970</td>\n",
       "      <td>17.6</td>\n",
       "      <td>82</td>\n",
       "      <td>3</td>\n",
       "      <td>mazda glc custom</td>\n",
       "    </tr>\n",
       "    <tr>\n",
       "      <th>378</th>\n",
       "      <td>38</td>\n",
       "      <td>4</td>\n",
       "      <td>105</td>\n",
       "      <td>63</td>\n",
       "      <td>2125</td>\n",
       "      <td>14.7</td>\n",
       "      <td>82</td>\n",
       "      <td>1</td>\n",
       "      <td>plymouth horizon miser</td>\n",
       "    </tr>\n",
       "    <tr>\n",
       "      <th>379</th>\n",
       "      <td>36</td>\n",
       "      <td>4</td>\n",
       "      <td>98</td>\n",
       "      <td>70</td>\n",
       "      <td>2125</td>\n",
       "      <td>17.3</td>\n",
       "      <td>82</td>\n",
       "      <td>1</td>\n",
       "      <td>mercury lynx l</td>\n",
       "    </tr>\n",
       "    <tr>\n",
       "      <th>380</th>\n",
       "      <td>36</td>\n",
       "      <td>4</td>\n",
       "      <td>120</td>\n",
       "      <td>88</td>\n",
       "      <td>2160</td>\n",
       "      <td>14.5</td>\n",
       "      <td>82</td>\n",
       "      <td>3</td>\n",
       "      <td>nissan stanza xe</td>\n",
       "    </tr>\n",
       "    <tr>\n",
       "      <th>381</th>\n",
       "      <td>36</td>\n",
       "      <td>4</td>\n",
       "      <td>107</td>\n",
       "      <td>75</td>\n",
       "      <td>2205</td>\n",
       "      <td>14.5</td>\n",
       "      <td>82</td>\n",
       "      <td>3</td>\n",
       "      <td>honda accord</td>\n",
       "    </tr>\n",
       "    <tr>\n",
       "      <th>382</th>\n",
       "      <td>34</td>\n",
       "      <td>4</td>\n",
       "      <td>108</td>\n",
       "      <td>70</td>\n",
       "      <td>2245</td>\n",
       "      <td>16.9</td>\n",
       "      <td>82</td>\n",
       "      <td>3</td>\n",
       "      <td>toyota corolla</td>\n",
       "    </tr>\n",
       "    <tr>\n",
       "      <th>383</th>\n",
       "      <td>38</td>\n",
       "      <td>4</td>\n",
       "      <td>91</td>\n",
       "      <td>67</td>\n",
       "      <td>1965</td>\n",
       "      <td>15.0</td>\n",
       "      <td>82</td>\n",
       "      <td>3</td>\n",
       "      <td>honda civic</td>\n",
       "    </tr>\n",
       "    <tr>\n",
       "      <th>384</th>\n",
       "      <td>32</td>\n",
       "      <td>4</td>\n",
       "      <td>91</td>\n",
       "      <td>67</td>\n",
       "      <td>1965</td>\n",
       "      <td>15.7</td>\n",
       "      <td>82</td>\n",
       "      <td>3</td>\n",
       "      <td>honda civic (auto)</td>\n",
       "    </tr>\n",
       "    <tr>\n",
       "      <th>385</th>\n",
       "      <td>38</td>\n",
       "      <td>4</td>\n",
       "      <td>91</td>\n",
       "      <td>67</td>\n",
       "      <td>1995</td>\n",
       "      <td>16.2</td>\n",
       "      <td>82</td>\n",
       "      <td>3</td>\n",
       "      <td>datsun 310 gx</td>\n",
       "    </tr>\n",
       "    <tr>\n",
       "      <th>386</th>\n",
       "      <td>25</td>\n",
       "      <td>6</td>\n",
       "      <td>181</td>\n",
       "      <td>110</td>\n",
       "      <td>2945</td>\n",
       "      <td>16.4</td>\n",
       "      <td>82</td>\n",
       "      <td>1</td>\n",
       "      <td>buick century limited</td>\n",
       "    </tr>\n",
       "    <tr>\n",
       "      <th>387</th>\n",
       "      <td>38</td>\n",
       "      <td>6</td>\n",
       "      <td>262</td>\n",
       "      <td>85</td>\n",
       "      <td>3015</td>\n",
       "      <td>17.0</td>\n",
       "      <td>82</td>\n",
       "      <td>1</td>\n",
       "      <td>oldsmobile cutlass ciera (diesel)</td>\n",
       "    </tr>\n",
       "    <tr>\n",
       "      <th>388</th>\n",
       "      <td>26</td>\n",
       "      <td>4</td>\n",
       "      <td>156</td>\n",
       "      <td>92</td>\n",
       "      <td>2585</td>\n",
       "      <td>14.5</td>\n",
       "      <td>82</td>\n",
       "      <td>1</td>\n",
       "      <td>chrysler lebaron medallion</td>\n",
       "    </tr>\n",
       "    <tr>\n",
       "      <th>389</th>\n",
       "      <td>22</td>\n",
       "      <td>6</td>\n",
       "      <td>232</td>\n",
       "      <td>112</td>\n",
       "      <td>2835</td>\n",
       "      <td>14.7</td>\n",
       "      <td>82</td>\n",
       "      <td>1</td>\n",
       "      <td>ford granada l</td>\n",
       "    </tr>\n",
       "    <tr>\n",
       "      <th>390</th>\n",
       "      <td>32</td>\n",
       "      <td>4</td>\n",
       "      <td>144</td>\n",
       "      <td>96</td>\n",
       "      <td>2665</td>\n",
       "      <td>13.9</td>\n",
       "      <td>82</td>\n",
       "      <td>3</td>\n",
       "      <td>toyota celica gt</td>\n",
       "    </tr>\n",
       "    <tr>\n",
       "      <th>391</th>\n",
       "      <td>36</td>\n",
       "      <td>4</td>\n",
       "      <td>135</td>\n",
       "      <td>84</td>\n",
       "      <td>2370</td>\n",
       "      <td>13.0</td>\n",
       "      <td>82</td>\n",
       "      <td>1</td>\n",
       "      <td>dodge charger 2.2</td>\n",
       "    </tr>\n",
       "    <tr>\n",
       "      <th>392</th>\n",
       "      <td>27</td>\n",
       "      <td>4</td>\n",
       "      <td>151</td>\n",
       "      <td>90</td>\n",
       "      <td>2950</td>\n",
       "      <td>17.3</td>\n",
       "      <td>82</td>\n",
       "      <td>1</td>\n",
       "      <td>chevrolet camaro</td>\n",
       "    </tr>\n",
       "    <tr>\n",
       "      <th>393</th>\n",
       "      <td>27</td>\n",
       "      <td>4</td>\n",
       "      <td>140</td>\n",
       "      <td>86</td>\n",
       "      <td>2790</td>\n",
       "      <td>15.6</td>\n",
       "      <td>82</td>\n",
       "      <td>1</td>\n",
       "      <td>ford mustang gl</td>\n",
       "    </tr>\n",
       "    <tr>\n",
       "      <th>394</th>\n",
       "      <td>44</td>\n",
       "      <td>4</td>\n",
       "      <td>97</td>\n",
       "      <td>52</td>\n",
       "      <td>2130</td>\n",
       "      <td>24.6</td>\n",
       "      <td>82</td>\n",
       "      <td>2</td>\n",
       "      <td>vw pickup</td>\n",
       "    </tr>\n",
       "    <tr>\n",
       "      <th>395</th>\n",
       "      <td>32</td>\n",
       "      <td>4</td>\n",
       "      <td>135</td>\n",
       "      <td>84</td>\n",
       "      <td>2295</td>\n",
       "      <td>11.6</td>\n",
       "      <td>82</td>\n",
       "      <td>1</td>\n",
       "      <td>dodge rampage</td>\n",
       "    </tr>\n",
       "    <tr>\n",
       "      <th>396</th>\n",
       "      <td>28</td>\n",
       "      <td>4</td>\n",
       "      <td>120</td>\n",
       "      <td>79</td>\n",
       "      <td>2625</td>\n",
       "      <td>18.6</td>\n",
       "      <td>82</td>\n",
       "      <td>1</td>\n",
       "      <td>ford ranger</td>\n",
       "    </tr>\n",
       "    <tr>\n",
       "      <th>397</th>\n",
       "      <td>31</td>\n",
       "      <td>4</td>\n",
       "      <td>119</td>\n",
       "      <td>82</td>\n",
       "      <td>2720</td>\n",
       "      <td>19.4</td>\n",
       "      <td>82</td>\n",
       "      <td>1</td>\n",
       "      <td>chevy s-10</td>\n",
       "    </tr>\n",
       "  </tbody>\n",
       "</table>\n",
       "<p>398 rows × 9 columns</p>\n",
       "</div>"
      ],
      "text/plain": [
       "     MPG  Cylinders  Displacements   HP  weight  Acceleration  model Year  \\\n",
       "0     18          8            307  130    3504          12.0          70   \n",
       "1     15          8            350  165    3693          11.5          70   \n",
       "2     18          8            318  150    3436          11.0          70   \n",
       "3     16          8            304  150    3433          12.0          70   \n",
       "4     17          8            302  140    3449          10.5          70   \n",
       "5     15          8            429  198    4341          10.0          70   \n",
       "6     14          8            454  220    4354           9.0          70   \n",
       "7     14          8            440  215    4312           8.5          70   \n",
       "8     14          8            455  225    4425          10.0          70   \n",
       "9     15          8            390  190    3850           8.5          70   \n",
       "10    15          8            383  170    3563          10.0          70   \n",
       "11    14          8            340  160    3609           8.0          70   \n",
       "12    15          8            400  150    3761           9.5          70   \n",
       "13    14          8            455  225    3086          10.0          70   \n",
       "14    24          4            113   95    2372          15.0          70   \n",
       "15    22          6            198   95    2833          15.5          70   \n",
       "16    18          6            199   97    2774          15.5          70   \n",
       "17    21          6            200   85    2587          16.0          70   \n",
       "18    27          4             97   88    2130          14.5          70   \n",
       "19    26          4             97   46    1835          20.5          70   \n",
       "20    25          4            110   87    2672          17.5          70   \n",
       "21    24          4            107   90    2430          14.5          70   \n",
       "22    25          4            104   95    2375          17.5          70   \n",
       "23    26          4            121  113    2234          12.5          70   \n",
       "24    21          6            199   90    2648          15.0          70   \n",
       "25    10          8            360  215    4615          14.0          70   \n",
       "26    10          8            307  200    4376          15.0          70   \n",
       "27    11          8            318  210    4382          13.5          70   \n",
       "28     9          8            304  193    4732          18.5          70   \n",
       "29    27          4             97   88    2130          14.5          71   \n",
       "..   ...        ...            ...  ...     ...           ...         ...   \n",
       "368   27          4            112   88    2640          18.6          82   \n",
       "369   34          4            112   88    2395          18.0          82   \n",
       "370   31          4            112   85    2575          16.2          82   \n",
       "371   29          4            135   84    2525          16.0          82   \n",
       "372   27          4            151   90    2735          18.0          82   \n",
       "373   24          4            140   92    2865          16.4          82   \n",
       "374   23          4            151    ?    3035          20.5          82   \n",
       "375   36          4            105   74    1980          15.3          82   \n",
       "376   37          4             91   68    2025          18.2          82   \n",
       "377   31          4             91   68    1970          17.6          82   \n",
       "378   38          4            105   63    2125          14.7          82   \n",
       "379   36          4             98   70    2125          17.3          82   \n",
       "380   36          4            120   88    2160          14.5          82   \n",
       "381   36          4            107   75    2205          14.5          82   \n",
       "382   34          4            108   70    2245          16.9          82   \n",
       "383   38          4             91   67    1965          15.0          82   \n",
       "384   32          4             91   67    1965          15.7          82   \n",
       "385   38          4             91   67    1995          16.2          82   \n",
       "386   25          6            181  110    2945          16.4          82   \n",
       "387   38          6            262   85    3015          17.0          82   \n",
       "388   26          4            156   92    2585          14.5          82   \n",
       "389   22          6            232  112    2835          14.7          82   \n",
       "390   32          4            144   96    2665          13.9          82   \n",
       "391   36          4            135   84    2370          13.0          82   \n",
       "392   27          4            151   90    2950          17.3          82   \n",
       "393   27          4            140   86    2790          15.6          82   \n",
       "394   44          4             97   52    2130          24.6          82   \n",
       "395   32          4            135   84    2295          11.6          82   \n",
       "396   28          4            120   79    2625          18.6          82   \n",
       "397   31          4            119   82    2720          19.4          82   \n",
       "\n",
       "     Origin                            CarName  \n",
       "0         1          chevrolet chevelle malibu  \n",
       "1         1                  buick skylark 320  \n",
       "2         1                 plymouth satellite  \n",
       "3         1                      amc rebel sst  \n",
       "4         1                        ford torino  \n",
       "5         1                   ford galaxie 500  \n",
       "6         1                   chevrolet impala  \n",
       "7         1                  plymouth fury iii  \n",
       "8         1                   pontiac catalina  \n",
       "9         1                 amc ambassador dpl  \n",
       "10        1                dodge challenger se  \n",
       "11        1                 plymouth 'cuda 340  \n",
       "12        1              chevrolet monte carlo  \n",
       "13        1            buick estate wagon (sw)  \n",
       "14        3              toyota corona mark ii  \n",
       "15        1                    plymouth duster  \n",
       "16        1                         amc hornet  \n",
       "17        1                      ford maverick  \n",
       "18        3                       datsun pl510  \n",
       "19        2       volkswagen 1131 deluxe sedan  \n",
       "20        2                        peugeot 504  \n",
       "21        2                        audi 100 ls  \n",
       "22        2                           saab 99e  \n",
       "23        2                           bmw 2002  \n",
       "24        1                        amc gremlin  \n",
       "25        1                          ford f250  \n",
       "26        1                          chevy c20  \n",
       "27        1                         dodge d200  \n",
       "28        1                           hi 1200d  \n",
       "29        3                       datsun pl510  \n",
       "..      ...                                ...  \n",
       "368       1           chevrolet cavalier wagon  \n",
       "369       1          chevrolet cavalier 2-door  \n",
       "370       1         pontiac j2000 se hatchback  \n",
       "371       1                     dodge aries se  \n",
       "372       1                    pontiac phoenix  \n",
       "373       1               ford fairmont futura  \n",
       "374       1                     amc concord dl  \n",
       "375       2                volkswagen rabbit l  \n",
       "376       3                 mazda glc custom l  \n",
       "377       3                   mazda glc custom  \n",
       "378       1             plymouth horizon miser  \n",
       "379       1                     mercury lynx l  \n",
       "380       3                   nissan stanza xe  \n",
       "381       3                       honda accord  \n",
       "382       3                     toyota corolla  \n",
       "383       3                        honda civic  \n",
       "384       3                 honda civic (auto)  \n",
       "385       3                      datsun 310 gx  \n",
       "386       1              buick century limited  \n",
       "387       1  oldsmobile cutlass ciera (diesel)  \n",
       "388       1         chrysler lebaron medallion  \n",
       "389       1                     ford granada l  \n",
       "390       3                   toyota celica gt  \n",
       "391       1                  dodge charger 2.2  \n",
       "392       1                   chevrolet camaro  \n",
       "393       1                    ford mustang gl  \n",
       "394       2                          vw pickup  \n",
       "395       1                      dodge rampage  \n",
       "396       1                        ford ranger  \n",
       "397       1                         chevy s-10  \n",
       "\n",
       "[398 rows x 9 columns]"
      ]
     },
     "execution_count": 6,
     "metadata": {},
     "output_type": "execute_result"
    }
   ],
   "source": [
    "mpg"
   ]
  },
  {
   "cell_type": "code",
   "execution_count": 15,
   "metadata": {
    "collapsed": false
   },
   "outputs": [
    {
     "data": {
      "text/plain": [
       "MPG                       17\n",
       "Cylinders                  8\n",
       "Displacements            302\n",
       "HP                       140\n",
       "weight                  3449\n",
       "Acceleration            10.5\n",
       "model Year                70\n",
       "Origin                     1\n",
       "CarName          ford torino\n",
       "Name: 4, dtype: object"
      ]
     },
     "execution_count": 15,
     "metadata": {},
     "output_type": "execute_result"
    }
   ],
   "source": [
    "mpg.ix[4]"
   ]
  },
  {
   "cell_type": "code",
   "execution_count": 12,
   "metadata": {
    "collapsed": false
   },
   "outputs": [
    {
     "data": {
      "text/plain": [
       "Index([u'MPG', u'Cylinders', u'Displacements', u'HP', u'weight',\n",
       "       u'Acceleration', u'model Year', u'Origin', u'CarName'],\n",
       "      dtype='object')"
      ]
     },
     "execution_count": 12,
     "metadata": {},
     "output_type": "execute_result"
    }
   ],
   "source": [
    "mpg.columns"
   ]
  },
  {
   "cell_type": "code",
   "execution_count": 14,
   "metadata": {
    "collapsed": false
   },
   "outputs": [
    {
     "data": {
      "text/html": [
       "<div>\n",
       "<table border=\"1\" class=\"dataframe\">\n",
       "  <thead>\n",
       "    <tr style=\"text-align: right;\">\n",
       "      <th></th>\n",
       "      <th>MPG</th>\n",
       "      <th>Cylinders</th>\n",
       "      <th>HP</th>\n",
       "    </tr>\n",
       "  </thead>\n",
       "  <tbody>\n",
       "    <tr>\n",
       "      <th>0</th>\n",
       "      <td>18</td>\n",
       "      <td>8</td>\n",
       "      <td>130</td>\n",
       "    </tr>\n",
       "    <tr>\n",
       "      <th>1</th>\n",
       "      <td>15</td>\n",
       "      <td>8</td>\n",
       "      <td>165</td>\n",
       "    </tr>\n",
       "    <tr>\n",
       "      <th>2</th>\n",
       "      <td>18</td>\n",
       "      <td>8</td>\n",
       "      <td>150</td>\n",
       "    </tr>\n",
       "    <tr>\n",
       "      <th>3</th>\n",
       "      <td>16</td>\n",
       "      <td>8</td>\n",
       "      <td>150</td>\n",
       "    </tr>\n",
       "    <tr>\n",
       "      <th>4</th>\n",
       "      <td>17</td>\n",
       "      <td>8</td>\n",
       "      <td>140</td>\n",
       "    </tr>\n",
       "    <tr>\n",
       "      <th>5</th>\n",
       "      <td>15</td>\n",
       "      <td>8</td>\n",
       "      <td>198</td>\n",
       "    </tr>\n",
       "    <tr>\n",
       "      <th>6</th>\n",
       "      <td>14</td>\n",
       "      <td>8</td>\n",
       "      <td>220</td>\n",
       "    </tr>\n",
       "    <tr>\n",
       "      <th>7</th>\n",
       "      <td>14</td>\n",
       "      <td>8</td>\n",
       "      <td>215</td>\n",
       "    </tr>\n",
       "    <tr>\n",
       "      <th>8</th>\n",
       "      <td>14</td>\n",
       "      <td>8</td>\n",
       "      <td>225</td>\n",
       "    </tr>\n",
       "    <tr>\n",
       "      <th>9</th>\n",
       "      <td>15</td>\n",
       "      <td>8</td>\n",
       "      <td>190</td>\n",
       "    </tr>\n",
       "    <tr>\n",
       "      <th>10</th>\n",
       "      <td>15</td>\n",
       "      <td>8</td>\n",
       "      <td>170</td>\n",
       "    </tr>\n",
       "    <tr>\n",
       "      <th>11</th>\n",
       "      <td>14</td>\n",
       "      <td>8</td>\n",
       "      <td>160</td>\n",
       "    </tr>\n",
       "    <tr>\n",
       "      <th>12</th>\n",
       "      <td>15</td>\n",
       "      <td>8</td>\n",
       "      <td>150</td>\n",
       "    </tr>\n",
       "    <tr>\n",
       "      <th>13</th>\n",
       "      <td>14</td>\n",
       "      <td>8</td>\n",
       "      <td>225</td>\n",
       "    </tr>\n",
       "    <tr>\n",
       "      <th>14</th>\n",
       "      <td>24</td>\n",
       "      <td>4</td>\n",
       "      <td>95</td>\n",
       "    </tr>\n",
       "    <tr>\n",
       "      <th>15</th>\n",
       "      <td>22</td>\n",
       "      <td>6</td>\n",
       "      <td>95</td>\n",
       "    </tr>\n",
       "    <tr>\n",
       "      <th>16</th>\n",
       "      <td>18</td>\n",
       "      <td>6</td>\n",
       "      <td>97</td>\n",
       "    </tr>\n",
       "    <tr>\n",
       "      <th>17</th>\n",
       "      <td>21</td>\n",
       "      <td>6</td>\n",
       "      <td>85</td>\n",
       "    </tr>\n",
       "    <tr>\n",
       "      <th>18</th>\n",
       "      <td>27</td>\n",
       "      <td>4</td>\n",
       "      <td>88</td>\n",
       "    </tr>\n",
       "    <tr>\n",
       "      <th>19</th>\n",
       "      <td>26</td>\n",
       "      <td>4</td>\n",
       "      <td>46</td>\n",
       "    </tr>\n",
       "    <tr>\n",
       "      <th>20</th>\n",
       "      <td>25</td>\n",
       "      <td>4</td>\n",
       "      <td>87</td>\n",
       "    </tr>\n",
       "    <tr>\n",
       "      <th>21</th>\n",
       "      <td>24</td>\n",
       "      <td>4</td>\n",
       "      <td>90</td>\n",
       "    </tr>\n",
       "    <tr>\n",
       "      <th>22</th>\n",
       "      <td>25</td>\n",
       "      <td>4</td>\n",
       "      <td>95</td>\n",
       "    </tr>\n",
       "    <tr>\n",
       "      <th>23</th>\n",
       "      <td>26</td>\n",
       "      <td>4</td>\n",
       "      <td>113</td>\n",
       "    </tr>\n",
       "    <tr>\n",
       "      <th>24</th>\n",
       "      <td>21</td>\n",
       "      <td>6</td>\n",
       "      <td>90</td>\n",
       "    </tr>\n",
       "    <tr>\n",
       "      <th>25</th>\n",
       "      <td>10</td>\n",
       "      <td>8</td>\n",
       "      <td>215</td>\n",
       "    </tr>\n",
       "    <tr>\n",
       "      <th>26</th>\n",
       "      <td>10</td>\n",
       "      <td>8</td>\n",
       "      <td>200</td>\n",
       "    </tr>\n",
       "    <tr>\n",
       "      <th>27</th>\n",
       "      <td>11</td>\n",
       "      <td>8</td>\n",
       "      <td>210</td>\n",
       "    </tr>\n",
       "    <tr>\n",
       "      <th>28</th>\n",
       "      <td>9</td>\n",
       "      <td>8</td>\n",
       "      <td>193</td>\n",
       "    </tr>\n",
       "    <tr>\n",
       "      <th>29</th>\n",
       "      <td>27</td>\n",
       "      <td>4</td>\n",
       "      <td>88</td>\n",
       "    </tr>\n",
       "    <tr>\n",
       "      <th>...</th>\n",
       "      <td>...</td>\n",
       "      <td>...</td>\n",
       "      <td>...</td>\n",
       "    </tr>\n",
       "    <tr>\n",
       "      <th>368</th>\n",
       "      <td>27</td>\n",
       "      <td>4</td>\n",
       "      <td>88</td>\n",
       "    </tr>\n",
       "    <tr>\n",
       "      <th>369</th>\n",
       "      <td>34</td>\n",
       "      <td>4</td>\n",
       "      <td>88</td>\n",
       "    </tr>\n",
       "    <tr>\n",
       "      <th>370</th>\n",
       "      <td>31</td>\n",
       "      <td>4</td>\n",
       "      <td>85</td>\n",
       "    </tr>\n",
       "    <tr>\n",
       "      <th>371</th>\n",
       "      <td>29</td>\n",
       "      <td>4</td>\n",
       "      <td>84</td>\n",
       "    </tr>\n",
       "    <tr>\n",
       "      <th>372</th>\n",
       "      <td>27</td>\n",
       "      <td>4</td>\n",
       "      <td>90</td>\n",
       "    </tr>\n",
       "    <tr>\n",
       "      <th>373</th>\n",
       "      <td>24</td>\n",
       "      <td>4</td>\n",
       "      <td>92</td>\n",
       "    </tr>\n",
       "    <tr>\n",
       "      <th>374</th>\n",
       "      <td>23</td>\n",
       "      <td>4</td>\n",
       "      <td>?</td>\n",
       "    </tr>\n",
       "    <tr>\n",
       "      <th>375</th>\n",
       "      <td>36</td>\n",
       "      <td>4</td>\n",
       "      <td>74</td>\n",
       "    </tr>\n",
       "    <tr>\n",
       "      <th>376</th>\n",
       "      <td>37</td>\n",
       "      <td>4</td>\n",
       "      <td>68</td>\n",
       "    </tr>\n",
       "    <tr>\n",
       "      <th>377</th>\n",
       "      <td>31</td>\n",
       "      <td>4</td>\n",
       "      <td>68</td>\n",
       "    </tr>\n",
       "    <tr>\n",
       "      <th>378</th>\n",
       "      <td>38</td>\n",
       "      <td>4</td>\n",
       "      <td>63</td>\n",
       "    </tr>\n",
       "    <tr>\n",
       "      <th>379</th>\n",
       "      <td>36</td>\n",
       "      <td>4</td>\n",
       "      <td>70</td>\n",
       "    </tr>\n",
       "    <tr>\n",
       "      <th>380</th>\n",
       "      <td>36</td>\n",
       "      <td>4</td>\n",
       "      <td>88</td>\n",
       "    </tr>\n",
       "    <tr>\n",
       "      <th>381</th>\n",
       "      <td>36</td>\n",
       "      <td>4</td>\n",
       "      <td>75</td>\n",
       "    </tr>\n",
       "    <tr>\n",
       "      <th>382</th>\n",
       "      <td>34</td>\n",
       "      <td>4</td>\n",
       "      <td>70</td>\n",
       "    </tr>\n",
       "    <tr>\n",
       "      <th>383</th>\n",
       "      <td>38</td>\n",
       "      <td>4</td>\n",
       "      <td>67</td>\n",
       "    </tr>\n",
       "    <tr>\n",
       "      <th>384</th>\n",
       "      <td>32</td>\n",
       "      <td>4</td>\n",
       "      <td>67</td>\n",
       "    </tr>\n",
       "    <tr>\n",
       "      <th>385</th>\n",
       "      <td>38</td>\n",
       "      <td>4</td>\n",
       "      <td>67</td>\n",
       "    </tr>\n",
       "    <tr>\n",
       "      <th>386</th>\n",
       "      <td>25</td>\n",
       "      <td>6</td>\n",
       "      <td>110</td>\n",
       "    </tr>\n",
       "    <tr>\n",
       "      <th>387</th>\n",
       "      <td>38</td>\n",
       "      <td>6</td>\n",
       "      <td>85</td>\n",
       "    </tr>\n",
       "    <tr>\n",
       "      <th>388</th>\n",
       "      <td>26</td>\n",
       "      <td>4</td>\n",
       "      <td>92</td>\n",
       "    </tr>\n",
       "    <tr>\n",
       "      <th>389</th>\n",
       "      <td>22</td>\n",
       "      <td>6</td>\n",
       "      <td>112</td>\n",
       "    </tr>\n",
       "    <tr>\n",
       "      <th>390</th>\n",
       "      <td>32</td>\n",
       "      <td>4</td>\n",
       "      <td>96</td>\n",
       "    </tr>\n",
       "    <tr>\n",
       "      <th>391</th>\n",
       "      <td>36</td>\n",
       "      <td>4</td>\n",
       "      <td>84</td>\n",
       "    </tr>\n",
       "    <tr>\n",
       "      <th>392</th>\n",
       "      <td>27</td>\n",
       "      <td>4</td>\n",
       "      <td>90</td>\n",
       "    </tr>\n",
       "    <tr>\n",
       "      <th>393</th>\n",
       "      <td>27</td>\n",
       "      <td>4</td>\n",
       "      <td>86</td>\n",
       "    </tr>\n",
       "    <tr>\n",
       "      <th>394</th>\n",
       "      <td>44</td>\n",
       "      <td>4</td>\n",
       "      <td>52</td>\n",
       "    </tr>\n",
       "    <tr>\n",
       "      <th>395</th>\n",
       "      <td>32</td>\n",
       "      <td>4</td>\n",
       "      <td>84</td>\n",
       "    </tr>\n",
       "    <tr>\n",
       "      <th>396</th>\n",
       "      <td>28</td>\n",
       "      <td>4</td>\n",
       "      <td>79</td>\n",
       "    </tr>\n",
       "    <tr>\n",
       "      <th>397</th>\n",
       "      <td>31</td>\n",
       "      <td>4</td>\n",
       "      <td>82</td>\n",
       "    </tr>\n",
       "  </tbody>\n",
       "</table>\n",
       "<p>398 rows × 3 columns</p>\n",
       "</div>"
      ],
      "text/plain": [
       "     MPG  Cylinders   HP\n",
       "0     18          8  130\n",
       "1     15          8  165\n",
       "2     18          8  150\n",
       "3     16          8  150\n",
       "4     17          8  140\n",
       "5     15          8  198\n",
       "6     14          8  220\n",
       "7     14          8  215\n",
       "8     14          8  225\n",
       "9     15          8  190\n",
       "10    15          8  170\n",
       "11    14          8  160\n",
       "12    15          8  150\n",
       "13    14          8  225\n",
       "14    24          4   95\n",
       "15    22          6   95\n",
       "16    18          6   97\n",
       "17    21          6   85\n",
       "18    27          4   88\n",
       "19    26          4   46\n",
       "20    25          4   87\n",
       "21    24          4   90\n",
       "22    25          4   95\n",
       "23    26          4  113\n",
       "24    21          6   90\n",
       "25    10          8  215\n",
       "26    10          8  200\n",
       "27    11          8  210\n",
       "28     9          8  193\n",
       "29    27          4   88\n",
       "..   ...        ...  ...\n",
       "368   27          4   88\n",
       "369   34          4   88\n",
       "370   31          4   85\n",
       "371   29          4   84\n",
       "372   27          4   90\n",
       "373   24          4   92\n",
       "374   23          4    ?\n",
       "375   36          4   74\n",
       "376   37          4   68\n",
       "377   31          4   68\n",
       "378   38          4   63\n",
       "379   36          4   70\n",
       "380   36          4   88\n",
       "381   36          4   75\n",
       "382   34          4   70\n",
       "383   38          4   67\n",
       "384   32          4   67\n",
       "385   38          4   67\n",
       "386   25          6  110\n",
       "387   38          6   85\n",
       "388   26          4   92\n",
       "389   22          6  112\n",
       "390   32          4   96\n",
       "391   36          4   84\n",
       "392   27          4   90\n",
       "393   27          4   86\n",
       "394   44          4   52\n",
       "395   32          4   84\n",
       "396   28          4   79\n",
       "397   31          4   82\n",
       "\n",
       "[398 rows x 3 columns]"
      ]
     },
     "execution_count": 14,
     "metadata": {},
     "output_type": "execute_result"
    }
   ],
   "source": [
    "DataFrame(mpg, columns=['MPG','Cylinders','HP'])"
   ]
  },
  {
   "cell_type": "code",
   "execution_count": 17,
   "metadata": {
    "collapsed": false
   },
   "outputs": [],
   "source": [
    "mpg.to_csv('mpgcopy.csv')"
   ]
  },
  {
   "cell_type": "code",
   "execution_count": 18,
   "metadata": {
    "collapsed": true
   },
   "outputs": [],
   "source": [
    "import sys"
   ]
  },
  {
   "cell_type": "code",
   "execution_count": 19,
   "metadata": {
    "collapsed": false
   },
   "outputs": [
    {
     "name": "stdout",
     "output_type": "stream",
     "text": [
      ",MPG,Cylinders,Displacements,HP,weight,Acceleration,model Year,Origin,CarName\n",
      "0,18.0,8,307.0,130,3504,12.0,70,1,chevrolet chevelle malibu\n",
      "1,15.0,8,350.0,165,3693,11.5,70,1,buick skylark 320\n",
      "2,18.0,8,318.0,150,3436,11.0,70,1,plymouth satellite\n",
      "3,16.0,8,304.0,150,3433,12.0,70,1,amc rebel sst\n",
      "4,17.0,8,302.0,140,3449,10.5,70,1,ford torino\n",
      "5,15.0,8,429.0,198,4341,10.0,70,1,ford galaxie 500\n",
      "6,14.0,8,454.0,220,4354,9.0,70,1,chevrolet impala\n",
      "7,14.0,8,440.0,215,4312,8.5,70,1,plymouth fury iii\n",
      "8,14.0,8,455.0,225,4425,10.0,70,1,pontiac catalina\n",
      "9,15.0,8,390.0,190,3850,8.5,70,1,amc ambassador dpl\n",
      "10,15.0,8,383.0,170,3563,10.0,70,1,dodge challenger se\n",
      "11,14.0,8,340.0,160,3609,8.0,70,1,plymouth 'cuda 340\n",
      "12,15.0,8,400.0,150,3761,9.5,70,1,chevrolet monte carlo\n",
      "13,14.0,8,455.0,225,3086,10.0,70,1,buick estate wagon (sw)\n",
      "14,24.0,4,113.0,95,2372,15.0,70,3,toyota corona mark ii\n",
      "15,22.0,6,198.0,95,2833,15.5,70,1,plymouth duster\n",
      "16,18.0,6,199.0,97,2774,15.5,70,1,amc hornet\n",
      "17,21.0,6,200.0,85,2587,16.0,70,1,ford maverick\n",
      "18,27.0,4,97.0,88,2130,14.5,70,3,datsun pl510\n",
      "19,26.0,4,97.0,46,1835,20.5,70,2,volkswagen 1131 deluxe sedan\n",
      "20,25.0,4,110.0,87,2672,17.5,70,2,peugeot 504\n",
      "21,24.0,4,107.0,90,2430,14.5,70,2,audi 100 ls\n",
      "22,25.0,4,104.0,95,2375,17.5,70,2,saab 99e\n",
      "23,26.0,4,121.0,113,2234,12.5,70,2,bmw 2002\n",
      "24,21.0,6,199.0,90,2648,15.0,70,1,amc gremlin\n",
      "25,10.0,8,360.0,215,4615,14.0,70,1,ford f250\n",
      "26,10.0,8,307.0,200,4376,15.0,70,1,chevy c20\n",
      "27,11.0,8,318.0,210,4382,13.5,70,1,dodge d200\n",
      "28,9.0,8,304.0,193,4732,18.5,70,1,hi 1200d\n",
      "29,27.0,4,97.0,88,2130,14.5,71,3,datsun pl510\n",
      "30,28.0,4,140.0,90,2264,15.5,71,1,chevrolet vega 2300\n",
      "31,25.0,4,113.0,95,2228,14.0,71,3,toyota corona\n",
      "32,25.0,4,98.0,?,2046,19.0,71,1,ford pinto\n",
      "33,19.0,6,232.0,100,2634,13.0,71,1,amc gremlin\n",
      "34,16.0,6,225.0,105,3439,15.5,71,1,plymouth satellite custom\n",
      "35,17.0,6,250.0,100,3329,15.5,71,1,chevrolet chevelle malibu\n",
      "36,19.0,6,250.0,88,3302,15.5,71,1,ford torino 500\n",
      "37,18.0,6,232.0,100,3288,15.5,71,1,amc matador\n",
      "38,14.0,8,350.0,165,4209,12.0,71,1,chevrolet impala\n",
      "39,14.0,8,400.0,175,4464,11.5,71,1,pontiac catalina brougham\n",
      "40,14.0,8,351.0,153,4154,13.5,71,1,ford galaxie 500\n",
      "41,14.0,8,318.0,150,4096,13.0,71,1,plymouth fury iii\n",
      "42,12.0,8,383.0,180,4955,11.5,71,1,dodge monaco (sw)\n",
      "43,13.0,8,400.0,170,4746,12.0,71,1,ford country squire (sw)\n",
      "44,13.0,8,400.0,175,5140,12.0,71,1,pontiac safari (sw)\n",
      "45,18.0,6,258.0,110,2962,13.5,71,1,amc hornet sportabout (sw)\n",
      "46,22.0,4,140.0,72,2408,19.0,71,1,chevrolet vega (sw)\n",
      "47,19.0,6,250.0,100,3282,15.0,71,1,pontiac firebird\n",
      "48,18.0,6,250.0,88,3139,14.5,71,1,ford mustang\n",
      "49,23.0,4,122.0,86,2220,14.0,71,1,mercury capri 2000\n",
      "50,28.0,4,116.0,90,2123,14.0,71,2,opel 1900\n",
      "51,30.0,4,79.0,70,2074,19.5,71,2,peugeot 304\n",
      "52,30.0,4,88.0,76,2065,14.5,71,2,fiat 124b\n",
      "53,31.0,4,71.0,65,1773,19.0,71,3,toyota corolla 1200\n",
      "54,35.0,4,72.0,69,1613,18.0,71,3,datsun 1200\n",
      "55,27.0,4,97.0,60,1834,19.0,71,2,volkswagen model 111\n",
      "56,26.0,4,91.0,70,1955,20.5,71,1,plymouth cricket\n",
      "57,24.0,4,113.0,95,2278,15.5,72,3,toyota corona hardtop\n",
      "58,25.0,4,97.5,80,2126,17.0,72,1,dodge colt hardtop\n",
      "59,23.0,4,97.0,54,2254,23.5,72,2,volkswagen type 3\n",
      "60,20.0,4,140.0,90,2408,19.5,72,1,chevrolet vega\n",
      "61,21.0,4,122.0,86,2226,16.5,72,1,ford pinto runabout\n",
      "62,13.0,8,350.0,165,4274,12.0,72,1,chevrolet impala\n",
      "63,14.0,8,400.0,175,4385,12.0,72,1,pontiac catalina\n",
      "64,15.0,8,318.0,150,4135,13.5,72,1,plymouth fury iii\n",
      "65,14.0,8,351.0,153,4129,13.0,72,1,ford galaxie 500\n",
      "66,17.0,8,304.0,150,3672,11.5,72,1,amc ambassador sst\n",
      "67,11.0,8,429.0,208,4633,11.0,72,1,mercury marquis\n",
      "68,13.0,8,350.0,155,4502,13.5,72,1,buick lesabre custom\n",
      "69,12.0,8,350.0,160,4456,13.5,72,1,oldsmobile delta 88 royale\n",
      "70,13.0,8,400.0,190,4422,12.5,72,1,chrysler newport royal\n",
      "71,19.0,3,70.0,97,2330,13.5,72,3,mazda rx2 coupe\n",
      "72,15.0,8,304.0,150,3892,12.5,72,1,amc matador (sw)\n",
      "73,13.0,8,307.0,130,4098,14.0,72,1,chevrolet chevelle concours (sw)\n",
      "74,13.0,8,302.0,140,4294,16.0,72,1,ford gran torino (sw)\n",
      "75,14.0,8,318.0,150,4077,14.0,72,1,plymouth satellite custom (sw)\n",
      "76,18.0,4,121.0,112,2933,14.5,72,2,volvo 145e (sw)\n",
      "77,22.0,4,121.0,76,2511,18.0,72,2,volkswagen 411 (sw)\n",
      "78,21.0,4,120.0,87,2979,19.5,72,2,peugeot 504 (sw)\n",
      "79,26.0,4,96.0,69,2189,18.0,72,2,renault 12 (sw)\n",
      "80,22.0,4,122.0,86,2395,16.0,72,1,ford pinto (sw)\n",
      "81,28.0,4,97.0,92,2288,17.0,72,3,datsun 510 (sw)\n",
      "82,23.0,4,120.0,97,2506,14.5,72,3,toyouta corona mark ii (sw)\n",
      "83,28.0,4,98.0,80,2164,15.0,72,1,dodge colt (sw)\n",
      "84,27.0,4,97.0,88,2100,16.5,72,3,toyota corolla 1600 (sw)\n",
      "85,13.0,8,350.0,175,4100,13.0,73,1,buick century 350\n",
      "86,14.0,8,304.0,150,3672,11.5,73,1,amc matador\n",
      "87,13.0,8,350.0,145,3988,13.0,73,1,chevrolet malibu\n",
      "88,14.0,8,302.0,137,4042,14.5,73,1,ford gran torino\n",
      "89,15.0,8,318.0,150,3777,12.5,73,1,dodge coronet custom\n",
      "90,12.0,8,429.0,198,4952,11.5,73,1,mercury marquis brougham\n",
      "91,13.0,8,400.0,150,4464,12.0,73,1,chevrolet caprice classic\n",
      "92,13.0,8,351.0,158,4363,13.0,73,1,ford ltd\n",
      "93,14.0,8,318.0,150,4237,14.5,73,1,plymouth fury gran sedan\n",
      "94,13.0,8,440.0,215,4735,11.0,73,1,chrysler new yorker brougham\n",
      "95,12.0,8,455.0,225,4951,11.0,73,1,buick electra 225 custom\n",
      "96,13.0,8,360.0,175,3821,11.0,73,1,amc ambassador brougham\n",
      "97,18.0,6,225.0,105,3121,16.5,73,1,plymouth valiant\n",
      "98,16.0,6,250.0,100,3278,18.0,73,1,chevrolet nova custom\n",
      "99,18.0,6,232.0,100,2945,16.0,73,1,amc hornet\n",
      "100,18.0,6,250.0,88,3021,16.5,73,1,ford maverick\n",
      "101,23.0,6,198.0,95,2904,16.0,73,1,plymouth duster\n",
      "102,26.0,4,97.0,46,1950,21.0,73,2,volkswagen super beetle\n",
      "103,11.0,8,400.0,150,4997,14.0,73,1,chevrolet impala\n",
      "104,12.0,8,400.0,167,4906,12.5,73,1,ford country\n",
      "105,13.0,8,360.0,170,4654,13.0,73,1,plymouth custom suburb\n",
      "106,12.0,8,350.0,180,4499,12.5,73,1,oldsmobile vista cruiser\n",
      "107,18.0,6,232.0,100,2789,15.0,73,1,amc gremlin\n",
      "108,20.0,4,97.0,88,2279,19.0,73,3,toyota carina\n",
      "109,21.0,4,140.0,72,2401,19.5,73,1,chevrolet vega\n",
      "110,22.0,4,108.0,94,2379,16.5,73,3,datsun 610\n",
      "111,18.0,3,70.0,90,2124,13.5,73,3,maxda rx3\n",
      "112,19.0,4,122.0,85,2310,18.5,73,1,ford pinto\n",
      "113,21.0,6,155.0,107,2472,14.0,73,1,mercury capri v6\n",
      "114,26.0,4,98.0,90,2265,15.5,73,2,fiat 124 sport coupe\n",
      "115,15.0,8,350.0,145,4082,13.0,73,1,chevrolet monte carlo s\n",
      "116,16.0,8,400.0,230,4278,9.5,73,1,pontiac grand prix\n",
      "117,29.0,4,68.0,49,1867,19.5,73,2,fiat 128\n",
      "118,24.0,4,116.0,75,2158,15.5,73,2,opel manta\n",
      "119,20.0,4,114.0,91,2582,14.0,73,2,audi 100ls\n",
      "120,19.0,4,121.0,112,2868,15.5,73,2,volvo 144ea\n",
      "121,15.0,8,318.0,150,3399,11.0,73,1,dodge dart custom\n",
      "122,24.0,4,121.0,110,2660,14.0,73,2,saab 99le\n",
      "123,20.0,6,156.0,122,2807,13.5,73,3,toyota mark ii\n",
      "124,11.0,8,350.0,180,3664,11.0,73,1,oldsmobile omega\n",
      "125,20.0,6,198.0,95,3102,16.5,74,1,plymouth duster\n",
      "126,21.0,6,200.0,?,2875,17.0,74,1,ford maverick\n",
      "127,19.0,6,232.0,100,2901,16.0,74,1,amc hornet\n",
      "128,15.0,6,250.0,100,3336,17.0,74,1,chevrolet nova\n",
      "129,31.0,4,79.0,67,1950,19.0,74,3,datsun b210\n",
      "130,26.0,4,122.0,80,2451,16.5,74,1,ford pinto\n",
      "131,32.0,4,71.0,65,1836,21.0,74,3,toyota corolla 1200\n",
      "132,25.0,4,140.0,75,2542,17.0,74,1,chevrolet vega\n",
      "133,16.0,6,250.0,100,3781,17.0,74,1,chevrolet chevelle malibu classic\n",
      "134,16.0,6,258.0,110,3632,18.0,74,1,amc matador\n",
      "135,18.0,6,225.0,105,3613,16.5,74,1,plymouth satellite sebring\n",
      "136,16.0,8,302.0,140,4141,14.0,74,1,ford gran torino\n",
      "137,13.0,8,350.0,150,4699,14.5,74,1,buick century luxus (sw)\n",
      "138,14.0,8,318.0,150,4457,13.5,74,1,dodge coronet custom (sw)\n",
      "139,14.0,8,302.0,140,4638,16.0,74,1,ford gran torino (sw)\n",
      "140,14.0,8,304.0,150,4257,15.5,74,1,amc matador (sw)\n",
      "141,29.0,4,98.0,83,2219,16.5,74,2,audi fox\n",
      "142,26.0,4,79.0,67,1963,15.5,74,2,volkswagen dasher\n",
      "143,26.0,4,97.0,78,2300,14.5,74,2,opel manta\n",
      "144,31.0,4,76.0,52,1649,16.5,74,3,toyota corona\n",
      "145,32.0,4,83.0,61,2003,19.0,74,3,datsun 710\n",
      "146,28.0,4,90.0,75,2125,14.5,74,1,dodge colt\n",
      "147,24.0,4,90.0,75,2108,15.5,74,2,fiat 128\n",
      "148,26.0,4,116.0,75,2246,14.0,74,2,fiat 124 tc\n",
      "149,24.0,4,120.0,97,2489,15.0,74,3,honda civic\n",
      "150,26.0,4,108.0,93,2391,15.5,74,3,subaru\n",
      "151,31.0,4,79.0,67,2000,16.0,74,2,fiat x1.9\n",
      "152,19.0,6,225.0,95,3264,16.0,75,1,plymouth valiant custom\n",
      "153,18.0,6,250.0,105,3459,16.0,75,1,chevrolet nova\n",
      "154,15.0,6,250.0,72,3432,21.0,75,1,mercury monarch\n",
      "155,15.0,6,250.0,72,3158,19.5,75,1,ford maverick\n",
      "156,16.0,8,400.0,170,4668,11.5,75,1,pontiac catalina\n",
      "157,15.0,8,350.0,145,4440,14.0,75,1,chevrolet bel air\n",
      "158,16.0,8,318.0,150,4498,14.5,75,1,plymouth grand fury\n",
      "159,14.0,8,351.0,148,4657,13.5,75,1,ford ltd\n",
      "160,17.0,6,231.0,110,3907,21.0,75,1,buick century\n",
      "161,16.0,6,250.0,105,3897,18.5,75,1,chevroelt chevelle malibu\n",
      "162,15.0,6,258.0,110,3730,19.0,75,1,amc matador\n",
      "163,18.0,6,225.0,95,3785,19.0,75,1,plymouth fury\n",
      "164,21.0,6,231.0,110,3039,15.0,75,1,buick skyhawk\n",
      "165,20.0,8,262.0,110,3221,13.5,75,1,chevrolet monza 2+2\n",
      "166,13.0,8,302.0,129,3169,12.0,75,1,ford mustang ii\n",
      "167,29.0,4,97.0,75,2171,16.0,75,3,toyota corolla\n",
      "168,23.0,4,140.0,83,2639,17.0,75,1,ford pinto\n",
      "169,20.0,6,232.0,100,2914,16.0,75,1,amc gremlin\n",
      "170,23.0,4,140.0,78,2592,18.5,75,1,pontiac astro\n",
      "171,24.0,4,134.0,96,2702,13.5,75,3,toyota corona\n",
      "172,25.0,4,90.0,71,2223,16.5,75,2,volkswagen dasher\n",
      "173,24.0,4,119.0,97,2545,17.0,75,3,datsun 710\n",
      "174,18.0,6,171.0,97,2984,14.5,75,1,ford pinto\n",
      "175,29.0,4,90.0,70,1937,14.0,75,2,volkswagen rabbit\n",
      "176,19.0,6,232.0,90,3211,17.0,75,1,amc pacer\n",
      "177,23.0,4,115.0,95,2694,15.0,75,2,audi 100ls\n",
      "178,23.0,4,120.0,88,2957,17.0,75,2,peugeot 504\n",
      "179,22.0,4,121.0,98,2945,14.5,75,2,volvo 244dl\n",
      "180,25.0,4,121.0,115,2671,13.5,75,2,saab 99le\n",
      "181,33.0,4,91.0,53,1795,17.5,75,3,honda civic cvcc\n",
      "182,28.0,4,107.0,86,2464,15.5,76,2,fiat 131\n",
      "183,25.0,4,116.0,81,2220,16.9,76,2,opel 1900\n",
      "184,25.0,4,140.0,92,2572,14.9,76,1,capri ii\n",
      "185,26.0,4,98.0,79,2255,17.7,76,1,dodge colt\n",
      "186,27.0,4,101.0,83,2202,15.3,76,2,renault 12tl\n",
      "187,17.5,8,305.0,140,4215,13.0,76,1,chevrolet chevelle malibu classic\n",
      "188,16.0,8,318.0,150,4190,13.0,76,1,dodge coronet brougham\n",
      "189,15.5,8,304.0,120,3962,13.9,76,1,amc matador\n",
      "190,14.5,8,351.0,152,4215,12.8,76,1,ford gran torino\n",
      "191,22.0,6,225.0,100,3233,15.4,76,1,plymouth valiant\n",
      "192,22.0,6,250.0,105,3353,14.5,76,1,chevrolet nova\n",
      "193,24.0,6,200.0,81,3012,17.6,76,1,ford maverick\n",
      "194,22.5,6,232.0,90,3085,17.6,76,1,amc hornet\n",
      "195,29.0,4,85.0,52,2035,22.2,76,1,chevrolet chevette\n",
      "196,24.5,4,98.0,60,2164,22.1,76,1,chevrolet woody\n",
      "197,29.0,4,90.0,70,1937,14.2,76,2,vw rabbit\n",
      "198,33.0,4,91.0,53,1795,17.4,76,3,honda civic\n",
      "199,20.0,6,225.0,100,3651,17.7,76,1,dodge aspen se\n",
      "200,18.0,6,250.0,78,3574,21.0,76,1,ford granada ghia\n",
      "201,18.5,6,250.0,110,3645,16.2,76,1,pontiac ventura sj\n",
      "202,17.5,6,258.0,95,3193,17.8,76,1,amc pacer d/l\n",
      "203,29.5,4,97.0,71,1825,12.2,76,2,volkswagen rabbit\n",
      "204,32.0,4,85.0,70,1990,17.0,76,3,datsun b-210\n",
      "205,28.0,4,97.0,75,2155,16.4,76,3,toyota corolla\n",
      "206,26.5,4,140.0,72,2565,13.6,76,1,ford pinto\n",
      "207,20.0,4,130.0,102,3150,15.7,76,2,volvo 245\n",
      "208,13.0,8,318.0,150,3940,13.2,76,1,plymouth volare premier v8\n",
      "209,19.0,4,120.0,88,3270,21.9,76,2,peugeot 504\n",
      "210,19.0,6,156.0,108,2930,15.5,76,3,toyota mark ii\n",
      "211,16.5,6,168.0,120,3820,16.7,76,2,mercedes-benz 280s\n",
      "212,16.5,8,350.0,180,4380,12.1,76,1,cadillac seville\n",
      "213,13.0,8,350.0,145,4055,12.0,76,1,chevy c10\n",
      "214,13.0,8,302.0,130,3870,15.0,76,1,ford f108\n",
      "215,13.0,8,318.0,150,3755,14.0,76,1,dodge d100\n",
      "216,31.5,4,98.0,68,2045,18.5,77,3,honda accord cvcc\n",
      "217,30.0,4,111.0,80,2155,14.8,77,1,buick opel isuzu deluxe\n",
      "218,36.0,4,79.0,58,1825,18.6,77,2,renault 5 gtl\n",
      "219,25.5,4,122.0,96,2300,15.5,77,1,plymouth arrow gs\n",
      "220,33.5,4,85.0,70,1945,16.8,77,3,datsun f-10 hatchback\n",
      "221,17.5,8,305.0,145,3880,12.5,77,1,chevrolet caprice classic\n",
      "222,17.0,8,260.0,110,4060,19.0,77,1,oldsmobile cutlass supreme\n",
      "223,15.5,8,318.0,145,4140,13.7,77,1,dodge monaco brougham\n",
      "224,15.0,8,302.0,130,4295,14.9,77,1,mercury cougar brougham\n",
      "225,17.5,6,250.0,110,3520,16.4,77,1,chevrolet concours\n",
      "226,20.5,6,231.0,105,3425,16.9,77,1,buick skylark\n",
      "227,19.0,6,225.0,100,3630,17.7,77,1,plymouth volare custom\n",
      "228,18.5,6,250.0,98,3525,19.0,77,1,ford granada\n",
      "229,16.0,8,400.0,180,4220,11.1,77,1,pontiac grand prix lj\n",
      "230,15.5,8,350.0,170,4165,11.4,77,1,chevrolet monte carlo landau\n",
      "231,15.5,8,400.0,190,4325,12.2,77,1,chrysler cordoba\n",
      "232,16.0,8,351.0,149,4335,14.5,77,1,ford thunderbird\n",
      "233,29.0,4,97.0,78,1940,14.5,77,2,volkswagen rabbit custom\n",
      "234,24.5,4,151.0,88,2740,16.0,77,1,pontiac sunbird coupe\n",
      "235,26.0,4,97.0,75,2265,18.2,77,3,toyota corolla liftback\n",
      "236,25.5,4,140.0,89,2755,15.8,77,1,ford mustang ii 2+2\n",
      "237,30.5,4,98.0,63,2051,17.0,77,1,chevrolet chevette\n",
      "238,33.5,4,98.0,83,2075,15.9,77,1,dodge colt m/m\n",
      "239,30.0,4,97.0,67,1985,16.4,77,3,subaru dl\n",
      "240,30.5,4,97.0,78,2190,14.1,77,2,volkswagen dasher\n",
      "241,22.0,6,146.0,97,2815,14.5,77,3,datsun 810\n",
      "242,21.5,4,121.0,110,2600,12.8,77,2,bmw 320i\n",
      "243,21.5,3,80.0,110,2720,13.5,77,3,mazda rx-4\n",
      "244,43.1,4,90.0,48,1985,21.5,78,2,volkswagen rabbit custom diesel\n",
      "245,36.1,4,98.0,66,1800,14.4,78,1,ford fiesta\n",
      "246,32.8,4,78.0,52,1985,19.4,78,3,mazda glc deluxe\n",
      "247,39.4,4,85.0,70,2070,18.6,78,3,datsun b210 gx\n",
      "248,36.1,4,91.0,60,1800,16.4,78,3,honda civic cvcc\n",
      "249,19.9,8,260.0,110,3365,15.5,78,1,oldsmobile cutlass salon brougham\n",
      "250,19.4,8,318.0,140,3735,13.2,78,1,dodge diplomat\n",
      "251,20.2,8,302.0,139,3570,12.8,78,1,mercury monarch ghia\n",
      "252,19.2,6,231.0,105,3535,19.2,78,1,pontiac phoenix lj\n",
      "253,20.5,6,200.0,95,3155,18.2,78,1,chevrolet malibu\n",
      "254,20.2,6,200.0,85,2965,15.8,78,1,ford fairmont (auto)\n",
      "255,25.1,4,140.0,88,2720,15.4,78,1,ford fairmont (man)\n",
      "256,20.5,6,225.0,100,3430,17.2,78,1,plymouth volare\n",
      "257,19.4,6,232.0,90,3210,17.2,78,1,amc concord\n",
      "258,20.6,6,231.0,105,3380,15.8,78,1,buick century special\n",
      "259,20.8,6,200.0,85,3070,16.7,78,1,mercury zephyr\n",
      "260,18.6,6,225.0,110,3620,18.7,78,1,dodge aspen\n",
      "261,18.1,6,258.0,120,3410,15.1,78,1,amc concord d/l\n",
      "262,19.2,8,305.0,145,3425,13.2,78,1,chevrolet monte carlo landau\n",
      "263,17.7,6,231.0,165,3445,13.4,78,1,buick regal sport coupe (turbo)\n",
      "264,18.1,8,302.0,139,3205,11.2,78,1,ford futura\n",
      "265,17.5,8,318.0,140,4080,13.7,78,1,dodge magnum xe\n",
      "266,30.0,4,98.0,68,2155,16.5,78,1,chevrolet chevette\n",
      "267,27.5,4,134.0,95,2560,14.2,78,3,toyota corona\n",
      "268,27.2,4,119.0,97,2300,14.7,78,3,datsun 510\n",
      "269,30.9,4,105.0,75,2230,14.5,78,1,dodge omni\n",
      "270,21.1,4,134.0,95,2515,14.8,78,3,toyota celica gt liftback\n",
      "271,23.2,4,156.0,105,2745,16.7,78,1,plymouth sapporo\n",
      "272,23.8,4,151.0,85,2855,17.6,78,1,oldsmobile starfire sx\n",
      "273,23.9,4,119.0,97,2405,14.9,78,3,datsun 200-sx\n",
      "274,20.3,5,131.0,103,2830,15.9,78,2,audi 5000\n",
      "275,17.0,6,163.0,125,3140,13.6,78,2,volvo 264gl\n",
      "276,21.6,4,121.0,115,2795,15.7,78,2,saab 99gle\n",
      "277,16.2,6,163.0,133,3410,15.8,78,2,peugeot 604sl\n",
      "278,31.5,4,89.0,71,1990,14.9,78,2,volkswagen scirocco\n",
      "279,29.5,4,98.0,68,2135,16.6,78,3,honda accord lx\n",
      "280,21.5,6,231.0,115,3245,15.4,79,1,pontiac lemans v6\n",
      "281,19.8,6,200.0,85,2990,18.2,79,1,mercury zephyr 6\n",
      "282,22.3,4,140.0,88,2890,17.3,79,1,ford fairmont 4\n",
      "283,20.2,6,232.0,90,3265,18.2,79,1,amc concord dl 6\n",
      "284,20.6,6,225.0,110,3360,16.6,79,1,dodge aspen 6\n",
      "285,17.0,8,305.0,130,3840,15.4,79,1,chevrolet caprice classic\n",
      "286,17.6,8,302.0,129,3725,13.4,79,1,ford ltd landau\n",
      "287,16.5,8,351.0,138,3955,13.2,79,1,mercury grand marquis\n",
      "288,18.2,8,318.0,135,3830,15.2,79,1,dodge st. regis\n",
      "289,16.9,8,350.0,155,4360,14.9,79,1,buick estate wagon (sw)\n",
      "290,15.5,8,351.0,142,4054,14.3,79,1,ford country squire (sw)\n",
      "291,19.2,8,267.0,125,3605,15.0,79,1,chevrolet malibu classic (sw)\n",
      "292,18.5,8,360.0,150,3940,13.0,79,1,chrysler lebaron town @ country (sw)\n",
      "293,31.9,4,89.0,71,1925,14.0,79,2,vw rabbit custom\n",
      "294,34.1,4,86.0,65,1975,15.2,79,3,maxda glc deluxe\n",
      "295,35.7,4,98.0,80,1915,14.4,79,1,dodge colt hatchback custom\n",
      "296,27.4,4,121.0,80,2670,15.0,79,1,amc spirit dl\n",
      "297,25.4,5,183.0,77,3530,20.1,79,2,mercedes benz 300d\n",
      "298,23.0,8,350.0,125,3900,17.4,79,1,cadillac eldorado\n",
      "299,27.2,4,141.0,71,3190,24.8,79,2,peugeot 504\n",
      "300,23.9,8,260.0,90,3420,22.2,79,1,oldsmobile cutlass salon brougham\n",
      "301,34.2,4,105.0,70,2200,13.2,79,1,plymouth horizon\n",
      "302,34.5,4,105.0,70,2150,14.9,79,1,plymouth horizon tc3\n",
      "303,31.8,4,85.0,65,2020,19.2,79,3,datsun 210\n",
      "304,37.3,4,91.0,69,2130,14.7,79,2,fiat strada custom\n",
      "305,28.4,4,151.0,90,2670,16.0,79,1,buick skylark limited\n",
      "306,28.8,6,173.0,115,2595,11.3,79,1,chevrolet citation\n",
      "307,26.8,6,173.0,115,2700,12.9,79,1,oldsmobile omega brougham\n",
      "308,33.5,4,151.0,90,2556,13.2,79,1,pontiac phoenix\n",
      "309,41.5,4,98.0,76,2144,14.7,80,2,vw rabbit\n",
      "310,38.1,4,89.0,60,1968,18.8,80,3,toyota corolla tercel\n",
      "311,32.1,4,98.0,70,2120,15.5,80,1,chevrolet chevette\n",
      "312,37.2,4,86.0,65,2019,16.4,80,3,datsun 310\n",
      "313,28.0,4,151.0,90,2678,16.5,80,1,chevrolet citation\n",
      "314,26.4,4,140.0,88,2870,18.1,80,1,ford fairmont\n",
      "315,24.3,4,151.0,90,3003,20.1,80,1,amc concord\n",
      "316,19.1,6,225.0,90,3381,18.7,80,1,dodge aspen\n",
      "317,34.3,4,97.0,78,2188,15.8,80,2,audi 4000\n",
      "318,29.8,4,134.0,90,2711,15.5,80,3,toyota corona liftback\n",
      "319,31.3,4,120.0,75,2542,17.5,80,3,mazda 626\n",
      "320,37.0,4,119.0,92,2434,15.0,80,3,datsun 510 hatchback\n",
      "321,32.2,4,108.0,75,2265,15.2,80,3,toyota corolla\n",
      "322,46.6,4,86.0,65,2110,17.9,80,3,mazda glc\n",
      "323,27.9,4,156.0,105,2800,14.4,80,1,dodge colt\n",
      "324,40.8,4,85.0,65,2110,19.2,80,3,datsun 210\n",
      "325,44.3,4,90.0,48,2085,21.7,80,2,vw rabbit c (diesel)\n",
      "326,43.4,4,90.0,48,2335,23.7,80,2,vw dasher (diesel)\n",
      "327,36.4,5,121.0,67,2950,19.9,80,2,audi 5000s (diesel)\n",
      "328,30.0,4,146.0,67,3250,21.8,80,2,mercedes-benz 240d\n",
      "329,44.6,4,91.0,67,1850,13.8,80,3,honda civic 1500 gl\n",
      "330,40.9,4,85.0,?,1835,17.3,80,2,renault lecar deluxe\n",
      "331,33.8,4,97.0,67,2145,18.0,80,3,subaru dl\n",
      "332,29.8,4,89.0,62,1845,15.3,80,2,vokswagen rabbit\n",
      "333,32.7,6,168.0,132,2910,11.4,80,3,datsun 280-zx\n",
      "334,23.7,3,70.0,100,2420,12.5,80,3,mazda rx-7 gs\n",
      "335,35.0,4,122.0,88,2500,15.1,80,2,triumph tr7 coupe\n",
      "336,23.6,4,140.0,?,2905,14.3,80,1,ford mustang cobra\n",
      "337,32.4,4,107.0,72,2290,17.0,80,3,honda accord\n",
      "338,27.2,4,135.0,84,2490,15.7,81,1,plymouth reliant\n",
      "339,26.6,4,151.0,84,2635,16.4,81,1,buick skylark\n",
      "340,25.8,4,156.0,92,2620,14.4,81,1,dodge aries wagon (sw)\n",
      "341,23.5,6,173.0,110,2725,12.6,81,1,chevrolet citation\n",
      "342,30.0,4,135.0,84,2385,12.9,81,1,plymouth reliant\n",
      "343,39.1,4,79.0,58,1755,16.9,81,3,toyota starlet\n",
      "344,39.0,4,86.0,64,1875,16.4,81,1,plymouth champ\n",
      "345,35.1,4,81.0,60,1760,16.1,81,3,honda civic 1300\n",
      "346,32.3,4,97.0,67,2065,17.8,81,3,subaru\n",
      "347,37.0,4,85.0,65,1975,19.4,81,3,datsun 210 mpg\n",
      "348,37.7,4,89.0,62,2050,17.3,81,3,toyota tercel\n",
      "349,34.1,4,91.0,68,1985,16.0,81,3,mazda glc 4\n",
      "350,34.7,4,105.0,63,2215,14.9,81,1,plymouth horizon 4\n",
      "351,34.4,4,98.0,65,2045,16.2,81,1,ford escort 4w\n",
      "352,29.9,4,98.0,65,2380,20.7,81,1,ford escort 2h\n",
      "353,33.0,4,105.0,74,2190,14.2,81,2,volkswagen jetta\n",
      "354,34.5,4,100.0,?,2320,15.8,81,2,renault 18i\n",
      "355,33.7,4,107.0,75,2210,14.4,81,3,honda prelude\n",
      "356,32.4,4,108.0,75,2350,16.8,81,3,toyota corolla\n",
      "357,32.9,4,119.0,100,2615,14.8,81,3,datsun 200sx\n",
      "358,31.6,4,120.0,74,2635,18.3,81,3,mazda 626\n",
      "359,28.1,4,141.0,80,3230,20.4,81,2,peugeot 505s turbo diesel\n",
      "360,30.7,6,145.0,76,3160,19.6,81,2,volvo diesel\n",
      "361,25.4,6,168.0,116,2900,12.6,81,3,toyota cressida\n",
      "362,24.2,6,146.0,120,2930,13.8,81,3,datsun 810 maxima\n",
      "363,22.4,6,231.0,110,3415,15.8,81,1,buick century\n",
      "364,26.6,8,350.0,105,3725,19.0,81,1,oldsmobile cutlass ls\n",
      "365,20.2,6,200.0,88,3060,17.1,81,1,ford granada gl\n",
      "366,17.6,6,225.0,85,3465,16.6,81,1,chrysler lebaron salon\n",
      "367,28.0,4,112.0,88,2605,19.6,82,1,chevrolet cavalier\n",
      "368,27.0,4,112.0,88,2640,18.6,82,1,chevrolet cavalier wagon\n",
      "369,34.0,4,112.0,88,2395,18.0,82,1,chevrolet cavalier 2-door\n",
      "370,31.0,4,112.0,85,2575,16.2,82,1,pontiac j2000 se hatchback\n",
      "371,29.0,4,135.0,84,2525,16.0,82,1,dodge aries se\n",
      "372,27.0,4,151.0,90,2735,18.0,82,1,pontiac phoenix\n",
      "373,24.0,4,140.0,92,2865,16.4,82,1,ford fairmont futura\n",
      "374,23.0,4,151.0,?,3035,20.5,82,1,amc concord dl\n",
      "375,36.0,4,105.0,74,1980,15.3,82,2,volkswagen rabbit l\n",
      "376,37.0,4,91.0,68,2025,18.2,82,3,mazda glc custom l\n",
      "377,31.0,4,91.0,68,1970,17.6,82,3,mazda glc custom\n",
      "378,38.0,4,105.0,63,2125,14.7,82,1,plymouth horizon miser\n",
      "379,36.0,4,98.0,70,2125,17.3,82,1,mercury lynx l\n",
      "380,36.0,4,120.0,88,2160,14.5,82,3,nissan stanza xe\n",
      "381,36.0,4,107.0,75,2205,14.5,82,3,honda accord\n",
      "382,34.0,4,108.0,70,2245,16.9,82,3,toyota corolla\n",
      "383,38.0,4,91.0,67,1965,15.0,82,3,honda civic\n",
      "384,32.0,4,91.0,67,1965,15.7,82,3,honda civic (auto)\n",
      "385,38.0,4,91.0,67,1995,16.2,82,3,datsun 310 gx\n",
      "386,25.0,6,181.0,110,2945,16.4,82,1,buick century limited\n",
      "387,38.0,6,262.0,85,3015,17.0,82,1,oldsmobile cutlass ciera (diesel)\n",
      "388,26.0,4,156.0,92,2585,14.5,82,1,chrysler lebaron medallion\n",
      "389,22.0,6,232.0,112,2835,14.7,82,1,ford granada l\n",
      "390,32.0,4,144.0,96,2665,13.9,82,3,toyota celica gt\n",
      "391,36.0,4,135.0,84,2370,13.0,82,1,dodge charger 2.2\n",
      "392,27.0,4,151.0,90,2950,17.3,82,1,chevrolet camaro\n",
      "393,27.0,4,140.0,86,2790,15.6,82,1,ford mustang gl\n",
      "394,44.0,4,97.0,52,2130,24.6,82,2,vw pickup\n",
      "395,32.0,4,135.0,84,2295,11.6,82,1,dodge rampage\n",
      "396,28.0,4,120.0,79,2625,18.6,82,1,ford ranger\n",
      "397,31.0,4,119.0,82,2720,19.4,82,1,chevy s-10\n"
     ]
    }
   ],
   "source": [
    "mpg.to_csv(sys.stdout)"
   ]
  },
  {
   "cell_type": "markdown",
   "metadata": {},
   "source": [
    "## JSON"
   ]
  },
  {
   "cell_type": "code",
   "execution_count": 20,
   "metadata": {
    "collapsed": true
   },
   "outputs": [],
   "source": [
    "import json"
   ]
  },
  {
   "cell_type": "code",
   "execution_count": 26,
   "metadata": {
    "collapsed": true
   },
   "outputs": [],
   "source": [
    "json_obj = \"\"\"\n",
    "{ \"zoo_animal\" : \"Lion\",\n",
    "  \"food\":[\"Meat\",\"Veggie\",\"Honey\"],\n",
    "  \"fur\":\"golden\",\n",
    "  \"clothes\":null,\n",
    "  \"diet\":[{\"zoo_animal\":\"Gazelle\",\"food\":\"grass\",\"fur\":\"brown\"}]}\n",
    "\"\"\""
   ]
  },
  {
   "cell_type": "code",
   "execution_count": 27,
   "metadata": {
    "collapsed": false
   },
   "outputs": [],
   "source": [
    "data = json.loads(json_obj)"
   ]
  },
  {
   "cell_type": "code",
   "execution_count": 28,
   "metadata": {
    "collapsed": false
   },
   "outputs": [
    {
     "data": {
      "text/plain": [
       "{u'clothes': None,\n",
       " u'diet': [{u'food': u'grass', u'fur': u'brown', u'zoo_animal': u'Gazelle'}],\n",
       " u'food': [u'Meat', u'Veggie', u'Honey'],\n",
       " u'fur': u'golden',\n",
       " u'zoo_animal': u'Lion'}"
      ]
     },
     "execution_count": 28,
     "metadata": {},
     "output_type": "execute_result"
    }
   ],
   "source": [
    "data"
   ]
  },
  {
   "cell_type": "code",
   "execution_count": 29,
   "metadata": {
    "collapsed": false
   },
   "outputs": [
    {
     "data": {
      "text/plain": [
       "'{\"food\": [\"Meat\", \"Veggie\", \"Honey\"], \"zoo_animal\": \"Lion\", \"fur\": \"golden\", \"diet\": [{\"food\": \"grass\", \"zoo_animal\": \"Gazelle\", \"fur\": \"brown\"}], \"clothes\": null}'"
      ]
     },
     "execution_count": 29,
     "metadata": {},
     "output_type": "execute_result"
    }
   ],
   "source": [
    "json.dumps(data)"
   ]
  },
  {
   "cell_type": "code",
   "execution_count": 30,
   "metadata": {
    "collapsed": true
   },
   "outputs": [],
   "source": [
    "dframe = DataFrame(data['diet'])"
   ]
  },
  {
   "cell_type": "code",
   "execution_count": 31,
   "metadata": {
    "collapsed": false
   },
   "outputs": [
    {
     "data": {
      "text/html": [
       "<div>\n",
       "<table border=\"1\" class=\"dataframe\">\n",
       "  <thead>\n",
       "    <tr style=\"text-align: right;\">\n",
       "      <th></th>\n",
       "      <th>food</th>\n",
       "      <th>fur</th>\n",
       "      <th>zoo_animal</th>\n",
       "    </tr>\n",
       "  </thead>\n",
       "  <tbody>\n",
       "    <tr>\n",
       "      <th>0</th>\n",
       "      <td>grass</td>\n",
       "      <td>brown</td>\n",
       "      <td>Gazelle</td>\n",
       "    </tr>\n",
       "  </tbody>\n",
       "</table>\n",
       "</div>"
      ],
      "text/plain": [
       "    food    fur zoo_animal\n",
       "0  grass  brown    Gazelle"
      ]
     },
     "execution_count": 31,
     "metadata": {},
     "output_type": "execute_result"
    }
   ],
   "source": [
    "dframe"
   ]
  },
  {
   "cell_type": "markdown",
   "metadata": {},
   "source": [
    "## HTML"
   ]
  },
  {
   "cell_type": "code",
   "execution_count": 33,
   "metadata": {
    "collapsed": false
   },
   "outputs": [],
   "source": [
    "from pandas import read_html"
   ]
  },
  {
   "cell_type": "code",
   "execution_count": 36,
   "metadata": {
    "collapsed": true
   },
   "outputs": [],
   "source": [
    "url = 'http://fdic.gov/bank/individual/failed/banklist.html'"
   ]
  },
  {
   "cell_type": "code",
   "execution_count": 37,
   "metadata": {
    "collapsed": true
   },
   "outputs": [],
   "source": [
    "#PIp install beautiful-soup\n",
    "#pip install html5lib"
   ]
  },
  {
   "cell_type": "markdown",
   "metadata": {},
   "source": [
    "## Merge"
   ]
  },
  {
   "cell_type": "code",
   "execution_count": 2,
   "metadata": {
    "collapsed": true
   },
   "outputs": [],
   "source": [
    "dframe1 = DataFrame({'key':['A','B','A','C','B','D'],'DataSet_1': np.arange(6)}) "
   ]
  },
  {
   "cell_type": "code",
   "execution_count": 3,
   "metadata": {
    "collapsed": false
   },
   "outputs": [
    {
     "data": {
      "text/html": [
       "<div>\n",
       "<table border=\"1\" class=\"dataframe\">\n",
       "  <thead>\n",
       "    <tr style=\"text-align: right;\">\n",
       "      <th></th>\n",
       "      <th>DataSet_1</th>\n",
       "      <th>key</th>\n",
       "    </tr>\n",
       "  </thead>\n",
       "  <tbody>\n",
       "    <tr>\n",
       "      <th>0</th>\n",
       "      <td>0</td>\n",
       "      <td>A</td>\n",
       "    </tr>\n",
       "    <tr>\n",
       "      <th>1</th>\n",
       "      <td>1</td>\n",
       "      <td>B</td>\n",
       "    </tr>\n",
       "    <tr>\n",
       "      <th>2</th>\n",
       "      <td>2</td>\n",
       "      <td>A</td>\n",
       "    </tr>\n",
       "    <tr>\n",
       "      <th>3</th>\n",
       "      <td>3</td>\n",
       "      <td>C</td>\n",
       "    </tr>\n",
       "    <tr>\n",
       "      <th>4</th>\n",
       "      <td>4</td>\n",
       "      <td>B</td>\n",
       "    </tr>\n",
       "    <tr>\n",
       "      <th>5</th>\n",
       "      <td>5</td>\n",
       "      <td>D</td>\n",
       "    </tr>\n",
       "  </tbody>\n",
       "</table>\n",
       "</div>"
      ],
      "text/plain": [
       "   DataSet_1 key\n",
       "0          0   A\n",
       "1          1   B\n",
       "2          2   A\n",
       "3          3   C\n",
       "4          4   B\n",
       "5          5   D"
      ]
     },
     "execution_count": 3,
     "metadata": {},
     "output_type": "execute_result"
    }
   ],
   "source": [
    "dframe1"
   ]
  },
  {
   "cell_type": "code",
   "execution_count": 7,
   "metadata": {
    "collapsed": true
   },
   "outputs": [],
   "source": [
    "dframe2 = DataFrame({'key':['A','B','T'],'DataSet_2': [1,2,3]})"
   ]
  },
  {
   "cell_type": "code",
   "execution_count": 8,
   "metadata": {
    "collapsed": false
   },
   "outputs": [
    {
     "data": {
      "text/html": [
       "<div>\n",
       "<table border=\"1\" class=\"dataframe\">\n",
       "  <thead>\n",
       "    <tr style=\"text-align: right;\">\n",
       "      <th></th>\n",
       "      <th>DataSet_2</th>\n",
       "      <th>key</th>\n",
       "    </tr>\n",
       "  </thead>\n",
       "  <tbody>\n",
       "    <tr>\n",
       "      <th>0</th>\n",
       "      <td>1</td>\n",
       "      <td>A</td>\n",
       "    </tr>\n",
       "    <tr>\n",
       "      <th>1</th>\n",
       "      <td>2</td>\n",
       "      <td>B</td>\n",
       "    </tr>\n",
       "    <tr>\n",
       "      <th>2</th>\n",
       "      <td>3</td>\n",
       "      <td>T</td>\n",
       "    </tr>\n",
       "  </tbody>\n",
       "</table>\n",
       "</div>"
      ],
      "text/plain": [
       "   DataSet_2 key\n",
       "0          1   A\n",
       "1          2   B\n",
       "2          3   T"
      ]
     },
     "execution_count": 8,
     "metadata": {},
     "output_type": "execute_result"
    }
   ],
   "source": [
    "dframe2"
   ]
  },
  {
   "cell_type": "code",
   "execution_count": 9,
   "metadata": {
    "collapsed": false
   },
   "outputs": [
    {
     "data": {
      "text/html": [
       "<div>\n",
       "<table border=\"1\" class=\"dataframe\">\n",
       "  <thead>\n",
       "    <tr style=\"text-align: right;\">\n",
       "      <th></th>\n",
       "      <th>DataSet_1</th>\n",
       "      <th>key</th>\n",
       "      <th>DataSet_2</th>\n",
       "    </tr>\n",
       "  </thead>\n",
       "  <tbody>\n",
       "    <tr>\n",
       "      <th>0</th>\n",
       "      <td>0</td>\n",
       "      <td>A</td>\n",
       "      <td>1</td>\n",
       "    </tr>\n",
       "    <tr>\n",
       "      <th>1</th>\n",
       "      <td>2</td>\n",
       "      <td>A</td>\n",
       "      <td>1</td>\n",
       "    </tr>\n",
       "    <tr>\n",
       "      <th>2</th>\n",
       "      <td>1</td>\n",
       "      <td>B</td>\n",
       "      <td>2</td>\n",
       "    </tr>\n",
       "    <tr>\n",
       "      <th>3</th>\n",
       "      <td>4</td>\n",
       "      <td>B</td>\n",
       "      <td>2</td>\n",
       "    </tr>\n",
       "  </tbody>\n",
       "</table>\n",
       "</div>"
      ],
      "text/plain": [
       "   DataSet_1 key  DataSet_2\n",
       "0          0   A          1\n",
       "1          2   A          1\n",
       "2          1   B          2\n",
       "3          4   B          2"
      ]
     },
     "execution_count": 9,
     "metadata": {},
     "output_type": "execute_result"
    }
   ],
   "source": [
    "pd.merge(dframe1,dframe2)"
   ]
  },
  {
   "cell_type": "code",
   "execution_count": 10,
   "metadata": {
    "collapsed": false
   },
   "outputs": [
    {
     "data": {
      "text/html": [
       "<div>\n",
       "<table border=\"1\" class=\"dataframe\">\n",
       "  <thead>\n",
       "    <tr style=\"text-align: right;\">\n",
       "      <th></th>\n",
       "      <th>DataSet_1</th>\n",
       "      <th>key</th>\n",
       "      <th>DataSet_2</th>\n",
       "    </tr>\n",
       "  </thead>\n",
       "  <tbody>\n",
       "    <tr>\n",
       "      <th>0</th>\n",
       "      <td>0</td>\n",
       "      <td>A</td>\n",
       "      <td>1</td>\n",
       "    </tr>\n",
       "    <tr>\n",
       "      <th>1</th>\n",
       "      <td>2</td>\n",
       "      <td>A</td>\n",
       "      <td>1</td>\n",
       "    </tr>\n",
       "    <tr>\n",
       "      <th>2</th>\n",
       "      <td>1</td>\n",
       "      <td>B</td>\n",
       "      <td>2</td>\n",
       "    </tr>\n",
       "    <tr>\n",
       "      <th>3</th>\n",
       "      <td>4</td>\n",
       "      <td>B</td>\n",
       "      <td>2</td>\n",
       "    </tr>\n",
       "  </tbody>\n",
       "</table>\n",
       "</div>"
      ],
      "text/plain": [
       "   DataSet_1 key  DataSet_2\n",
       "0          0   A          1\n",
       "1          2   A          1\n",
       "2          1   B          2\n",
       "3          4   B          2"
      ]
     },
     "execution_count": 10,
     "metadata": {},
     "output_type": "execute_result"
    }
   ],
   "source": [
    "pd.merge(dframe1,dframe2,on='key')"
   ]
  },
  {
   "cell_type": "code",
   "execution_count": 12,
   "metadata": {
    "collapsed": false
   },
   "outputs": [
    {
     "data": {
      "text/html": [
       "<div>\n",
       "<table border=\"1\" class=\"dataframe\">\n",
       "  <thead>\n",
       "    <tr style=\"text-align: right;\">\n",
       "      <th></th>\n",
       "      <th>DataSet_1</th>\n",
       "      <th>key</th>\n",
       "      <th>DataSet_2</th>\n",
       "    </tr>\n",
       "  </thead>\n",
       "  <tbody>\n",
       "    <tr>\n",
       "      <th>0</th>\n",
       "      <td>0</td>\n",
       "      <td>A</td>\n",
       "      <td>1</td>\n",
       "    </tr>\n",
       "    <tr>\n",
       "      <th>1</th>\n",
       "      <td>1</td>\n",
       "      <td>B</td>\n",
       "      <td>2</td>\n",
       "    </tr>\n",
       "    <tr>\n",
       "      <th>2</th>\n",
       "      <td>2</td>\n",
       "      <td>A</td>\n",
       "      <td>1</td>\n",
       "    </tr>\n",
       "    <tr>\n",
       "      <th>3</th>\n",
       "      <td>3</td>\n",
       "      <td>C</td>\n",
       "      <td>NaN</td>\n",
       "    </tr>\n",
       "    <tr>\n",
       "      <th>4</th>\n",
       "      <td>4</td>\n",
       "      <td>B</td>\n",
       "      <td>2</td>\n",
       "    </tr>\n",
       "    <tr>\n",
       "      <th>5</th>\n",
       "      <td>5</td>\n",
       "      <td>D</td>\n",
       "      <td>NaN</td>\n",
       "    </tr>\n",
       "  </tbody>\n",
       "</table>\n",
       "</div>"
      ],
      "text/plain": [
       "   DataSet_1 key  DataSet_2\n",
       "0          0   A          1\n",
       "1          1   B          2\n",
       "2          2   A          1\n",
       "3          3   C        NaN\n",
       "4          4   B          2\n",
       "5          5   D        NaN"
      ]
     },
     "execution_count": 12,
     "metadata": {},
     "output_type": "execute_result"
    }
   ],
   "source": [
    "pd.merge(dframe1,dframe2,on='key',how='left')"
   ]
  },
  {
   "cell_type": "code",
   "execution_count": 13,
   "metadata": {
    "collapsed": false
   },
   "outputs": [
    {
     "data": {
      "text/html": [
       "<div>\n",
       "<table border=\"1\" class=\"dataframe\">\n",
       "  <thead>\n",
       "    <tr style=\"text-align: right;\">\n",
       "      <th></th>\n",
       "      <th>DataSet_1</th>\n",
       "      <th>key</th>\n",
       "      <th>DataSet_2</th>\n",
       "    </tr>\n",
       "  </thead>\n",
       "  <tbody>\n",
       "    <tr>\n",
       "      <th>0</th>\n",
       "      <td>0</td>\n",
       "      <td>A</td>\n",
       "      <td>1</td>\n",
       "    </tr>\n",
       "    <tr>\n",
       "      <th>1</th>\n",
       "      <td>2</td>\n",
       "      <td>A</td>\n",
       "      <td>1</td>\n",
       "    </tr>\n",
       "    <tr>\n",
       "      <th>2</th>\n",
       "      <td>1</td>\n",
       "      <td>B</td>\n",
       "      <td>2</td>\n",
       "    </tr>\n",
       "    <tr>\n",
       "      <th>3</th>\n",
       "      <td>4</td>\n",
       "      <td>B</td>\n",
       "      <td>2</td>\n",
       "    </tr>\n",
       "    <tr>\n",
       "      <th>4</th>\n",
       "      <td>NaN</td>\n",
       "      <td>T</td>\n",
       "      <td>3</td>\n",
       "    </tr>\n",
       "  </tbody>\n",
       "</table>\n",
       "</div>"
      ],
      "text/plain": [
       "   DataSet_1 key  DataSet_2\n",
       "0          0   A          1\n",
       "1          2   A          1\n",
       "2          1   B          2\n",
       "3          4   B          2\n",
       "4        NaN   T          3"
      ]
     },
     "execution_count": 13,
     "metadata": {},
     "output_type": "execute_result"
    }
   ],
   "source": [
    "pd.merge(dframe1,dframe2,on='key',how='right')"
   ]
  },
  {
   "cell_type": "code",
   "execution_count": 14,
   "metadata": {
    "collapsed": false
   },
   "outputs": [
    {
     "data": {
      "text/html": [
       "<div>\n",
       "<table border=\"1\" class=\"dataframe\">\n",
       "  <thead>\n",
       "    <tr style=\"text-align: right;\">\n",
       "      <th></th>\n",
       "      <th>DataSet_1</th>\n",
       "      <th>key</th>\n",
       "      <th>DataSet_2</th>\n",
       "    </tr>\n",
       "  </thead>\n",
       "  <tbody>\n",
       "    <tr>\n",
       "      <th>0</th>\n",
       "      <td>0</td>\n",
       "      <td>A</td>\n",
       "      <td>1</td>\n",
       "    </tr>\n",
       "    <tr>\n",
       "      <th>1</th>\n",
       "      <td>2</td>\n",
       "      <td>A</td>\n",
       "      <td>1</td>\n",
       "    </tr>\n",
       "    <tr>\n",
       "      <th>2</th>\n",
       "      <td>1</td>\n",
       "      <td>B</td>\n",
       "      <td>2</td>\n",
       "    </tr>\n",
       "    <tr>\n",
       "      <th>3</th>\n",
       "      <td>4</td>\n",
       "      <td>B</td>\n",
       "      <td>2</td>\n",
       "    </tr>\n",
       "    <tr>\n",
       "      <th>4</th>\n",
       "      <td>3</td>\n",
       "      <td>C</td>\n",
       "      <td>NaN</td>\n",
       "    </tr>\n",
       "    <tr>\n",
       "      <th>5</th>\n",
       "      <td>5</td>\n",
       "      <td>D</td>\n",
       "      <td>NaN</td>\n",
       "    </tr>\n",
       "    <tr>\n",
       "      <th>6</th>\n",
       "      <td>NaN</td>\n",
       "      <td>T</td>\n",
       "      <td>3</td>\n",
       "    </tr>\n",
       "  </tbody>\n",
       "</table>\n",
       "</div>"
      ],
      "text/plain": [
       "   DataSet_1 key  DataSet_2\n",
       "0          0   A          1\n",
       "1          2   A          1\n",
       "2          1   B          2\n",
       "3          4   B          2\n",
       "4          3   C        NaN\n",
       "5          5   D        NaN\n",
       "6        NaN   T          3"
      ]
     },
     "execution_count": 14,
     "metadata": {},
     "output_type": "execute_result"
    }
   ],
   "source": [
    "pd.merge(dframe1,dframe2,on='key',how='outer')"
   ]
  },
  {
   "cell_type": "code",
   "execution_count": 15,
   "metadata": {
    "collapsed": true
   },
   "outputs": [],
   "source": [
    "url = 'http://pandas.pydata.org/pandas-docs/dev/generated/pandas.DataFrame.merge.html'"
   ]
  },
  {
   "cell_type": "markdown",
   "metadata": {},
   "source": [
    "## Merge on key and index"
   ]
  },
  {
   "cell_type": "code",
   "execution_count": 16,
   "metadata": {
    "collapsed": true
   },
   "outputs": [],
   "source": [
    "df3 = DataFrame({'key':['A','B','C','A'],'Data':[1,2,3,4]})\n",
    "df4 = DataFrame([6,7,8,9],index=['A','B','X','Y'])"
   ]
  },
  {
   "cell_type": "code",
   "execution_count": 17,
   "metadata": {
    "collapsed": false
   },
   "outputs": [
    {
     "data": {
      "text/html": [
       "<div>\n",
       "<table border=\"1\" class=\"dataframe\">\n",
       "  <thead>\n",
       "    <tr style=\"text-align: right;\">\n",
       "      <th></th>\n",
       "      <th>Data</th>\n",
       "      <th>key</th>\n",
       "      <th>0</th>\n",
       "    </tr>\n",
       "  </thead>\n",
       "  <tbody>\n",
       "    <tr>\n",
       "      <th>0</th>\n",
       "      <td>1</td>\n",
       "      <td>A</td>\n",
       "      <td>6</td>\n",
       "    </tr>\n",
       "    <tr>\n",
       "      <th>3</th>\n",
       "      <td>4</td>\n",
       "      <td>A</td>\n",
       "      <td>6</td>\n",
       "    </tr>\n",
       "    <tr>\n",
       "      <th>1</th>\n",
       "      <td>2</td>\n",
       "      <td>B</td>\n",
       "      <td>7</td>\n",
       "    </tr>\n",
       "  </tbody>\n",
       "</table>\n",
       "</div>"
      ],
      "text/plain": [
       "   Data key  0\n",
       "0     1   A  6\n",
       "3     4   A  6\n",
       "1     2   B  7"
      ]
     },
     "execution_count": 17,
     "metadata": {},
     "output_type": "execute_result"
    }
   ],
   "source": [
    "pd.merge(df3,df4,left_on = 'key', right_index = True)"
   ]
  },
  {
   "cell_type": "code",
   "execution_count": 18,
   "metadata": {
    "collapsed": false
   },
   "outputs": [
    {
     "data": {
      "text/html": [
       "<div>\n",
       "<table border=\"1\" class=\"dataframe\">\n",
       "  <thead>\n",
       "    <tr style=\"text-align: right;\">\n",
       "      <th></th>\n",
       "      <th>Data</th>\n",
       "      <th>key</th>\n",
       "      <th>0</th>\n",
       "    </tr>\n",
       "  </thead>\n",
       "  <tbody>\n",
       "    <tr>\n",
       "      <th>0</th>\n",
       "      <td>1</td>\n",
       "      <td>A</td>\n",
       "      <td>NaN</td>\n",
       "    </tr>\n",
       "    <tr>\n",
       "      <th>1</th>\n",
       "      <td>2</td>\n",
       "      <td>B</td>\n",
       "      <td>NaN</td>\n",
       "    </tr>\n",
       "    <tr>\n",
       "      <th>2</th>\n",
       "      <td>3</td>\n",
       "      <td>C</td>\n",
       "      <td>NaN</td>\n",
       "    </tr>\n",
       "    <tr>\n",
       "      <th>3</th>\n",
       "      <td>4</td>\n",
       "      <td>A</td>\n",
       "      <td>NaN</td>\n",
       "    </tr>\n",
       "  </tbody>\n",
       "</table>\n",
       "</div>"
      ],
      "text/plain": [
       "   Data key   0\n",
       "0     1   A NaN\n",
       "1     2   B NaN\n",
       "2     3   C NaN\n",
       "3     4   A NaN"
      ]
     },
     "execution_count": 18,
     "metadata": {},
     "output_type": "execute_result"
    }
   ],
   "source": [
    "df3.join(df4)"
   ]
  },
  {
   "cell_type": "markdown",
   "metadata": {},
   "source": [
    "## Concatenate"
   ]
  },
  {
   "cell_type": "code",
   "execution_count": 19,
   "metadata": {
    "collapsed": false
   },
   "outputs": [
    {
     "data": {
      "text/plain": [
       "array([[0, 1, 2],\n",
       "       [3, 4, 5],\n",
       "       [6, 7, 8]])"
      ]
     },
     "execution_count": 19,
     "metadata": {},
     "output_type": "execute_result"
    }
   ],
   "source": [
    "arr = np.arange(9).reshape(3,3)\n",
    "\n",
    "arr"
   ]
  },
  {
   "cell_type": "code",
   "execution_count": 21,
   "metadata": {
    "collapsed": false
   },
   "outputs": [
    {
     "data": {
      "text/plain": [
       "array([[0, 1, 2, 0, 1, 2],\n",
       "       [3, 4, 5, 3, 4, 5],\n",
       "       [6, 7, 8, 6, 7, 8]])"
      ]
     },
     "execution_count": 21,
     "metadata": {},
     "output_type": "execute_result"
    }
   ],
   "source": [
    "np.concatenate([arr,arr], axis = 1)"
   ]
  },
  {
   "cell_type": "code",
   "execution_count": 22,
   "metadata": {
    "collapsed": false
   },
   "outputs": [
    {
     "data": {
      "text/plain": [
       "array([[0, 1, 2],\n",
       "       [3, 4, 5],\n",
       "       [6, 7, 8],\n",
       "       [0, 1, 2],\n",
       "       [3, 4, 5],\n",
       "       [6, 7, 8]])"
      ]
     },
     "execution_count": 22,
     "metadata": {},
     "output_type": "execute_result"
    }
   ],
   "source": [
    "np.concatenate([arr,arr], axis = 0)"
   ]
  },
  {
   "cell_type": "code",
   "execution_count": 24,
   "metadata": {
    "collapsed": false
   },
   "outputs": [],
   "source": [
    "ser1 = Series([1,2,3,4],index = ['a','b','c','d'])\n",
    "ser2 = Series([5,6,7,8],index = ['t','u','v','x'])"
   ]
  },
  {
   "cell_type": "code",
   "execution_count": 26,
   "metadata": {
    "collapsed": false
   },
   "outputs": [
    {
     "data": {
      "text/plain": [
       "a    1\n",
       "b    2\n",
       "c    3\n",
       "d    4\n",
       "t    5\n",
       "u    6\n",
       "v    7\n",
       "x    8\n",
       "dtype: int64"
      ]
     },
     "execution_count": 26,
     "metadata": {},
     "output_type": "execute_result"
    }
   ],
   "source": [
    "pd.concat([ser1,ser2])"
   ]
  },
  {
   "cell_type": "code",
   "execution_count": 27,
   "metadata": {
    "collapsed": false
   },
   "outputs": [
    {
     "data": {
      "text/html": [
       "<div>\n",
       "<table border=\"1\" class=\"dataframe\">\n",
       "  <thead>\n",
       "    <tr style=\"text-align: right;\">\n",
       "      <th></th>\n",
       "      <th>0</th>\n",
       "      <th>1</th>\n",
       "    </tr>\n",
       "  </thead>\n",
       "  <tbody>\n",
       "    <tr>\n",
       "      <th>a</th>\n",
       "      <td>1</td>\n",
       "      <td>NaN</td>\n",
       "    </tr>\n",
       "    <tr>\n",
       "      <th>b</th>\n",
       "      <td>2</td>\n",
       "      <td>NaN</td>\n",
       "    </tr>\n",
       "    <tr>\n",
       "      <th>c</th>\n",
       "      <td>3</td>\n",
       "      <td>NaN</td>\n",
       "    </tr>\n",
       "    <tr>\n",
       "      <th>d</th>\n",
       "      <td>4</td>\n",
       "      <td>NaN</td>\n",
       "    </tr>\n",
       "    <tr>\n",
       "      <th>t</th>\n",
       "      <td>NaN</td>\n",
       "      <td>5</td>\n",
       "    </tr>\n",
       "    <tr>\n",
       "      <th>u</th>\n",
       "      <td>NaN</td>\n",
       "      <td>6</td>\n",
       "    </tr>\n",
       "    <tr>\n",
       "      <th>v</th>\n",
       "      <td>NaN</td>\n",
       "      <td>7</td>\n",
       "    </tr>\n",
       "    <tr>\n",
       "      <th>x</th>\n",
       "      <td>NaN</td>\n",
       "      <td>8</td>\n",
       "    </tr>\n",
       "  </tbody>\n",
       "</table>\n",
       "</div>"
      ],
      "text/plain": [
       "    0   1\n",
       "a   1 NaN\n",
       "b   2 NaN\n",
       "c   3 NaN\n",
       "d   4 NaN\n",
       "t NaN   5\n",
       "u NaN   6\n",
       "v NaN   7\n",
       "x NaN   8"
      ]
     },
     "execution_count": 27,
     "metadata": {},
     "output_type": "execute_result"
    }
   ],
   "source": [
    "pd.concat([ser1,ser2],axis = 1)"
   ]
  },
  {
   "cell_type": "code",
   "execution_count": 28,
   "metadata": {
    "collapsed": true
   },
   "outputs": [],
   "source": [
    "url = 'http://pandas.pydata.org/pandas-docs/dev/generated/pandas.tools.merge.concat.html'"
   ]
  },
  {
   "cell_type": "markdown",
   "metadata": {},
   "source": [
    "# Combine DataFrames"
   ]
  },
  {
   "cell_type": "code",
   "execution_count": 30,
   "metadata": {
    "collapsed": false
   },
   "outputs": [],
   "source": [
    "#combine_first"
   ]
  },
  {
   "cell_type": "code",
   "execution_count": 31,
   "metadata": {
    "collapsed": true
   },
   "outputs": [],
   "source": [
    "nan = np.nan\n",
    "\n",
    "dframe1 = DataFrame({'X':[1.,nan,3.,nan],\n",
    "                     'Y':[nan,5.,nan,7.],\n",
    "                     'Z':[nan,9.,nan,11] })"
   ]
  },
  {
   "cell_type": "code",
   "execution_count": 32,
   "metadata": {
    "collapsed": true
   },
   "outputs": [],
   "source": [
    "dframe2 = DataFrame({'X':[2.,4.,nan,6.,8.],\n",
    "                     'Y':[nan,10.,12.,14.,16.]})"
   ]
  },
  {
   "cell_type": "code",
   "execution_count": 33,
   "metadata": {
    "collapsed": false
   },
   "outputs": [
    {
     "data": {
      "text/html": [
       "<div>\n",
       "<table border=\"1\" class=\"dataframe\">\n",
       "  <thead>\n",
       "    <tr style=\"text-align: right;\">\n",
       "      <th></th>\n",
       "      <th>X</th>\n",
       "      <th>Y</th>\n",
       "      <th>Z</th>\n",
       "    </tr>\n",
       "  </thead>\n",
       "  <tbody>\n",
       "    <tr>\n",
       "      <th>0</th>\n",
       "      <td>1</td>\n",
       "      <td>NaN</td>\n",
       "      <td>NaN</td>\n",
       "    </tr>\n",
       "    <tr>\n",
       "      <th>1</th>\n",
       "      <td>NaN</td>\n",
       "      <td>5</td>\n",
       "      <td>9</td>\n",
       "    </tr>\n",
       "    <tr>\n",
       "      <th>2</th>\n",
       "      <td>3</td>\n",
       "      <td>NaN</td>\n",
       "      <td>NaN</td>\n",
       "    </tr>\n",
       "    <tr>\n",
       "      <th>3</th>\n",
       "      <td>NaN</td>\n",
       "      <td>7</td>\n",
       "      <td>11</td>\n",
       "    </tr>\n",
       "  </tbody>\n",
       "</table>\n",
       "</div>"
      ],
      "text/plain": [
       "    X   Y   Z\n",
       "0   1 NaN NaN\n",
       "1 NaN   5   9\n",
       "2   3 NaN NaN\n",
       "3 NaN   7  11"
      ]
     },
     "execution_count": 33,
     "metadata": {},
     "output_type": "execute_result"
    }
   ],
   "source": [
    "dframe1"
   ]
  },
  {
   "cell_type": "code",
   "execution_count": 34,
   "metadata": {
    "collapsed": false
   },
   "outputs": [
    {
     "data": {
      "text/html": [
       "<div>\n",
       "<table border=\"1\" class=\"dataframe\">\n",
       "  <thead>\n",
       "    <tr style=\"text-align: right;\">\n",
       "      <th></th>\n",
       "      <th>X</th>\n",
       "      <th>Y</th>\n",
       "    </tr>\n",
       "  </thead>\n",
       "  <tbody>\n",
       "    <tr>\n",
       "      <th>0</th>\n",
       "      <td>2</td>\n",
       "      <td>NaN</td>\n",
       "    </tr>\n",
       "    <tr>\n",
       "      <th>1</th>\n",
       "      <td>4</td>\n",
       "      <td>10</td>\n",
       "    </tr>\n",
       "    <tr>\n",
       "      <th>2</th>\n",
       "      <td>NaN</td>\n",
       "      <td>12</td>\n",
       "    </tr>\n",
       "    <tr>\n",
       "      <th>3</th>\n",
       "      <td>6</td>\n",
       "      <td>14</td>\n",
       "    </tr>\n",
       "    <tr>\n",
       "      <th>4</th>\n",
       "      <td>8</td>\n",
       "      <td>16</td>\n",
       "    </tr>\n",
       "  </tbody>\n",
       "</table>\n",
       "</div>"
      ],
      "text/plain": [
       "    X   Y\n",
       "0   2 NaN\n",
       "1   4  10\n",
       "2 NaN  12\n",
       "3   6  14\n",
       "4   8  16"
      ]
     },
     "execution_count": 34,
     "metadata": {},
     "output_type": "execute_result"
    }
   ],
   "source": [
    "dframe2"
   ]
  },
  {
   "cell_type": "code",
   "execution_count": 35,
   "metadata": {
    "collapsed": false
   },
   "outputs": [
    {
     "data": {
      "text/html": [
       "<div>\n",
       "<table border=\"1\" class=\"dataframe\">\n",
       "  <thead>\n",
       "    <tr style=\"text-align: right;\">\n",
       "      <th></th>\n",
       "      <th>X</th>\n",
       "      <th>Y</th>\n",
       "      <th>Z</th>\n",
       "    </tr>\n",
       "  </thead>\n",
       "  <tbody>\n",
       "    <tr>\n",
       "      <th>0</th>\n",
       "      <td>1</td>\n",
       "      <td>NaN</td>\n",
       "      <td>NaN</td>\n",
       "    </tr>\n",
       "    <tr>\n",
       "      <th>1</th>\n",
       "      <td>4</td>\n",
       "      <td>5</td>\n",
       "      <td>9</td>\n",
       "    </tr>\n",
       "    <tr>\n",
       "      <th>2</th>\n",
       "      <td>3</td>\n",
       "      <td>12</td>\n",
       "      <td>NaN</td>\n",
       "    </tr>\n",
       "    <tr>\n",
       "      <th>3</th>\n",
       "      <td>6</td>\n",
       "      <td>7</td>\n",
       "      <td>11</td>\n",
       "    </tr>\n",
       "    <tr>\n",
       "      <th>4</th>\n",
       "      <td>8</td>\n",
       "      <td>16</td>\n",
       "      <td>NaN</td>\n",
       "    </tr>\n",
       "  </tbody>\n",
       "</table>\n",
       "</div>"
      ],
      "text/plain": [
       "   X   Y   Z\n",
       "0  1 NaN NaN\n",
       "1  4   5   9\n",
       "2  3  12 NaN\n",
       "3  6   7  11\n",
       "4  8  16 NaN"
      ]
     },
     "execution_count": 35,
     "metadata": {},
     "output_type": "execute_result"
    }
   ],
   "source": [
    "dframe1.combine_first(dframe2)"
   ]
  },
  {
   "cell_type": "markdown",
   "metadata": {},
   "source": [
    "## More on reshape and indexing"
   ]
  },
  {
   "cell_type": "code",
   "execution_count": 37,
   "metadata": {
    "collapsed": false
   },
   "outputs": [],
   "source": [
    "dframe1 = DataFrame(np.arange(8).reshape(2,4),\n",
    "                    index = pd.Index(['BBSR','BLR'],name='city'),\n",
    "                    columns = pd.Index(['A','B','C','D'],name = 'letter'))"
   ]
  },
  {
   "cell_type": "code",
   "execution_count": 38,
   "metadata": {
    "collapsed": false
   },
   "outputs": [
    {
     "data": {
      "text/html": [
       "<div>\n",
       "<table border=\"1\" class=\"dataframe\">\n",
       "  <thead>\n",
       "    <tr style=\"text-align: right;\">\n",
       "      <th>letter</th>\n",
       "      <th>A</th>\n",
       "      <th>B</th>\n",
       "      <th>C</th>\n",
       "      <th>D</th>\n",
       "    </tr>\n",
       "    <tr>\n",
       "      <th>city</th>\n",
       "      <th></th>\n",
       "      <th></th>\n",
       "      <th></th>\n",
       "      <th></th>\n",
       "    </tr>\n",
       "  </thead>\n",
       "  <tbody>\n",
       "    <tr>\n",
       "      <th>BBSR</th>\n",
       "      <td>0</td>\n",
       "      <td>1</td>\n",
       "      <td>2</td>\n",
       "      <td>3</td>\n",
       "    </tr>\n",
       "    <tr>\n",
       "      <th>BLR</th>\n",
       "      <td>4</td>\n",
       "      <td>5</td>\n",
       "      <td>6</td>\n",
       "      <td>7</td>\n",
       "    </tr>\n",
       "  </tbody>\n",
       "</table>\n",
       "</div>"
      ],
      "text/plain": [
       "letter  A  B  C  D\n",
       "city              \n",
       "BBSR    0  1  2  3\n",
       "BLR     4  5  6  7"
      ]
     },
     "execution_count": 38,
     "metadata": {},
     "output_type": "execute_result"
    }
   ],
   "source": [
    "dframe1"
   ]
  },
  {
   "cell_type": "code",
   "execution_count": 39,
   "metadata": {
    "collapsed": true
   },
   "outputs": [],
   "source": [
    "dframe_stck = dframe1.stack()"
   ]
  },
  {
   "cell_type": "code",
   "execution_count": 40,
   "metadata": {
    "collapsed": false
   },
   "outputs": [
    {
     "data": {
      "text/plain": [
       "city  letter\n",
       "BBSR  A         0\n",
       "      B         1\n",
       "      C         2\n",
       "      D         3\n",
       "BLR   A         4\n",
       "      B         5\n",
       "      C         6\n",
       "      D         7\n",
       "dtype: int32"
      ]
     },
     "execution_count": 40,
     "metadata": {},
     "output_type": "execute_result"
    }
   ],
   "source": [
    "dframe_stck"
   ]
  },
  {
   "cell_type": "code",
   "execution_count": 42,
   "metadata": {
    "collapsed": false
   },
   "outputs": [
    {
     "data": {
      "text/html": [
       "<div>\n",
       "<table border=\"1\" class=\"dataframe\">\n",
       "  <thead>\n",
       "    <tr style=\"text-align: right;\">\n",
       "      <th>letter</th>\n",
       "      <th>A</th>\n",
       "      <th>B</th>\n",
       "      <th>C</th>\n",
       "      <th>D</th>\n",
       "    </tr>\n",
       "    <tr>\n",
       "      <th>city</th>\n",
       "      <th></th>\n",
       "      <th></th>\n",
       "      <th></th>\n",
       "      <th></th>\n",
       "    </tr>\n",
       "  </thead>\n",
       "  <tbody>\n",
       "    <tr>\n",
       "      <th>BBSR</th>\n",
       "      <td>0</td>\n",
       "      <td>1</td>\n",
       "      <td>2</td>\n",
       "      <td>3</td>\n",
       "    </tr>\n",
       "    <tr>\n",
       "      <th>BLR</th>\n",
       "      <td>4</td>\n",
       "      <td>5</td>\n",
       "      <td>6</td>\n",
       "      <td>7</td>\n",
       "    </tr>\n",
       "  </tbody>\n",
       "</table>\n",
       "</div>"
      ],
      "text/plain": [
       "letter  A  B  C  D\n",
       "city              \n",
       "BBSR    0  1  2  3\n",
       "BLR     4  5  6  7"
      ]
     },
     "execution_count": 42,
     "metadata": {},
     "output_type": "execute_result"
    }
   ],
   "source": [
    "dframe_stck.unstack()"
   ]
  },
  {
   "cell_type": "code",
   "execution_count": 43,
   "metadata": {
    "collapsed": false
   },
   "outputs": [
    {
     "data": {
      "text/html": [
       "<div>\n",
       "<table border=\"1\" class=\"dataframe\">\n",
       "  <thead>\n",
       "    <tr style=\"text-align: right;\">\n",
       "      <th>city</th>\n",
       "      <th>BBSR</th>\n",
       "      <th>BLR</th>\n",
       "    </tr>\n",
       "    <tr>\n",
       "      <th>letter</th>\n",
       "      <th></th>\n",
       "      <th></th>\n",
       "    </tr>\n",
       "  </thead>\n",
       "  <tbody>\n",
       "    <tr>\n",
       "      <th>A</th>\n",
       "      <td>0</td>\n",
       "      <td>4</td>\n",
       "    </tr>\n",
       "    <tr>\n",
       "      <th>B</th>\n",
       "      <td>1</td>\n",
       "      <td>5</td>\n",
       "    </tr>\n",
       "    <tr>\n",
       "      <th>C</th>\n",
       "      <td>2</td>\n",
       "      <td>6</td>\n",
       "    </tr>\n",
       "    <tr>\n",
       "      <th>D</th>\n",
       "      <td>3</td>\n",
       "      <td>7</td>\n",
       "    </tr>\n",
       "  </tbody>\n",
       "</table>\n",
       "</div>"
      ],
      "text/plain": [
       "city    BBSR  BLR\n",
       "letter           \n",
       "A          0    4\n",
       "B          1    5\n",
       "C          2    6\n",
       "D          3    7"
      ]
     },
     "execution_count": 43,
     "metadata": {},
     "output_type": "execute_result"
    }
   ],
   "source": [
    "dframe_stck.unstack('city')"
   ]
  },
  {
   "cell_type": "code",
   "execution_count": 44,
   "metadata": {
    "collapsed": false
   },
   "outputs": [
    {
     "data": {
      "text/html": [
       "<div>\n",
       "<table border=\"1\" class=\"dataframe\">\n",
       "  <thead>\n",
       "    <tr style=\"text-align: right;\">\n",
       "      <th>letter</th>\n",
       "      <th>A</th>\n",
       "      <th>B</th>\n",
       "      <th>C</th>\n",
       "      <th>D</th>\n",
       "    </tr>\n",
       "    <tr>\n",
       "      <th>city</th>\n",
       "      <th></th>\n",
       "      <th></th>\n",
       "      <th></th>\n",
       "      <th></th>\n",
       "    </tr>\n",
       "  </thead>\n",
       "  <tbody>\n",
       "    <tr>\n",
       "      <th>BBSR</th>\n",
       "      <td>0</td>\n",
       "      <td>1</td>\n",
       "      <td>2</td>\n",
       "      <td>3</td>\n",
       "    </tr>\n",
       "    <tr>\n",
       "      <th>BLR</th>\n",
       "      <td>4</td>\n",
       "      <td>5</td>\n",
       "      <td>6</td>\n",
       "      <td>7</td>\n",
       "    </tr>\n",
       "  </tbody>\n",
       "</table>\n",
       "</div>"
      ],
      "text/plain": [
       "letter  A  B  C  D\n",
       "city              \n",
       "BBSR    0  1  2  3\n",
       "BLR     4  5  6  7"
      ]
     },
     "execution_count": 44,
     "metadata": {},
     "output_type": "execute_result"
    }
   ],
   "source": [
    "dframe_stck.unstack('letter')"
   ]
  },
  {
   "cell_type": "code",
   "execution_count": 48,
   "metadata": {
    "collapsed": false
   },
   "outputs": [
    {
     "data": {
      "text/plain": [
       "Alpha  A    0\n",
       "       B    1\n",
       "       C    2\n",
       "Beta   P    3\n",
       "       Q    4\n",
       "       R    5\n",
       "dtype: int64"
      ]
     },
     "execution_count": 48,
     "metadata": {},
     "output_type": "execute_result"
    }
   ],
   "source": [
    "ser1 = Series([0,1,2],index = ['A','B','C'])\n",
    "ser2 = Series([3,4,5],index = ['P','Q','R'])\n",
    "\n",
    "dframe = pd.concat([ser1,ser2], keys= ['Alpha','Beta'])\n",
    "\n",
    "dframe"
   ]
  },
  {
   "cell_type": "code",
   "execution_count": 49,
   "metadata": {
    "collapsed": false
   },
   "outputs": [
    {
     "data": {
      "text/html": [
       "<div>\n",
       "<table border=\"1\" class=\"dataframe\">\n",
       "  <thead>\n",
       "    <tr style=\"text-align: right;\">\n",
       "      <th></th>\n",
       "      <th>A</th>\n",
       "      <th>B</th>\n",
       "      <th>C</th>\n",
       "      <th>P</th>\n",
       "      <th>Q</th>\n",
       "      <th>R</th>\n",
       "    </tr>\n",
       "  </thead>\n",
       "  <tbody>\n",
       "    <tr>\n",
       "      <th>Alpha</th>\n",
       "      <td>0</td>\n",
       "      <td>1</td>\n",
       "      <td>2</td>\n",
       "      <td>NaN</td>\n",
       "      <td>NaN</td>\n",
       "      <td>NaN</td>\n",
       "    </tr>\n",
       "    <tr>\n",
       "      <th>Beta</th>\n",
       "      <td>NaN</td>\n",
       "      <td>NaN</td>\n",
       "      <td>NaN</td>\n",
       "      <td>3</td>\n",
       "      <td>4</td>\n",
       "      <td>5</td>\n",
       "    </tr>\n",
       "  </tbody>\n",
       "</table>\n",
       "</div>"
      ],
      "text/plain": [
       "        A   B   C   P   Q   R\n",
       "Alpha   0   1   2 NaN NaN NaN\n",
       "Beta  NaN NaN NaN   3   4   5"
      ]
     },
     "execution_count": 49,
     "metadata": {},
     "output_type": "execute_result"
    }
   ],
   "source": [
    "dframe.unstack()"
   ]
  },
  {
   "cell_type": "code",
   "execution_count": 50,
   "metadata": {
    "collapsed": false
   },
   "outputs": [
    {
     "data": {
      "text/plain": [
       "Alpha  A    0\n",
       "       B    1\n",
       "       C    2\n",
       "Beta   P    3\n",
       "       Q    4\n",
       "       R    5\n",
       "dtype: float64"
      ]
     },
     "execution_count": 50,
     "metadata": {},
     "output_type": "execute_result"
    }
   ],
   "source": [
    "dframe.unstack().stack()"
   ]
  },
  {
   "cell_type": "code",
   "execution_count": null,
   "metadata": {
    "collapsed": true
   },
   "outputs": [],
   "source": [
    "dframe.unstack().stack(dropna=False)"
   ]
  },
  {
   "cell_type": "markdown",
   "metadata": {},
   "source": [
    "# PIVOT"
   ]
  },
  {
   "cell_type": "code",
   "execution_count": 52,
   "metadata": {
    "collapsed": true
   },
   "outputs": [],
   "source": [
    "#Pandas Util Testing"
   ]
  },
  {
   "cell_type": "code",
   "execution_count": 53,
   "metadata": {
    "collapsed": true
   },
   "outputs": [],
   "source": [
    "#dframe = dframe.pivot() Similar to some functions in dplyr package in R "
   ]
  },
  {
   "cell_type": "markdown",
   "metadata": {},
   "source": [
    "## Duplicates in DataFrames"
   ]
  },
  {
   "cell_type": "code",
   "execution_count": 55,
   "metadata": {
    "collapsed": false
   },
   "outputs": [],
   "source": [
    "dframe = DataFrame({'key1':['a']*2 + ['b']*3,\n",
    "                    'key2':[2,2,2,3,3] })\n",
    "                    "
   ]
  },
  {
   "cell_type": "code",
   "execution_count": 56,
   "metadata": {
    "collapsed": false
   },
   "outputs": [
    {
     "data": {
      "text/html": [
       "<div>\n",
       "<table border=\"1\" class=\"dataframe\">\n",
       "  <thead>\n",
       "    <tr style=\"text-align: right;\">\n",
       "      <th></th>\n",
       "      <th>key1</th>\n",
       "      <th>key2</th>\n",
       "    </tr>\n",
       "  </thead>\n",
       "  <tbody>\n",
       "    <tr>\n",
       "      <th>0</th>\n",
       "      <td>a</td>\n",
       "      <td>2</td>\n",
       "    </tr>\n",
       "    <tr>\n",
       "      <th>1</th>\n",
       "      <td>a</td>\n",
       "      <td>2</td>\n",
       "    </tr>\n",
       "    <tr>\n",
       "      <th>2</th>\n",
       "      <td>b</td>\n",
       "      <td>2</td>\n",
       "    </tr>\n",
       "    <tr>\n",
       "      <th>3</th>\n",
       "      <td>b</td>\n",
       "      <td>3</td>\n",
       "    </tr>\n",
       "    <tr>\n",
       "      <th>4</th>\n",
       "      <td>b</td>\n",
       "      <td>3</td>\n",
       "    </tr>\n",
       "  </tbody>\n",
       "</table>\n",
       "</div>"
      ],
      "text/plain": [
       "  key1  key2\n",
       "0    a     2\n",
       "1    a     2\n",
       "2    b     2\n",
       "3    b     3\n",
       "4    b     3"
      ]
     },
     "execution_count": 56,
     "metadata": {},
     "output_type": "execute_result"
    }
   ],
   "source": [
    "dframe"
   ]
  },
  {
   "cell_type": "code",
   "execution_count": 58,
   "metadata": {
    "collapsed": false
   },
   "outputs": [
    {
     "data": {
      "text/plain": [
       "0    False\n",
       "1     True\n",
       "2    False\n",
       "3    False\n",
       "4     True\n",
       "dtype: bool"
      ]
     },
     "execution_count": 58,
     "metadata": {},
     "output_type": "execute_result"
    }
   ],
   "source": [
    "dframe.duplicated()"
   ]
  },
  {
   "cell_type": "code",
   "execution_count": 59,
   "metadata": {
    "collapsed": false
   },
   "outputs": [
    {
     "data": {
      "text/html": [
       "<div>\n",
       "<table border=\"1\" class=\"dataframe\">\n",
       "  <thead>\n",
       "    <tr style=\"text-align: right;\">\n",
       "      <th></th>\n",
       "      <th>key1</th>\n",
       "      <th>key2</th>\n",
       "    </tr>\n",
       "  </thead>\n",
       "  <tbody>\n",
       "    <tr>\n",
       "      <th>0</th>\n",
       "      <td>a</td>\n",
       "      <td>2</td>\n",
       "    </tr>\n",
       "    <tr>\n",
       "      <th>2</th>\n",
       "      <td>b</td>\n",
       "      <td>2</td>\n",
       "    </tr>\n",
       "    <tr>\n",
       "      <th>3</th>\n",
       "      <td>b</td>\n",
       "      <td>3</td>\n",
       "    </tr>\n",
       "  </tbody>\n",
       "</table>\n",
       "</div>"
      ],
      "text/plain": [
       "  key1  key2\n",
       "0    a     2\n",
       "2    b     2\n",
       "3    b     3"
      ]
     },
     "execution_count": 59,
     "metadata": {},
     "output_type": "execute_result"
    }
   ],
   "source": [
    "dframe.drop_duplicates()"
   ]
  },
  {
   "cell_type": "code",
   "execution_count": 60,
   "metadata": {
    "collapsed": false
   },
   "outputs": [
    {
     "data": {
      "text/html": [
       "<div>\n",
       "<table border=\"1\" class=\"dataframe\">\n",
       "  <thead>\n",
       "    <tr style=\"text-align: right;\">\n",
       "      <th></th>\n",
       "      <th>key1</th>\n",
       "      <th>key2</th>\n",
       "    </tr>\n",
       "  </thead>\n",
       "  <tbody>\n",
       "    <tr>\n",
       "      <th>0</th>\n",
       "      <td>a</td>\n",
       "      <td>2</td>\n",
       "    </tr>\n",
       "    <tr>\n",
       "      <th>2</th>\n",
       "      <td>b</td>\n",
       "      <td>2</td>\n",
       "    </tr>\n",
       "  </tbody>\n",
       "</table>\n",
       "</div>"
      ],
      "text/plain": [
       "  key1  key2\n",
       "0    a     2\n",
       "2    b     2"
      ]
     },
     "execution_count": 60,
     "metadata": {},
     "output_type": "execute_result"
    }
   ],
   "source": [
    "dframe.drop_duplicates('key1')"
   ]
  },
  {
   "cell_type": "code",
   "execution_count": 61,
   "metadata": {
    "collapsed": false
   },
   "outputs": [
    {
     "data": {
      "text/html": [
       "<div>\n",
       "<table border=\"1\" class=\"dataframe\">\n",
       "  <thead>\n",
       "    <tr style=\"text-align: right;\">\n",
       "      <th></th>\n",
       "      <th>key1</th>\n",
       "      <th>key2</th>\n",
       "    </tr>\n",
       "  </thead>\n",
       "  <tbody>\n",
       "    <tr>\n",
       "      <th>1</th>\n",
       "      <td>a</td>\n",
       "      <td>2</td>\n",
       "    </tr>\n",
       "    <tr>\n",
       "      <th>4</th>\n",
       "      <td>b</td>\n",
       "      <td>3</td>\n",
       "    </tr>\n",
       "  </tbody>\n",
       "</table>\n",
       "</div>"
      ],
      "text/plain": [
       "  key1  key2\n",
       "1    a     2\n",
       "4    b     3"
      ]
     },
     "execution_count": 61,
     "metadata": {},
     "output_type": "execute_result"
    }
   ],
   "source": [
    "dframe.drop_duplicates('key1',take_last=True)"
   ]
  },
  {
   "cell_type": "code",
   "execution_count": 66,
   "metadata": {
    "collapsed": false
   },
   "outputs": [
    {
     "data": {
      "text/html": [
       "<div>\n",
       "<table border=\"1\" class=\"dataframe\">\n",
       "  <thead>\n",
       "    <tr style=\"text-align: right;\">\n",
       "      <th></th>\n",
       "      <th>Capital</th>\n",
       "      <th>State</th>\n",
       "    </tr>\n",
       "  </thead>\n",
       "  <tbody>\n",
       "    <tr>\n",
       "      <th>0</th>\n",
       "      <td>Bhubaneswar</td>\n",
       "      <td>Orissa</td>\n",
       "    </tr>\n",
       "    <tr>\n",
       "      <th>1</th>\n",
       "      <td>Bangalore</td>\n",
       "      <td>Karnataka</td>\n",
       "    </tr>\n",
       "    <tr>\n",
       "      <th>2</th>\n",
       "      <td>Mumbai</td>\n",
       "      <td>Maharastra</td>\n",
       "    </tr>\n",
       "  </tbody>\n",
       "</table>\n",
       "</div>"
      ],
      "text/plain": [
       "       Capital       State\n",
       "0  Bhubaneswar      Orissa\n",
       "1    Bangalore   Karnataka\n",
       "2       Mumbai  Maharastra"
      ]
     },
     "execution_count": 66,
     "metadata": {},
     "output_type": "execute_result"
    }
   ],
   "source": [
    "dframe = DataFrame({'State':['Orissa','Karnataka','Maharastra'],'Capital':['Bhubaneswar','Bangalore','Mumbai']})\n",
    "dframe"
   ]
  },
  {
   "cell_type": "code",
   "execution_count": 72,
   "metadata": {
    "collapsed": false
   },
   "outputs": [
    {
     "data": {
      "text/plain": [
       "{'Bangalore': 2000000, 'Bhubaneswar': 100000, 'Mumbai': 500000}"
      ]
     },
     "execution_count": 72,
     "metadata": {},
     "output_type": "execute_result"
    }
   ],
   "source": [
    "Pol = {'Bhubaneswar':100000,'Bangalore':2000000,'Mumbai':500000}\n",
    "Pol"
   ]
  },
  {
   "cell_type": "code",
   "execution_count": 76,
   "metadata": {
    "collapsed": false
   },
   "outputs": [
    {
     "ename": "KeyError",
     "evalue": "'Capital'",
     "output_type": "error",
     "traceback": [
      "\u001b[1;31m---------------------------------------------------------------------------\u001b[0m",
      "\u001b[1;31mKeyError\u001b[0m                                  Traceback (most recent call last)",
      "\u001b[1;32m<ipython-input-76-761f87e58210>\u001b[0m in \u001b[0;36m<module>\u001b[1;34m()\u001b[0m\n\u001b[1;32m----> 1\u001b[1;33m \u001b[0mdframe\u001b[0m\u001b[1;33m[\u001b[0m\u001b[1;34m'Population'\u001b[0m\u001b[1;33m]\u001b[0m \u001b[1;33m=\u001b[0m \u001b[0mdframe\u001b[0m\u001b[1;33m[\u001b[0m\u001b[1;34m'Capital'\u001b[0m\u001b[1;33m]\u001b[0m\u001b[1;33m.\u001b[0m\u001b[0mmap\u001b[0m\u001b[1;33m(\u001b[0m\u001b[0mPol\u001b[0m\u001b[1;33m)\u001b[0m\u001b[1;33m\u001b[0m\u001b[0m\n\u001b[0m",
      "\u001b[1;32mC:\\Users\\me\\Anaconda\\lib\\site-packages\\pandas\\core\\series.pyc\u001b[0m in \u001b[0;36m__getitem__\u001b[1;34m(self, key)\u001b[0m\n\u001b[0;32m    519\u001b[0m     \u001b[1;32mdef\u001b[0m \u001b[0m__getitem__\u001b[0m\u001b[1;33m(\u001b[0m\u001b[0mself\u001b[0m\u001b[1;33m,\u001b[0m \u001b[0mkey\u001b[0m\u001b[1;33m)\u001b[0m\u001b[1;33m:\u001b[0m\u001b[1;33m\u001b[0m\u001b[0m\n\u001b[0;32m    520\u001b[0m         \u001b[1;32mtry\u001b[0m\u001b[1;33m:\u001b[0m\u001b[1;33m\u001b[0m\u001b[0m\n\u001b[1;32m--> 521\u001b[1;33m             \u001b[0mresult\u001b[0m \u001b[1;33m=\u001b[0m \u001b[0mself\u001b[0m\u001b[1;33m.\u001b[0m\u001b[0mindex\u001b[0m\u001b[1;33m.\u001b[0m\u001b[0mget_value\u001b[0m\u001b[1;33m(\u001b[0m\u001b[0mself\u001b[0m\u001b[1;33m,\u001b[0m \u001b[0mkey\u001b[0m\u001b[1;33m)\u001b[0m\u001b[1;33m\u001b[0m\u001b[0m\n\u001b[0m\u001b[0;32m    522\u001b[0m \u001b[1;33m\u001b[0m\u001b[0m\n\u001b[0;32m    523\u001b[0m             \u001b[1;32mif\u001b[0m \u001b[1;32mnot\u001b[0m \u001b[0mnp\u001b[0m\u001b[1;33m.\u001b[0m\u001b[0misscalar\u001b[0m\u001b[1;33m(\u001b[0m\u001b[0mresult\u001b[0m\u001b[1;33m)\u001b[0m\u001b[1;33m:\u001b[0m\u001b[1;33m\u001b[0m\u001b[0m\n",
      "\u001b[1;32mC:\\Users\\me\\Anaconda\\lib\\site-packages\\pandas\\core\\index.pyc\u001b[0m in \u001b[0;36mget_value\u001b[1;34m(self, series, key)\u001b[0m\n\u001b[0;32m   1593\u001b[0m \u001b[1;33m\u001b[0m\u001b[0m\n\u001b[0;32m   1594\u001b[0m         \u001b[1;32mtry\u001b[0m\u001b[1;33m:\u001b[0m\u001b[1;33m\u001b[0m\u001b[0m\n\u001b[1;32m-> 1595\u001b[1;33m             \u001b[1;32mreturn\u001b[0m \u001b[0mself\u001b[0m\u001b[1;33m.\u001b[0m\u001b[0m_engine\u001b[0m\u001b[1;33m.\u001b[0m\u001b[0mget_value\u001b[0m\u001b[1;33m(\u001b[0m\u001b[0ms\u001b[0m\u001b[1;33m,\u001b[0m \u001b[0mk\u001b[0m\u001b[1;33m)\u001b[0m\u001b[1;33m\u001b[0m\u001b[0m\n\u001b[0m\u001b[0;32m   1596\u001b[0m         \u001b[1;32mexcept\u001b[0m \u001b[0mKeyError\u001b[0m \u001b[1;32mas\u001b[0m \u001b[0me1\u001b[0m\u001b[1;33m:\u001b[0m\u001b[1;33m\u001b[0m\u001b[0m\n\u001b[0;32m   1597\u001b[0m             \u001b[1;32mif\u001b[0m \u001b[0mlen\u001b[0m\u001b[1;33m(\u001b[0m\u001b[0mself\u001b[0m\u001b[1;33m)\u001b[0m \u001b[1;33m>\u001b[0m \u001b[1;36m0\u001b[0m \u001b[1;32mand\u001b[0m \u001b[0mself\u001b[0m\u001b[1;33m.\u001b[0m\u001b[0minferred_type\u001b[0m \u001b[1;32min\u001b[0m \u001b[1;33m[\u001b[0m\u001b[1;34m'integer'\u001b[0m\u001b[1;33m,\u001b[0m\u001b[1;34m'boolean'\u001b[0m\u001b[1;33m]\u001b[0m\u001b[1;33m:\u001b[0m\u001b[1;33m\u001b[0m\u001b[0m\n",
      "\u001b[1;32mpandas\\index.pyx\u001b[0m in \u001b[0;36mpandas.index.IndexEngine.get_value (pandas\\index.c:3113)\u001b[1;34m()\u001b[0m\n",
      "\u001b[1;32mpandas\\index.pyx\u001b[0m in \u001b[0;36mpandas.index.IndexEngine.get_value (pandas\\index.c:2844)\u001b[1;34m()\u001b[0m\n",
      "\u001b[1;32mpandas\\index.pyx\u001b[0m in \u001b[0;36mpandas.index.IndexEngine.get_loc (pandas\\index.c:3761)\u001b[1;34m()\u001b[0m\n",
      "\u001b[1;31mKeyError\u001b[0m: 'Capital'"
     ]
    }
   ],
   "source": [
    "dframe['Population'] = dframe['Capital'].map(Pol)"
   ]
  },
  {
   "cell_type": "code",
   "execution_count": 77,
   "metadata": {
    "collapsed": false
   },
   "outputs": [],
   "source": [
    "ser1 = Series([1,2,3,4,5])"
   ]
  },
  {
   "cell_type": "code",
   "execution_count": 78,
   "metadata": {
    "collapsed": false
   },
   "outputs": [
    {
     "data": {
      "text/plain": [
       "0    1\n",
       "1    2\n",
       "2    3\n",
       "3    4\n",
       "4    5\n",
       "dtype: int64"
      ]
     },
     "execution_count": 78,
     "metadata": {},
     "output_type": "execute_result"
    }
   ],
   "source": [
    "ser1"
   ]
  },
  {
   "cell_type": "code",
   "execution_count": 79,
   "metadata": {
    "collapsed": false
   },
   "outputs": [
    {
     "data": {
      "text/plain": [
       "0   NaN\n",
       "1     2\n",
       "2     3\n",
       "3     4\n",
       "4     5\n",
       "dtype: float64"
      ]
     },
     "execution_count": 79,
     "metadata": {},
     "output_type": "execute_result"
    }
   ],
   "source": [
    "ser1.replace(1,np.nan"
   ]
  },
  {
   "cell_type": "code",
   "execution_count": 80,
   "metadata": {
    "collapsed": false
   },
   "outputs": [
    {
     "data": {
      "text/plain": [
       "0    100\n",
       "1      2\n",
       "2    300\n",
       "3      4\n",
       "4      5\n",
       "dtype: int64"
      ]
     },
     "execution_count": 80,
     "metadata": {},
     "output_type": "execute_result"
    }
   ],
   "source": [
    "ser1.replace([1,3],[100,300])"
   ]
  },
  {
   "cell_type": "markdown",
   "metadata": {
    "collapsed": true
   },
   "source": [
    "## Binning"
   ]
  },
  {
   "cell_type": "code",
   "execution_count": 2,
   "metadata": {
    "collapsed": false
   },
   "outputs": [],
   "source": [
    "import numpy as np\n",
    "import pandas as pd\n",
    "from pandas import Series, DataFrame"
   ]
  },
  {
   "cell_type": "code",
   "execution_count": 3,
   "metadata": {
    "collapsed": true
   },
   "outputs": [],
   "source": [
    "years = [1990,1991,1992,2008,2012,2015,1987,1969,2013,2008,1999]"
   ]
  },
  {
   "cell_type": "code",
   "execution_count": 4,
   "metadata": {
    "collapsed": true
   },
   "outputs": [],
   "source": [
    "decade_bins = [1960,1970,1980,1990,2000,2010,2020]"
   ]
  },
  {
   "cell_type": "code",
   "execution_count": 5,
   "metadata": {
    "collapsed": true
   },
   "outputs": [],
   "source": [
    "decade_cat = pd.cut(years,decade_bins)"
   ]
  },
  {
   "cell_type": "code",
   "execution_count": 6,
   "metadata": {
    "collapsed": false
   },
   "outputs": [
    {
     "data": {
      "text/plain": [
       "[(1980, 1990], (1990, 2000], (1990, 2000], (2000, 2010], (2010, 2020], ..., (1980, 1990], (1960, 1970], (2010, 2020], (2000, 2010], (1990, 2000]]\n",
       "Length: 11\n",
       "Categories (6, object): [(1960, 1970] < (1970, 1980] < (1980, 1990] < (1990, 2000] < (2000, 2010] < (2010, 2020]]"
      ]
     },
     "execution_count": 6,
     "metadata": {},
     "output_type": "execute_result"
    }
   ],
   "source": [
    "decade_cat"
   ]
  },
  {
   "cell_type": "code",
   "execution_count": 7,
   "metadata": {
    "collapsed": false
   },
   "outputs": [
    {
     "data": {
      "text/plain": [
       "Index([u'(1960, 1970]', u'(1970, 1980]', u'(1980, 1990]', u'(1990, 2000]',\n",
       "       u'(2000, 2010]', u'(2010, 2020]'],\n",
       "      dtype='object')"
      ]
     },
     "execution_count": 7,
     "metadata": {},
     "output_type": "execute_result"
    }
   ],
   "source": [
    "decade_cat.categories"
   ]
  },
  {
   "cell_type": "code",
   "execution_count": 8,
   "metadata": {
    "collapsed": false
   },
   "outputs": [
    {
     "data": {
      "text/plain": [
       "(2010, 2020]    3\n",
       "(1990, 2000]    3\n",
       "(2000, 2010]    2\n",
       "(1980, 1990]    2\n",
       "(1960, 1970]    1\n",
       "(1970, 1980]    0\n",
       "dtype: int64"
      ]
     },
     "execution_count": 8,
     "metadata": {},
     "output_type": "execute_result"
    }
   ],
   "source": [
    "pd.value_counts(decade_cat)"
   ]
  },
  {
   "cell_type": "code",
   "execution_count": 9,
   "metadata": {
    "collapsed": false
   },
   "outputs": [
    {
     "data": {
      "text/plain": [
       "[(1969, 1992], (1969, 1992], (1969, 1992], (1992, 2015], (1992, 2015], ..., (1969, 1992], (1969, 1992], (1992, 2015], (1992, 2015], (1992, 2015]]\n",
       "Length: 11\n",
       "Categories (2, object): [(1969, 1992] < (1992, 2015]]"
      ]
     },
     "execution_count": 9,
     "metadata": {},
     "output_type": "execute_result"
    }
   ],
   "source": [
    "pd.cut(years,2,precision = 1)"
   ]
  },
  {
   "cell_type": "code",
   "execution_count": 11,
   "metadata": {
    "collapsed": true
   },
   "outputs": [],
   "source": [
    "np.random.seed(12345)"
   ]
  },
  {
   "cell_type": "code",
   "execution_count": 12,
   "metadata": {
    "collapsed": true
   },
   "outputs": [],
   "source": [
    "dframe = DataFrame(np.random.randn(1000,4))"
   ]
  },
  {
   "cell_type": "code",
   "execution_count": 13,
   "metadata": {
    "collapsed": false
   },
   "outputs": [
    {
     "data": {
      "text/html": [
       "<div>\n",
       "<table border=\"1\" class=\"dataframe\">\n",
       "  <thead>\n",
       "    <tr style=\"text-align: right;\">\n",
       "      <th></th>\n",
       "      <th>0</th>\n",
       "      <th>1</th>\n",
       "      <th>2</th>\n",
       "      <th>3</th>\n",
       "    </tr>\n",
       "  </thead>\n",
       "  <tbody>\n",
       "    <tr>\n",
       "      <th>0</th>\n",
       "      <td>-0.204708</td>\n",
       "      <td>0.478943</td>\n",
       "      <td>-0.519439</td>\n",
       "      <td>-0.555730</td>\n",
       "    </tr>\n",
       "    <tr>\n",
       "      <th>1</th>\n",
       "      <td>1.965781</td>\n",
       "      <td>1.393406</td>\n",
       "      <td>0.092908</td>\n",
       "      <td>0.281746</td>\n",
       "    </tr>\n",
       "    <tr>\n",
       "      <th>2</th>\n",
       "      <td>0.769023</td>\n",
       "      <td>1.246435</td>\n",
       "      <td>1.007189</td>\n",
       "      <td>-1.296221</td>\n",
       "    </tr>\n",
       "    <tr>\n",
       "      <th>3</th>\n",
       "      <td>0.274992</td>\n",
       "      <td>0.228913</td>\n",
       "      <td>1.352917</td>\n",
       "      <td>0.886429</td>\n",
       "    </tr>\n",
       "    <tr>\n",
       "      <th>4</th>\n",
       "      <td>-2.001637</td>\n",
       "      <td>-0.371843</td>\n",
       "      <td>1.669025</td>\n",
       "      <td>-0.438570</td>\n",
       "    </tr>\n",
       "    <tr>\n",
       "      <th>5</th>\n",
       "      <td>-0.539741</td>\n",
       "      <td>0.476985</td>\n",
       "      <td>3.248944</td>\n",
       "      <td>-1.021228</td>\n",
       "    </tr>\n",
       "    <tr>\n",
       "      <th>6</th>\n",
       "      <td>-0.577087</td>\n",
       "      <td>0.124121</td>\n",
       "      <td>0.302614</td>\n",
       "      <td>0.523772</td>\n",
       "    </tr>\n",
       "    <tr>\n",
       "      <th>7</th>\n",
       "      <td>0.000940</td>\n",
       "      <td>1.343810</td>\n",
       "      <td>-0.713544</td>\n",
       "      <td>-0.831154</td>\n",
       "    </tr>\n",
       "    <tr>\n",
       "      <th>8</th>\n",
       "      <td>-2.370232</td>\n",
       "      <td>-1.860761</td>\n",
       "      <td>-0.860757</td>\n",
       "      <td>0.560145</td>\n",
       "    </tr>\n",
       "    <tr>\n",
       "      <th>9</th>\n",
       "      <td>-1.265934</td>\n",
       "      <td>0.119827</td>\n",
       "      <td>-1.063512</td>\n",
       "      <td>0.332883</td>\n",
       "    </tr>\n",
       "    <tr>\n",
       "      <th>10</th>\n",
       "      <td>-2.359419</td>\n",
       "      <td>-0.199543</td>\n",
       "      <td>-1.541996</td>\n",
       "      <td>-0.970736</td>\n",
       "    </tr>\n",
       "    <tr>\n",
       "      <th>11</th>\n",
       "      <td>-1.307030</td>\n",
       "      <td>0.286350</td>\n",
       "      <td>0.377984</td>\n",
       "      <td>-0.753887</td>\n",
       "    </tr>\n",
       "    <tr>\n",
       "      <th>12</th>\n",
       "      <td>0.331286</td>\n",
       "      <td>1.349742</td>\n",
       "      <td>0.069877</td>\n",
       "      <td>0.246674</td>\n",
       "    </tr>\n",
       "    <tr>\n",
       "      <th>13</th>\n",
       "      <td>-0.011862</td>\n",
       "      <td>1.004812</td>\n",
       "      <td>1.327195</td>\n",
       "      <td>-0.919262</td>\n",
       "    </tr>\n",
       "    <tr>\n",
       "      <th>14</th>\n",
       "      <td>-1.549106</td>\n",
       "      <td>0.022185</td>\n",
       "      <td>0.758363</td>\n",
       "      <td>-0.660524</td>\n",
       "    </tr>\n",
       "    <tr>\n",
       "      <th>15</th>\n",
       "      <td>0.862580</td>\n",
       "      <td>-0.010032</td>\n",
       "      <td>0.050009</td>\n",
       "      <td>0.670216</td>\n",
       "    </tr>\n",
       "    <tr>\n",
       "      <th>16</th>\n",
       "      <td>0.852965</td>\n",
       "      <td>-0.955869</td>\n",
       "      <td>-0.023493</td>\n",
       "      <td>-2.304234</td>\n",
       "    </tr>\n",
       "    <tr>\n",
       "      <th>17</th>\n",
       "      <td>-0.652469</td>\n",
       "      <td>-1.218302</td>\n",
       "      <td>-1.332610</td>\n",
       "      <td>1.074623</td>\n",
       "    </tr>\n",
       "    <tr>\n",
       "      <th>18</th>\n",
       "      <td>0.723642</td>\n",
       "      <td>0.690002</td>\n",
       "      <td>1.001543</td>\n",
       "      <td>-0.503087</td>\n",
       "    </tr>\n",
       "    <tr>\n",
       "      <th>19</th>\n",
       "      <td>-0.622274</td>\n",
       "      <td>-0.921169</td>\n",
       "      <td>-0.726213</td>\n",
       "      <td>0.222896</td>\n",
       "    </tr>\n",
       "    <tr>\n",
       "      <th>20</th>\n",
       "      <td>0.051316</td>\n",
       "      <td>-1.157719</td>\n",
       "      <td>0.816707</td>\n",
       "      <td>0.433610</td>\n",
       "    </tr>\n",
       "    <tr>\n",
       "      <th>21</th>\n",
       "      <td>1.010737</td>\n",
       "      <td>1.824875</td>\n",
       "      <td>-0.997518</td>\n",
       "      <td>0.850591</td>\n",
       "    </tr>\n",
       "    <tr>\n",
       "      <th>22</th>\n",
       "      <td>-0.131578</td>\n",
       "      <td>0.912414</td>\n",
       "      <td>0.188211</td>\n",
       "      <td>2.169461</td>\n",
       "    </tr>\n",
       "    <tr>\n",
       "      <th>23</th>\n",
       "      <td>-0.114928</td>\n",
       "      <td>2.003697</td>\n",
       "      <td>0.029610</td>\n",
       "      <td>0.795253</td>\n",
       "    </tr>\n",
       "    <tr>\n",
       "      <th>24</th>\n",
       "      <td>0.118110</td>\n",
       "      <td>-0.748532</td>\n",
       "      <td>0.584970</td>\n",
       "      <td>0.152677</td>\n",
       "    </tr>\n",
       "    <tr>\n",
       "      <th>25</th>\n",
       "      <td>-1.565657</td>\n",
       "      <td>-0.562540</td>\n",
       "      <td>-0.032664</td>\n",
       "      <td>-0.929006</td>\n",
       "    </tr>\n",
       "    <tr>\n",
       "      <th>26</th>\n",
       "      <td>-0.482573</td>\n",
       "      <td>-0.036264</td>\n",
       "      <td>1.095390</td>\n",
       "      <td>0.980928</td>\n",
       "    </tr>\n",
       "    <tr>\n",
       "      <th>27</th>\n",
       "      <td>-0.589488</td>\n",
       "      <td>1.581700</td>\n",
       "      <td>-0.528735</td>\n",
       "      <td>0.457002</td>\n",
       "    </tr>\n",
       "    <tr>\n",
       "      <th>28</th>\n",
       "      <td>0.929969</td>\n",
       "      <td>-1.569271</td>\n",
       "      <td>-1.022487</td>\n",
       "      <td>-0.402827</td>\n",
       "    </tr>\n",
       "    <tr>\n",
       "      <th>29</th>\n",
       "      <td>0.220487</td>\n",
       "      <td>-0.193401</td>\n",
       "      <td>0.669158</td>\n",
       "      <td>-1.648985</td>\n",
       "    </tr>\n",
       "    <tr>\n",
       "      <th>...</th>\n",
       "      <td>...</td>\n",
       "      <td>...</td>\n",
       "      <td>...</td>\n",
       "      <td>...</td>\n",
       "    </tr>\n",
       "    <tr>\n",
       "      <th>970</th>\n",
       "      <td>1.140886</td>\n",
       "      <td>0.113279</td>\n",
       "      <td>0.206782</td>\n",
       "      <td>-1.460094</td>\n",
       "    </tr>\n",
       "    <tr>\n",
       "      <th>971</th>\n",
       "      <td>-1.523554</td>\n",
       "      <td>-0.590572</td>\n",
       "      <td>-0.324064</td>\n",
       "      <td>0.132262</td>\n",
       "    </tr>\n",
       "    <tr>\n",
       "      <th>972</th>\n",
       "      <td>0.097878</td>\n",
       "      <td>1.244456</td>\n",
       "      <td>-0.048534</td>\n",
       "      <td>-1.091849</td>\n",
       "    </tr>\n",
       "    <tr>\n",
       "      <th>973</th>\n",
       "      <td>-0.738296</td>\n",
       "      <td>0.115881</td>\n",
       "      <td>0.016253</td>\n",
       "      <td>-1.243078</td>\n",
       "    </tr>\n",
       "    <tr>\n",
       "      <th>974</th>\n",
       "      <td>-1.969172</td>\n",
       "      <td>-1.141360</td>\n",
       "      <td>0.405558</td>\n",
       "      <td>-0.521155</td>\n",
       "    </tr>\n",
       "    <tr>\n",
       "      <th>975</th>\n",
       "      <td>-0.813280</td>\n",
       "      <td>-0.461413</td>\n",
       "      <td>1.159668</td>\n",
       "      <td>-0.307670</td>\n",
       "    </tr>\n",
       "    <tr>\n",
       "      <th>976</th>\n",
       "      <td>0.669147</td>\n",
       "      <td>0.397355</td>\n",
       "      <td>0.612537</td>\n",
       "      <td>1.381155</td>\n",
       "    </tr>\n",
       "    <tr>\n",
       "      <th>977</th>\n",
       "      <td>-0.042541</td>\n",
       "      <td>1.182125</td>\n",
       "      <td>0.153036</td>\n",
       "      <td>0.075798</td>\n",
       "    </tr>\n",
       "    <tr>\n",
       "      <th>978</th>\n",
       "      <td>0.615651</td>\n",
       "      <td>-1.992291</td>\n",
       "      <td>0.963044</td>\n",
       "      <td>0.102469</td>\n",
       "    </tr>\n",
       "    <tr>\n",
       "      <th>979</th>\n",
       "      <td>0.359400</td>\n",
       "      <td>0.355787</td>\n",
       "      <td>-0.799366</td>\n",
       "      <td>1.120895</td>\n",
       "    </tr>\n",
       "    <tr>\n",
       "      <th>980</th>\n",
       "      <td>-0.261844</td>\n",
       "      <td>-0.474138</td>\n",
       "      <td>-0.112021</td>\n",
       "      <td>-0.285176</td>\n",
       "    </tr>\n",
       "    <tr>\n",
       "      <th>981</th>\n",
       "      <td>-0.136429</td>\n",
       "      <td>1.285628</td>\n",
       "      <td>0.753586</td>\n",
       "      <td>0.053410</td>\n",
       "    </tr>\n",
       "    <tr>\n",
       "      <th>982</th>\n",
       "      <td>-0.355393</td>\n",
       "      <td>0.790731</td>\n",
       "      <td>1.274794</td>\n",
       "      <td>0.233619</td>\n",
       "    </tr>\n",
       "    <tr>\n",
       "      <th>983</th>\n",
       "      <td>-1.316005</td>\n",
       "      <td>1.396082</td>\n",
       "      <td>0.336700</td>\n",
       "      <td>0.604880</td>\n",
       "    </tr>\n",
       "    <tr>\n",
       "      <th>984</th>\n",
       "      <td>0.675317</td>\n",
       "      <td>-0.060329</td>\n",
       "      <td>1.801953</td>\n",
       "      <td>-0.335099</td>\n",
       "    </tr>\n",
       "    <tr>\n",
       "      <th>985</th>\n",
       "      <td>-0.754114</td>\n",
       "      <td>0.650691</td>\n",
       "      <td>0.365401</td>\n",
       "      <td>1.367213</td>\n",
       "    </tr>\n",
       "    <tr>\n",
       "      <th>986</th>\n",
       "      <td>-0.105654</td>\n",
       "      <td>-0.001860</td>\n",
       "      <td>0.316802</td>\n",
       "      <td>-0.512542</td>\n",
       "    </tr>\n",
       "    <tr>\n",
       "      <th>987</th>\n",
       "      <td>-0.052736</td>\n",
       "      <td>-0.457225</td>\n",
       "      <td>2.452835</td>\n",
       "      <td>-1.050942</td>\n",
       "    </tr>\n",
       "    <tr>\n",
       "      <th>988</th>\n",
       "      <td>-0.172078</td>\n",
       "      <td>0.853049</td>\n",
       "      <td>-0.356263</td>\n",
       "      <td>-0.387002</td>\n",
       "    </tr>\n",
       "    <tr>\n",
       "      <th>989</th>\n",
       "      <td>0.881601</td>\n",
       "      <td>1.067288</td>\n",
       "      <td>1.079688</td>\n",
       "      <td>1.642339</td>\n",
       "    </tr>\n",
       "    <tr>\n",
       "      <th>990</th>\n",
       "      <td>-0.103672</td>\n",
       "      <td>-0.882949</td>\n",
       "      <td>-0.197357</td>\n",
       "      <td>1.336648</td>\n",
       "    </tr>\n",
       "    <tr>\n",
       "      <th>991</th>\n",
       "      <td>0.926782</td>\n",
       "      <td>-0.527103</td>\n",
       "      <td>0.633763</td>\n",
       "      <td>0.153988</td>\n",
       "    </tr>\n",
       "    <tr>\n",
       "      <th>992</th>\n",
       "      <td>-0.527754</td>\n",
       "      <td>0.815104</td>\n",
       "      <td>-0.677870</td>\n",
       "      <td>-1.466596</td>\n",
       "    </tr>\n",
       "    <tr>\n",
       "      <th>993</th>\n",
       "      <td>0.957144</td>\n",
       "      <td>0.377342</td>\n",
       "      <td>-0.383241</td>\n",
       "      <td>1.101972</td>\n",
       "    </tr>\n",
       "    <tr>\n",
       "      <th>994</th>\n",
       "      <td>1.221058</td>\n",
       "      <td>-0.326481</td>\n",
       "      <td>0.750008</td>\n",
       "      <td>0.604072</td>\n",
       "    </tr>\n",
       "    <tr>\n",
       "      <th>995</th>\n",
       "      <td>1.089085</td>\n",
       "      <td>0.251232</td>\n",
       "      <td>-1.451985</td>\n",
       "      <td>1.653126</td>\n",
       "    </tr>\n",
       "    <tr>\n",
       "      <th>996</th>\n",
       "      <td>-0.478509</td>\n",
       "      <td>-0.010663</td>\n",
       "      <td>-1.060881</td>\n",
       "      <td>-1.502870</td>\n",
       "    </tr>\n",
       "    <tr>\n",
       "      <th>997</th>\n",
       "      <td>-1.946267</td>\n",
       "      <td>1.013592</td>\n",
       "      <td>0.037333</td>\n",
       "      <td>0.133304</td>\n",
       "    </tr>\n",
       "    <tr>\n",
       "      <th>998</th>\n",
       "      <td>-1.293122</td>\n",
       "      <td>-0.322542</td>\n",
       "      <td>-0.782960</td>\n",
       "      <td>-0.303340</td>\n",
       "    </tr>\n",
       "    <tr>\n",
       "      <th>999</th>\n",
       "      <td>0.089987</td>\n",
       "      <td>0.292291</td>\n",
       "      <td>1.177706</td>\n",
       "      <td>0.882755</td>\n",
       "    </tr>\n",
       "  </tbody>\n",
       "</table>\n",
       "<p>1000 rows × 4 columns</p>\n",
       "</div>"
      ],
      "text/plain": [
       "            0         1         2         3\n",
       "0   -0.204708  0.478943 -0.519439 -0.555730\n",
       "1    1.965781  1.393406  0.092908  0.281746\n",
       "2    0.769023  1.246435  1.007189 -1.296221\n",
       "3    0.274992  0.228913  1.352917  0.886429\n",
       "4   -2.001637 -0.371843  1.669025 -0.438570\n",
       "5   -0.539741  0.476985  3.248944 -1.021228\n",
       "6   -0.577087  0.124121  0.302614  0.523772\n",
       "7    0.000940  1.343810 -0.713544 -0.831154\n",
       "8   -2.370232 -1.860761 -0.860757  0.560145\n",
       "9   -1.265934  0.119827 -1.063512  0.332883\n",
       "10  -2.359419 -0.199543 -1.541996 -0.970736\n",
       "11  -1.307030  0.286350  0.377984 -0.753887\n",
       "12   0.331286  1.349742  0.069877  0.246674\n",
       "13  -0.011862  1.004812  1.327195 -0.919262\n",
       "14  -1.549106  0.022185  0.758363 -0.660524\n",
       "15   0.862580 -0.010032  0.050009  0.670216\n",
       "16   0.852965 -0.955869 -0.023493 -2.304234\n",
       "17  -0.652469 -1.218302 -1.332610  1.074623\n",
       "18   0.723642  0.690002  1.001543 -0.503087\n",
       "19  -0.622274 -0.921169 -0.726213  0.222896\n",
       "20   0.051316 -1.157719  0.816707  0.433610\n",
       "21   1.010737  1.824875 -0.997518  0.850591\n",
       "22  -0.131578  0.912414  0.188211  2.169461\n",
       "23  -0.114928  2.003697  0.029610  0.795253\n",
       "24   0.118110 -0.748532  0.584970  0.152677\n",
       "25  -1.565657 -0.562540 -0.032664 -0.929006\n",
       "26  -0.482573 -0.036264  1.095390  0.980928\n",
       "27  -0.589488  1.581700 -0.528735  0.457002\n",
       "28   0.929969 -1.569271 -1.022487 -0.402827\n",
       "29   0.220487 -0.193401  0.669158 -1.648985\n",
       "..        ...       ...       ...       ...\n",
       "970  1.140886  0.113279  0.206782 -1.460094\n",
       "971 -1.523554 -0.590572 -0.324064  0.132262\n",
       "972  0.097878  1.244456 -0.048534 -1.091849\n",
       "973 -0.738296  0.115881  0.016253 -1.243078\n",
       "974 -1.969172 -1.141360  0.405558 -0.521155\n",
       "975 -0.813280 -0.461413  1.159668 -0.307670\n",
       "976  0.669147  0.397355  0.612537  1.381155\n",
       "977 -0.042541  1.182125  0.153036  0.075798\n",
       "978  0.615651 -1.992291  0.963044  0.102469\n",
       "979  0.359400  0.355787 -0.799366  1.120895\n",
       "980 -0.261844 -0.474138 -0.112021 -0.285176\n",
       "981 -0.136429  1.285628  0.753586  0.053410\n",
       "982 -0.355393  0.790731  1.274794  0.233619\n",
       "983 -1.316005  1.396082  0.336700  0.604880\n",
       "984  0.675317 -0.060329  1.801953 -0.335099\n",
       "985 -0.754114  0.650691  0.365401  1.367213\n",
       "986 -0.105654 -0.001860  0.316802 -0.512542\n",
       "987 -0.052736 -0.457225  2.452835 -1.050942\n",
       "988 -0.172078  0.853049 -0.356263 -0.387002\n",
       "989  0.881601  1.067288  1.079688  1.642339\n",
       "990 -0.103672 -0.882949 -0.197357  1.336648\n",
       "991  0.926782 -0.527103  0.633763  0.153988\n",
       "992 -0.527754  0.815104 -0.677870 -1.466596\n",
       "993  0.957144  0.377342 -0.383241  1.101972\n",
       "994  1.221058 -0.326481  0.750008  0.604072\n",
       "995  1.089085  0.251232 -1.451985  1.653126\n",
       "996 -0.478509 -0.010663 -1.060881 -1.502870\n",
       "997 -1.946267  1.013592  0.037333  0.133304\n",
       "998 -1.293122 -0.322542 -0.782960 -0.303340\n",
       "999  0.089987  0.292291  1.177706  0.882755\n",
       "\n",
       "[1000 rows x 4 columns]"
      ]
     },
     "execution_count": 13,
     "metadata": {},
     "output_type": "execute_result"
    }
   ],
   "source": [
    "dframe"
   ]
  },
  {
   "cell_type": "code",
   "execution_count": 14,
   "metadata": {
    "collapsed": false
   },
   "outputs": [
    {
     "data": {
      "text/html": [
       "<div>\n",
       "<table border=\"1\" class=\"dataframe\">\n",
       "  <thead>\n",
       "    <tr style=\"text-align: right;\">\n",
       "      <th></th>\n",
       "      <th>0</th>\n",
       "      <th>1</th>\n",
       "      <th>2</th>\n",
       "      <th>3</th>\n",
       "    </tr>\n",
       "  </thead>\n",
       "  <tbody>\n",
       "    <tr>\n",
       "      <th>count</th>\n",
       "      <td>1000.000000</td>\n",
       "      <td>1000.000000</td>\n",
       "      <td>1000.000000</td>\n",
       "      <td>1000.000000</td>\n",
       "    </tr>\n",
       "    <tr>\n",
       "      <th>mean</th>\n",
       "      <td>-0.067684</td>\n",
       "      <td>0.067924</td>\n",
       "      <td>0.025598</td>\n",
       "      <td>-0.002298</td>\n",
       "    </tr>\n",
       "    <tr>\n",
       "      <th>std</th>\n",
       "      <td>0.998035</td>\n",
       "      <td>0.992106</td>\n",
       "      <td>1.006835</td>\n",
       "      <td>0.996794</td>\n",
       "    </tr>\n",
       "    <tr>\n",
       "      <th>min</th>\n",
       "      <td>-3.428254</td>\n",
       "      <td>-3.548824</td>\n",
       "      <td>-3.184377</td>\n",
       "      <td>-3.745356</td>\n",
       "    </tr>\n",
       "    <tr>\n",
       "      <th>25%</th>\n",
       "      <td>-0.774890</td>\n",
       "      <td>-0.591841</td>\n",
       "      <td>-0.641675</td>\n",
       "      <td>-0.644144</td>\n",
       "    </tr>\n",
       "    <tr>\n",
       "      <th>50%</th>\n",
       "      <td>-0.116401</td>\n",
       "      <td>0.101143</td>\n",
       "      <td>0.002073</td>\n",
       "      <td>-0.013611</td>\n",
       "    </tr>\n",
       "    <tr>\n",
       "      <th>75%</th>\n",
       "      <td>0.616366</td>\n",
       "      <td>0.780282</td>\n",
       "      <td>0.680391</td>\n",
       "      <td>0.654328</td>\n",
       "    </tr>\n",
       "    <tr>\n",
       "      <th>max</th>\n",
       "      <td>3.366626</td>\n",
       "      <td>2.653656</td>\n",
       "      <td>3.260383</td>\n",
       "      <td>3.927528</td>\n",
       "    </tr>\n",
       "  </tbody>\n",
       "</table>\n",
       "</div>"
      ],
      "text/plain": [
       "                 0            1            2            3\n",
       "count  1000.000000  1000.000000  1000.000000  1000.000000\n",
       "mean     -0.067684     0.067924     0.025598    -0.002298\n",
       "std       0.998035     0.992106     1.006835     0.996794\n",
       "min      -3.428254    -3.548824    -3.184377    -3.745356\n",
       "25%      -0.774890    -0.591841    -0.641675    -0.644144\n",
       "50%      -0.116401     0.101143     0.002073    -0.013611\n",
       "75%       0.616366     0.780282     0.680391     0.654328\n",
       "max       3.366626     2.653656     3.260383     3.927528"
      ]
     },
     "execution_count": 14,
     "metadata": {},
     "output_type": "execute_result"
    }
   ],
   "source": [
    "dframe.describe()"
   ]
  },
  {
   "cell_type": "code",
   "execution_count": 15,
   "metadata": {
    "collapsed": true
   },
   "outputs": [],
   "source": [
    "col = dframe[0]"
   ]
  },
  {
   "cell_type": "code",
   "execution_count": 16,
   "metadata": {
    "collapsed": false
   },
   "outputs": [
    {
     "data": {
      "text/plain": [
       "0   -0.204708\n",
       "1    1.965781\n",
       "2    0.769023\n",
       "3    0.274992\n",
       "4   -2.001637\n",
       "Name: 0, dtype: float64"
      ]
     },
     "execution_count": 16,
     "metadata": {},
     "output_type": "execute_result"
    }
   ],
   "source": [
    "col.head()"
   ]
  },
  {
   "cell_type": "code",
   "execution_count": 18,
   "metadata": {
    "collapsed": false
   },
   "outputs": [
    {
     "data": {
      "text/plain": [
       "523   -3.428254\n",
       "900    3.366626\n",
       "Name: 0, dtype: float64"
      ]
     },
     "execution_count": 18,
     "metadata": {},
     "output_type": "execute_result"
    }
   ],
   "source": [
    "col[np.abs(col) > 3]"
   ]
  },
  {
   "cell_type": "markdown",
   "metadata": {
    "collapsed": true
   },
   "source": [
    "## GroupBY"
   ]
  },
  {
   "cell_type": "code",
   "execution_count": 2,
   "metadata": {
    "collapsed": true
   },
   "outputs": [],
   "source": [
    "animals = DataFrame(np.arange(16).reshape(4,4),columns = ['W','X','Y','Z'], index = ['Dog','Cat','Bird','Mouse'])"
   ]
  },
  {
   "cell_type": "code",
   "execution_count": 3,
   "metadata": {
    "collapsed": false
   },
   "outputs": [
    {
     "data": {
      "text/html": [
       "<div>\n",
       "<table border=\"1\" class=\"dataframe\">\n",
       "  <thead>\n",
       "    <tr style=\"text-align: right;\">\n",
       "      <th></th>\n",
       "      <th>W</th>\n",
       "      <th>X</th>\n",
       "      <th>Y</th>\n",
       "      <th>Z</th>\n",
       "    </tr>\n",
       "  </thead>\n",
       "  <tbody>\n",
       "    <tr>\n",
       "      <th>Dog</th>\n",
       "      <td>0</td>\n",
       "      <td>1</td>\n",
       "      <td>2</td>\n",
       "      <td>3</td>\n",
       "    </tr>\n",
       "    <tr>\n",
       "      <th>Cat</th>\n",
       "      <td>4</td>\n",
       "      <td>5</td>\n",
       "      <td>6</td>\n",
       "      <td>7</td>\n",
       "    </tr>\n",
       "    <tr>\n",
       "      <th>Bird</th>\n",
       "      <td>8</td>\n",
       "      <td>9</td>\n",
       "      <td>10</td>\n",
       "      <td>11</td>\n",
       "    </tr>\n",
       "    <tr>\n",
       "      <th>Mouse</th>\n",
       "      <td>12</td>\n",
       "      <td>13</td>\n",
       "      <td>14</td>\n",
       "      <td>15</td>\n",
       "    </tr>\n",
       "  </tbody>\n",
       "</table>\n",
       "</div>"
      ],
      "text/plain": [
       "        W   X   Y   Z\n",
       "Dog     0   1   2   3\n",
       "Cat     4   5   6   7\n",
       "Bird    8   9  10  11\n",
       "Mouse  12  13  14  15"
      ]
     },
     "execution_count": 3,
     "metadata": {},
     "output_type": "execute_result"
    }
   ],
   "source": [
    "animals"
   ]
  },
  {
   "cell_type": "code",
   "execution_count": 4,
   "metadata": {
    "collapsed": true
   },
   "outputs": [],
   "source": [
    "animals.ix[1:2,['W','Y']] = np.nan"
   ]
  },
  {
   "cell_type": "code",
   "execution_count": 5,
   "metadata": {
    "collapsed": false
   },
   "outputs": [
    {
     "data": {
      "text/html": [
       "<div>\n",
       "<table border=\"1\" class=\"dataframe\">\n",
       "  <thead>\n",
       "    <tr style=\"text-align: right;\">\n",
       "      <th></th>\n",
       "      <th>W</th>\n",
       "      <th>X</th>\n",
       "      <th>Y</th>\n",
       "      <th>Z</th>\n",
       "    </tr>\n",
       "  </thead>\n",
       "  <tbody>\n",
       "    <tr>\n",
       "      <th>Dog</th>\n",
       "      <td>0</td>\n",
       "      <td>1</td>\n",
       "      <td>2</td>\n",
       "      <td>3</td>\n",
       "    </tr>\n",
       "    <tr>\n",
       "      <th>Cat</th>\n",
       "      <td>NaN</td>\n",
       "      <td>5</td>\n",
       "      <td>NaN</td>\n",
       "      <td>7</td>\n",
       "    </tr>\n",
       "    <tr>\n",
       "      <th>Bird</th>\n",
       "      <td>8</td>\n",
       "      <td>9</td>\n",
       "      <td>10</td>\n",
       "      <td>11</td>\n",
       "    </tr>\n",
       "    <tr>\n",
       "      <th>Mouse</th>\n",
       "      <td>12</td>\n",
       "      <td>13</td>\n",
       "      <td>14</td>\n",
       "      <td>15</td>\n",
       "    </tr>\n",
       "  </tbody>\n",
       "</table>\n",
       "</div>"
      ],
      "text/plain": [
       "        W   X   Y   Z\n",
       "Dog     0   1   2   3\n",
       "Cat   NaN   5 NaN   7\n",
       "Bird    8   9  10  11\n",
       "Mouse  12  13  14  15"
      ]
     },
     "execution_count": 5,
     "metadata": {},
     "output_type": "execute_result"
    }
   ],
   "source": [
    "animals"
   ]
  },
  {
   "cell_type": "code",
   "execution_count": 6,
   "metadata": {
    "collapsed": true
   },
   "outputs": [],
   "source": [
    "behavior_map = {'W': 'Good','X':'Bad','Y':'Good','Z':'Bad'}"
   ]
  },
  {
   "cell_type": "code",
   "execution_count": 7,
   "metadata": {
    "collapsed": true
   },
   "outputs": [],
   "source": [
    "animals_col = animals.groupby(behavior_map, axis =1 )"
   ]
  },
  {
   "cell_type": "code",
   "execution_count": 8,
   "metadata": {
    "collapsed": false
   },
   "outputs": [
    {
     "data": {
      "text/plain": [
       "<pandas.core.groupby.DataFrameGroupBy object at 0x000000000A563748>"
      ]
     },
     "execution_count": 8,
     "metadata": {},
     "output_type": "execute_result"
    }
   ],
   "source": [
    "animals_col"
   ]
  },
  {
   "cell_type": "code",
   "execution_count": 9,
   "metadata": {
    "collapsed": false
   },
   "outputs": [
    {
     "data": {
      "text/html": [
       "<div>\n",
       "<table border=\"1\" class=\"dataframe\">\n",
       "  <thead>\n",
       "    <tr style=\"text-align: right;\">\n",
       "      <th></th>\n",
       "      <th>Bad</th>\n",
       "      <th>Good</th>\n",
       "    </tr>\n",
       "  </thead>\n",
       "  <tbody>\n",
       "    <tr>\n",
       "      <th>Dog</th>\n",
       "      <td>4</td>\n",
       "      <td>2</td>\n",
       "    </tr>\n",
       "    <tr>\n",
       "      <th>Cat</th>\n",
       "      <td>12</td>\n",
       "      <td>NaN</td>\n",
       "    </tr>\n",
       "    <tr>\n",
       "      <th>Bird</th>\n",
       "      <td>20</td>\n",
       "      <td>18</td>\n",
       "    </tr>\n",
       "    <tr>\n",
       "      <th>Mouse</th>\n",
       "      <td>28</td>\n",
       "      <td>26</td>\n",
       "    </tr>\n",
       "  </tbody>\n",
       "</table>\n",
       "</div>"
      ],
      "text/plain": [
       "       Bad  Good\n",
       "Dog      4     2\n",
       "Cat     12   NaN\n",
       "Bird    20    18\n",
       "Mouse   28    26"
      ]
     },
     "execution_count": 9,
     "metadata": {},
     "output_type": "execute_result"
    }
   ],
   "source": [
    "animals_col.sum()"
   ]
  },
  {
   "cell_type": "code",
   "execution_count": 11,
   "metadata": {
    "collapsed": false
   },
   "outputs": [
    {
     "data": {
      "text/html": [
       "<div>\n",
       "<table border=\"1\" class=\"dataframe\">\n",
       "  <thead>\n",
       "    <tr style=\"text-align: right;\">\n",
       "      <th></th>\n",
       "      <th>1</th>\n",
       "    </tr>\n",
       "  </thead>\n",
       "  <tbody>\n",
       "    <tr>\n",
       "      <th>Dog</th>\n",
       "      <td>6</td>\n",
       "    </tr>\n",
       "    <tr>\n",
       "      <th>Cat</th>\n",
       "      <td>12</td>\n",
       "    </tr>\n",
       "    <tr>\n",
       "      <th>Bird</th>\n",
       "      <td>38</td>\n",
       "    </tr>\n",
       "    <tr>\n",
       "      <th>Mouse</th>\n",
       "      <td>54</td>\n",
       "    </tr>\n",
       "  </tbody>\n",
       "</table>\n",
       "</div>"
      ],
      "text/plain": [
       "        1\n",
       "Dog     6\n",
       "Cat    12\n",
       "Bird   38\n",
       "Mouse  54"
      ]
     },
     "execution_count": 11,
     "metadata": {},
     "output_type": "execute_result"
    }
   ],
   "source": [
    "animals.groupby(len, axis = 1).sum()"
   ]
  },
  {
   "cell_type": "code",
   "execution_count": null,
   "metadata": {
    "collapsed": true
   },
   "outputs": [],
   "source": []
  }
 ],
 "metadata": {
  "kernelspec": {
   "display_name": "Python 2",
   "language": "python",
   "name": "python2"
  },
  "language_info": {
   "codemirror_mode": {
    "name": "ipython",
    "version": 2
   },
   "file_extension": ".py",
   "mimetype": "text/x-python",
   "name": "python",
   "nbconvert_exporter": "python",
   "pygments_lexer": "ipython2",
   "version": "2.7.11"
  }
 },
 "nbformat": 4,
 "nbformat_minor": 0
}
